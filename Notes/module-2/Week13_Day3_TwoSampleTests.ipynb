{
 "cells": [
  {
   "cell_type": "markdown",
   "metadata": {},
   "source": [
    "## Matched Pairs"
   ]
  },
  {
   "cell_type": "markdown",
   "metadata": {},
   "source": [
    "The first type of 2 sample test\n",
    "\n",
    "The two samples are DEPENDENT.\n",
    "\n",
    "We can match the rows. Participant A before treatment, and Participant A after the treatment"
   ]
  },
  {
   "cell_type": "markdown",
   "metadata": {},
   "source": [
    "Blood samples from n = 10 people were sent to each of two laboratories (Lab 1 and Lab 2) for cholesterol determinations. The resulting data are summarized here:\n",
    "- Sample 1 mean: 260.6\n",
    "- Sample 2 mean: 275\n",
    "- Mean of differences: -14.4\n",
    "- Standard deviation of mean:  6.77\n",
    "\n",
    "Is there a statistically significant difference at the α = 0.01 level, say, in the (population) mean cholesterol levels reported by Lab 1 and Lab 2?"
   ]
  },
  {
   "cell_type": "code",
   "execution_count": 1,
   "metadata": {},
   "outputs": [],
   "source": [
    "import numpy as np\n",
    "import pandas as pd\n",
    "from scipy import stats"
   ]
  },
  {
   "cell_type": "code",
   "execution_count": null,
   "metadata": {},
   "outputs": [],
   "source": [
    "# in this case, not before and after, but two different laboratories!\n",
    "# blood samples from the same people (therefore, matched pairs!)"
   ]
  }
 ],
 "metadata": {
  "kernelspec": {
   "display_name": "Python 3",
   "language": "python",
   "name": "python3"
  },
  "language_info": {
   "codemirror_mode": {
    "name": "ipython",
    "version": 3
   },
   "file_extension": ".py",
   "mimetype": "text/x-python",
   "name": "python",
   "nbconvert_exporter": "python",
   "pygments_lexer": "ipython3",
   "version": "3.8.3"
  }
 },
 "nbformat": 4,
 "nbformat_minor": 4
}

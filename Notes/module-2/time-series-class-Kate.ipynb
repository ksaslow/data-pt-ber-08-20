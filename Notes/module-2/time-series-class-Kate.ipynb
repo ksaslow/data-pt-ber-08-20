{
 "cells": [
  {
   "cell_type": "code",
   "execution_count": 1,
   "metadata": {},
   "outputs": [],
   "source": [
    "import numpy as np\n",
    "import pandas as pd\n",
    "import statsmodels.api as sm\n",
    "import matplotlib.pyplot as plt"
   ]
  },
  {
   "cell_type": "code",
   "execution_count": 3,
   "metadata": {},
   "outputs": [
    {
     "data": {
      "text/html": [
       "<div>\n",
       "<style scoped>\n",
       "    .dataframe tbody tr th:only-of-type {\n",
       "        vertical-align: middle;\n",
       "    }\n",
       "\n",
       "    .dataframe tbody tr th {\n",
       "        vertical-align: top;\n",
       "    }\n",
       "\n",
       "    .dataframe thead th {\n",
       "        text-align: right;\n",
       "    }\n",
       "</style>\n",
       "<table border=\"1\" class=\"dataframe\">\n",
       "  <thead>\n",
       "    <tr style=\"text-align: right;\">\n",
       "      <th></th>\n",
       "      <th>date</th>\n",
       "      <th>Temperature</th>\n",
       "      <th>Humidity</th>\n",
       "      <th>Light</th>\n",
       "      <th>CO2</th>\n",
       "      <th>HumidityRatio</th>\n",
       "      <th>Occupancy</th>\n",
       "    </tr>\n",
       "  </thead>\n",
       "  <tbody>\n",
       "    <tr>\n",
       "      <th>0</th>\n",
       "      <td>2/2/2015 14:00</td>\n",
       "      <td>23.7000</td>\n",
       "      <td>26.2720</td>\n",
       "      <td>585.200000</td>\n",
       "      <td>749.200000</td>\n",
       "      <td>0.004764</td>\n",
       "      <td>1</td>\n",
       "    </tr>\n",
       "    <tr>\n",
       "      <th>1</th>\n",
       "      <td>2/2/2015 15:00</td>\n",
       "      <td>23.7180</td>\n",
       "      <td>26.2900</td>\n",
       "      <td>578.400000</td>\n",
       "      <td>760.400000</td>\n",
       "      <td>0.004773</td>\n",
       "      <td>1</td>\n",
       "    </tr>\n",
       "    <tr>\n",
       "      <th>2</th>\n",
       "      <td>2/2/2015 16:00</td>\n",
       "      <td>23.7300</td>\n",
       "      <td>26.2300</td>\n",
       "      <td>572.666667</td>\n",
       "      <td>769.666667</td>\n",
       "      <td>0.004765</td>\n",
       "      <td>1</td>\n",
       "    </tr>\n",
       "    <tr>\n",
       "      <th>3</th>\n",
       "      <td>2/2/2015 17:00</td>\n",
       "      <td>23.7225</td>\n",
       "      <td>26.1250</td>\n",
       "      <td>493.750000</td>\n",
       "      <td>774.750000</td>\n",
       "      <td>0.004744</td>\n",
       "      <td>1</td>\n",
       "    </tr>\n",
       "    <tr>\n",
       "      <th>4</th>\n",
       "      <td>2/2/2015 18:00</td>\n",
       "      <td>23.7540</td>\n",
       "      <td>26.2000</td>\n",
       "      <td>488.600000</td>\n",
       "      <td>779.000000</td>\n",
       "      <td>0.004767</td>\n",
       "      <td>1</td>\n",
       "    </tr>\n",
       "    <tr>\n",
       "      <th>5</th>\n",
       "      <td>2/2/2015 19:00</td>\n",
       "      <td>23.7600</td>\n",
       "      <td>26.2600</td>\n",
       "      <td>568.666667</td>\n",
       "      <td>790.000000</td>\n",
       "      <td>0.004779</td>\n",
       "      <td>1</td>\n",
       "    </tr>\n",
       "    <tr>\n",
       "      <th>6</th>\n",
       "      <td>2/2/2015 20:00</td>\n",
       "      <td>23.7300</td>\n",
       "      <td>26.2900</td>\n",
       "      <td>536.333333</td>\n",
       "      <td>798.000000</td>\n",
       "      <td>0.004776</td>\n",
       "      <td>1</td>\n",
       "    </tr>\n",
       "    <tr>\n",
       "      <th>7</th>\n",
       "      <td>2/2/2015 21:00</td>\n",
       "      <td>23.7540</td>\n",
       "      <td>26.2900</td>\n",
       "      <td>509.000000</td>\n",
       "      <td>797.000000</td>\n",
       "      <td>0.004783</td>\n",
       "      <td>1</td>\n",
       "    </tr>\n",
       "    <tr>\n",
       "      <th>8</th>\n",
       "      <td>2/2/2015 22:00</td>\n",
       "      <td>23.7540</td>\n",
       "      <td>26.3500</td>\n",
       "      <td>476.000000</td>\n",
       "      <td>803.200000</td>\n",
       "      <td>0.004794</td>\n",
       "      <td>1</td>\n",
       "    </tr>\n",
       "    <tr>\n",
       "      <th>9</th>\n",
       "      <td>2/2/2015 23:00</td>\n",
       "      <td>23.7360</td>\n",
       "      <td>26.3900</td>\n",
       "      <td>510.000000</td>\n",
       "      <td>809.000000</td>\n",
       "      <td>0.004796</td>\n",
       "      <td>1</td>\n",
       "    </tr>\n",
       "    <tr>\n",
       "      <th>10</th>\n",
       "      <td>2/3/2015 0:00</td>\n",
       "      <td>23.7450</td>\n",
       "      <td>26.4450</td>\n",
       "      <td>481.500000</td>\n",
       "      <td>815.250000</td>\n",
       "      <td>0.004809</td>\n",
       "      <td>1</td>\n",
       "    </tr>\n",
       "    <tr>\n",
       "      <th>11</th>\n",
       "      <td>2/3/2015 1:00</td>\n",
       "      <td>23.7000</td>\n",
       "      <td>26.5600</td>\n",
       "      <td>481.800000</td>\n",
       "      <td>824.000000</td>\n",
       "      <td>0.004817</td>\n",
       "      <td>1</td>\n",
       "    </tr>\n",
       "    <tr>\n",
       "      <th>12</th>\n",
       "      <td>2/3/2015 2:00</td>\n",
       "      <td>23.7000</td>\n",
       "      <td>26.6000</td>\n",
       "      <td>475.250000</td>\n",
       "      <td>832.000000</td>\n",
       "      <td>0.004824</td>\n",
       "      <td>1</td>\n",
       "    </tr>\n",
       "    <tr>\n",
       "      <th>13</th>\n",
       "      <td>2/3/2015 3:00</td>\n",
       "      <td>23.7000</td>\n",
       "      <td>26.7000</td>\n",
       "      <td>469.000000</td>\n",
       "      <td>845.333333</td>\n",
       "      <td>0.004842</td>\n",
       "      <td>1</td>\n",
       "    </tr>\n",
       "    <tr>\n",
       "      <th>14</th>\n",
       "      <td>2/3/2015 4:00</td>\n",
       "      <td>23.7000</td>\n",
       "      <td>26.7740</td>\n",
       "      <td>464.000000</td>\n",
       "      <td>852.400000</td>\n",
       "      <td>0.004856</td>\n",
       "      <td>1</td>\n",
       "    </tr>\n",
       "    <tr>\n",
       "      <th>15</th>\n",
       "      <td>2/3/2015 5:00</td>\n",
       "      <td>23.7000</td>\n",
       "      <td>26.8900</td>\n",
       "      <td>464.000000</td>\n",
       "      <td>861.000000</td>\n",
       "      <td>0.004877</td>\n",
       "      <td>1</td>\n",
       "    </tr>\n",
       "    <tr>\n",
       "      <th>16</th>\n",
       "      <td>2/3/2015 6:00</td>\n",
       "      <td>23.7000</td>\n",
       "      <td>26.9725</td>\n",
       "      <td>455.000000</td>\n",
       "      <td>880.000000</td>\n",
       "      <td>0.004892</td>\n",
       "      <td>1</td>\n",
       "    </tr>\n",
       "    <tr>\n",
       "      <th>17</th>\n",
       "      <td>2/3/2015 7:00</td>\n",
       "      <td>23.6000</td>\n",
       "      <td>26.8900</td>\n",
       "      <td>454.000000</td>\n",
       "      <td>891.000000</td>\n",
       "      <td>0.004848</td>\n",
       "      <td>1</td>\n",
       "    </tr>\n",
       "    <tr>\n",
       "      <th>18</th>\n",
       "      <td>2/3/2015 8:00</td>\n",
       "      <td>23.6400</td>\n",
       "      <td>26.9760</td>\n",
       "      <td>458.000000</td>\n",
       "      <td>897.600000</td>\n",
       "      <td>0.004875</td>\n",
       "      <td>1</td>\n",
       "    </tr>\n",
       "    <tr>\n",
       "      <th>19</th>\n",
       "      <td>2/3/2015 9:00</td>\n",
       "      <td>23.6500</td>\n",
       "      <td>27.0500</td>\n",
       "      <td>464.000000</td>\n",
       "      <td>900.500000</td>\n",
       "      <td>0.004891</td>\n",
       "      <td>1</td>\n",
       "    </tr>\n",
       "  </tbody>\n",
       "</table>\n",
       "</div>"
      ],
      "text/plain": [
       "              date  Temperature  Humidity       Light         CO2  \\\n",
       "0   2/2/2015 14:00      23.7000   26.2720  585.200000  749.200000   \n",
       "1   2/2/2015 15:00      23.7180   26.2900  578.400000  760.400000   \n",
       "2   2/2/2015 16:00      23.7300   26.2300  572.666667  769.666667   \n",
       "3   2/2/2015 17:00      23.7225   26.1250  493.750000  774.750000   \n",
       "4   2/2/2015 18:00      23.7540   26.2000  488.600000  779.000000   \n",
       "5   2/2/2015 19:00      23.7600   26.2600  568.666667  790.000000   \n",
       "6   2/2/2015 20:00      23.7300   26.2900  536.333333  798.000000   \n",
       "7   2/2/2015 21:00      23.7540   26.2900  509.000000  797.000000   \n",
       "8   2/2/2015 22:00      23.7540   26.3500  476.000000  803.200000   \n",
       "9   2/2/2015 23:00      23.7360   26.3900  510.000000  809.000000   \n",
       "10   2/3/2015 0:00      23.7450   26.4450  481.500000  815.250000   \n",
       "11   2/3/2015 1:00      23.7000   26.5600  481.800000  824.000000   \n",
       "12   2/3/2015 2:00      23.7000   26.6000  475.250000  832.000000   \n",
       "13   2/3/2015 3:00      23.7000   26.7000  469.000000  845.333333   \n",
       "14   2/3/2015 4:00      23.7000   26.7740  464.000000  852.400000   \n",
       "15   2/3/2015 5:00      23.7000   26.8900  464.000000  861.000000   \n",
       "16   2/3/2015 6:00      23.7000   26.9725  455.000000  880.000000   \n",
       "17   2/3/2015 7:00      23.6000   26.8900  454.000000  891.000000   \n",
       "18   2/3/2015 8:00      23.6400   26.9760  458.000000  897.600000   \n",
       "19   2/3/2015 9:00      23.6500   27.0500  464.000000  900.500000   \n",
       "\n",
       "    HumidityRatio  Occupancy  \n",
       "0        0.004764          1  \n",
       "1        0.004773          1  \n",
       "2        0.004765          1  \n",
       "3        0.004744          1  \n",
       "4        0.004767          1  \n",
       "5        0.004779          1  \n",
       "6        0.004776          1  \n",
       "7        0.004783          1  \n",
       "8        0.004794          1  \n",
       "9        0.004796          1  \n",
       "10       0.004809          1  \n",
       "11       0.004817          1  \n",
       "12       0.004824          1  \n",
       "13       0.004842          1  \n",
       "14       0.004856          1  \n",
       "15       0.004877          1  \n",
       "16       0.004892          1  \n",
       "17       0.004848          1  \n",
       "18       0.004875          1  \n",
       "19       0.004891          1  "
      ]
     },
     "execution_count": 3,
     "metadata": {},
     "output_type": "execute_result"
    }
   ],
   "source": [
    "df = pd.read_csv('https://s3-eu-west-1.amazonaws.com/ih-materials/uploads/data-static/data/module-2/occupancy.csv')\n",
    "df.head(20)"
   ]
  },
  {
   "cell_type": "code",
   "execution_count": 4,
   "metadata": {},
   "outputs": [
    {
     "data": {
      "text/plain": [
       "0        2/2/2015 14:00\n",
       "1        2/2/2015 15:00\n",
       "2        2/2/2015 16:00\n",
       "3        2/2/2015 17:00\n",
       "4        2/2/2015 18:00\n",
       "             ...       \n",
       "2659     5/24/2015 9:00\n",
       "2660    5/24/2015 10:00\n",
       "2661    5/24/2015 11:00\n",
       "2662    5/24/2015 12:00\n",
       "2663    5/24/2015 13:00\n",
       "Name: date, Length: 2664, dtype: object"
      ]
     },
     "execution_count": 4,
     "metadata": {},
     "output_type": "execute_result"
    }
   ],
   "source": [
    "df['date']\n",
    "\n",
    "# all this is a string that contains a date measure, but python doesnt recognize yet that this is a date.\n",
    "# declare this as a datetime object"
   ]
  },
  {
   "cell_type": "markdown",
   "metadata": {},
   "source": [
    "### Declaring the date variable as a datetime object"
   ]
  },
  {
   "cell_type": "code",
   "execution_count": 5,
   "metadata": {},
   "outputs": [
    {
     "data": {
      "text/plain": [
       "0      2015-02-02 14:00:00\n",
       "1      2015-02-02 15:00:00\n",
       "2      2015-02-02 16:00:00\n",
       "3      2015-02-02 17:00:00\n",
       "4      2015-02-02 18:00:00\n",
       "               ...        \n",
       "2659   2015-05-24 09:00:00\n",
       "2660   2015-05-24 10:00:00\n",
       "2661   2015-05-24 11:00:00\n",
       "2662   2015-05-24 12:00:00\n",
       "2663   2015-05-24 13:00:00\n",
       "Name: date, Length: 2664, dtype: datetime64[ns]"
      ]
     },
     "execution_count": 5,
     "metadata": {},
     "output_type": "execute_result"
    }
   ],
   "source": [
    "df['date'] = pd.to_datetime(df['date'])\n",
    "df['date']"
   ]
  },
  {
   "cell_type": "code",
   "execution_count": 6,
   "metadata": {},
   "outputs": [
    {
     "name": "stdout",
     "output_type": "stream",
     "text": [
      "2015-07-04 00:00:00\n",
      "2001-11-09 00:00:00\n",
      "2019-02-02 15:32:00\n"
     ]
    }
   ],
   "source": [
    "# print(pd.to_datetime(\"4th of July, 2015\"))\n",
    "# print(pd.to_datetime(\"Nov 9 2001\"))\n",
    "# print(pd.to_datetime(\"February 2nd 2019 15:32\"))\n",
    "\n",
    "# note the different object formats that python is able to recognize as date-time and can change automatically with the pd.to_datetime command!\n",
    "# If there is a date format python cant deal with automatically, we will need to use \n",
    "# REGEX to deal with it! "
   ]
  },
  {
   "cell_type": "markdown",
   "metadata": {},
   "source": [
    "Formatting options for datetime objects: https://strftime.org/"
   ]
  },
  {
   "cell_type": "code",
   "execution_count": 8,
   "metadata": {},
   "outputs": [
    {
     "data": {
      "text/plain": [
       "'Sat Feb  2 15:32:00 2019'"
      ]
     },
     "execution_count": 8,
     "metadata": {},
     "output_type": "execute_result"
    }
   ],
   "source": [
    "pd.to_datetime(\"February 2nd 2019 15:32\").strftime('%B')\n",
    "pd.to_datetime(\"February 2nd 2019 15:32\").strftime('%c')\n",
    "\n",
    "# there is an internal calendar that is saved, and this internal calendar allows you to get the day of the week out of the object\n",
    "# even without specifying that it is a Saturday!\n",
    "\n",
    "# check out the .strftime method with python\n",
    "# see all search items (eg %B, %c, etc): https://strftime.org/"
   ]
  },
  {
   "cell_type": "markdown",
   "metadata": {},
   "source": [
    "### Setting a time index"
   ]
  },
  {
   "cell_type": "code",
   "execution_count": 107,
   "metadata": {},
   "outputs": [
    {
     "data": {
      "text/plain": [
       "[<matplotlib.lines.Line2D at 0x1248832b0>]"
      ]
     },
     "execution_count": 107,
     "metadata": {},
     "output_type": "execute_result"
    },
    {
     "data": {
      "image/png": "[encoded data removed]",
      "text/plain": [
       "<Figure size 864x432 with 1 Axes>"
      ]
     },
     "metadata": {
      "needs_background": "light"
     },
     "output_type": "display_data"
    }
   ],
   "source": [
    "# Without the date index\n",
    "# resizing all of the plots: \n",
    "# plt.rcParams['figure.figsize'] = (12, 6)\n",
    "plt.plot(df['Humidity'])"
   ]
  },
  {
   "cell_type": "code",
   "execution_count": 9,
   "metadata": {},
   "outputs": [
    {
     "data": {
      "text/plain": [
       "DatetimeIndex(['2015-02-02 14:00:00', '2015-02-02 15:00:00',\n",
       "               '2015-02-02 16:00:00', '2015-02-02 17:00:00',\n",
       "               '2015-02-02 18:00:00', '2015-02-02 19:00:00',\n",
       "               '2015-02-02 20:00:00', '2015-02-02 21:00:00',\n",
       "               '2015-02-02 22:00:00', '2015-02-02 23:00:00',\n",
       "               ...\n",
       "               '2015-05-24 04:00:00', '2015-05-24 05:00:00',\n",
       "               '2015-05-24 06:00:00', '2015-05-24 07:00:00',\n",
       "               '2015-05-24 08:00:00', '2015-05-24 09:00:00',\n",
       "               '2015-05-24 10:00:00', '2015-05-24 11:00:00',\n",
       "               '2015-05-24 12:00:00', '2015-05-24 13:00:00'],\n",
       "              dtype='datetime64[ns]', name='date', length=2664, freq='H')"
      ]
     },
     "execution_count": 9,
     "metadata": {},
     "output_type": "execute_result"
    }
   ],
   "source": [
    "df.index = pd.DatetimeIndex(df['date'], freq='H')\n",
    "df.index\n",
    "\n",
    "# here we are setting the date col as the index (after having reformatted it!) and setting the frequency to HOURS!"
   ]
  },
  {
   "cell_type": "code",
   "execution_count": 10,
   "metadata": {},
   "outputs": [
    {
     "data": {
      "text/html": [
       "<div>\n",
       "<style scoped>\n",
       "    .dataframe tbody tr th:only-of-type {\n",
       "        vertical-align: middle;\n",
       "    }\n",
       "\n",
       "    .dataframe tbody tr th {\n",
       "        vertical-align: top;\n",
       "    }\n",
       "\n",
       "    .dataframe thead th {\n",
       "        text-align: right;\n",
       "    }\n",
       "</style>\n",
       "<table border=\"1\" class=\"dataframe\">\n",
       "  <thead>\n",
       "    <tr style=\"text-align: right;\">\n",
       "      <th></th>\n",
       "      <th>date</th>\n",
       "      <th>Temperature</th>\n",
       "      <th>Humidity</th>\n",
       "      <th>Light</th>\n",
       "      <th>CO2</th>\n",
       "      <th>HumidityRatio</th>\n",
       "      <th>Occupancy</th>\n",
       "    </tr>\n",
       "    <tr>\n",
       "      <th>date</th>\n",
       "      <th></th>\n",
       "      <th></th>\n",
       "      <th></th>\n",
       "      <th></th>\n",
       "      <th></th>\n",
       "      <th></th>\n",
       "      <th></th>\n",
       "    </tr>\n",
       "  </thead>\n",
       "  <tbody>\n",
       "    <tr>\n",
       "      <th>2015-02-02 14:00:00</th>\n",
       "      <td>2015-02-02 14:00:00</td>\n",
       "      <td>23.7000</td>\n",
       "      <td>26.272</td>\n",
       "      <td>585.200000</td>\n",
       "      <td>749.200000</td>\n",
       "      <td>0.004764</td>\n",
       "      <td>1</td>\n",
       "    </tr>\n",
       "    <tr>\n",
       "      <th>2015-02-02 15:00:00</th>\n",
       "      <td>2015-02-02 15:00:00</td>\n",
       "      <td>23.7180</td>\n",
       "      <td>26.290</td>\n",
       "      <td>578.400000</td>\n",
       "      <td>760.400000</td>\n",
       "      <td>0.004773</td>\n",
       "      <td>1</td>\n",
       "    </tr>\n",
       "    <tr>\n",
       "      <th>2015-02-02 16:00:00</th>\n",
       "      <td>2015-02-02 16:00:00</td>\n",
       "      <td>23.7300</td>\n",
       "      <td>26.230</td>\n",
       "      <td>572.666667</td>\n",
       "      <td>769.666667</td>\n",
       "      <td>0.004765</td>\n",
       "      <td>1</td>\n",
       "    </tr>\n",
       "    <tr>\n",
       "      <th>2015-02-02 17:00:00</th>\n",
       "      <td>2015-02-02 17:00:00</td>\n",
       "      <td>23.7225</td>\n",
       "      <td>26.125</td>\n",
       "      <td>493.750000</td>\n",
       "      <td>774.750000</td>\n",
       "      <td>0.004744</td>\n",
       "      <td>1</td>\n",
       "    </tr>\n",
       "    <tr>\n",
       "      <th>2015-02-02 18:00:00</th>\n",
       "      <td>2015-02-02 18:00:00</td>\n",
       "      <td>23.7540</td>\n",
       "      <td>26.200</td>\n",
       "      <td>488.600000</td>\n",
       "      <td>779.000000</td>\n",
       "      <td>0.004767</td>\n",
       "      <td>1</td>\n",
       "    </tr>\n",
       "  </tbody>\n",
       "</table>\n",
       "</div>"
      ],
      "text/plain": [
       "                                   date  Temperature  Humidity       Light  \\\n",
       "date                                                                         \n",
       "2015-02-02 14:00:00 2015-02-02 14:00:00      23.7000    26.272  585.200000   \n",
       "2015-02-02 15:00:00 2015-02-02 15:00:00      23.7180    26.290  578.400000   \n",
       "2015-02-02 16:00:00 2015-02-02 16:00:00      23.7300    26.230  572.666667   \n",
       "2015-02-02 17:00:00 2015-02-02 17:00:00      23.7225    26.125  493.750000   \n",
       "2015-02-02 18:00:00 2015-02-02 18:00:00      23.7540    26.200  488.600000   \n",
       "\n",
       "                            CO2  HumidityRatio  Occupancy  \n",
       "date                                                       \n",
       "2015-02-02 14:00:00  749.200000       0.004764          1  \n",
       "2015-02-02 15:00:00  760.400000       0.004773          1  \n",
       "2015-02-02 16:00:00  769.666667       0.004765          1  \n",
       "2015-02-02 17:00:00  774.750000       0.004744          1  \n",
       "2015-02-02 18:00:00  779.000000       0.004767          1  "
      ]
     },
     "execution_count": 10,
     "metadata": {},
     "output_type": "execute_result"
    }
   ],
   "source": [
    "df.head()\n",
    "# make sure this time-index with hourly frequency worked\n",
    "# you have declared this df as having time series data."
   ]
  },
  {
   "cell_type": "code",
   "execution_count": 14,
   "metadata": {},
   "outputs": [
    {
     "data": {
      "image/png": "[encoded data removed]",
      "text/plain": [
       "<Figure size 1080x432 with 1 Axes>"
      ]
     },
     "metadata": {
      "needs_background": "light"
     },
     "output_type": "display_data"
    }
   ],
   "source": [
    "plt.plot(df['Humidity'])\n",
    "# now it will automatically re-plot this on the time-index\n",
    "plt.rcParams['figure.figsize']=(15,6)"
   ]
  },
  {
   "cell_type": "markdown",
   "metadata": {},
   "source": [
    "### Changing the frequency of the data (Resampling)"
   ]
  },
  {
   "cell_type": "code",
   "execution_count": 17,
   "metadata": {},
   "outputs": [
    {
     "data": {
      "text/plain": [
       "date\n",
       "2015-02-08    27.529601\n",
       "2015-02-15    24.591775\n",
       "2015-02-22    23.049012\n",
       "2015-03-01    22.288259\n",
       "2015-03-08    22.308055\n",
       "2015-03-15    22.601635\n",
       "2015-03-22    24.315943\n",
       "2015-03-29    27.812716\n",
       "2015-04-05    26.966913\n",
       "2015-04-12    30.874330\n",
       "2015-04-19    28.281236\n",
       "2015-04-26    25.749650\n",
       "2015-05-03    24.996242\n",
       "2015-05-10    24.668289\n",
       "2015-05-17    24.174230\n",
       "2015-05-24    25.638685\n",
       "Freq: W-SUN, Name: Humidity, dtype: float64"
      ]
     },
     "execution_count": 17,
     "metadata": {},
     "output_type": "execute_result"
    }
   ],
   "source": [
    "df['Humidity'].resample('W').mean()\n",
    "\n",
    "# kind of similar to a groupby, but for time series. \n",
    "# instead of hourly data, what if you want to see the avg temperature for each week. \n",
    "# use the resample method!"
   ]
  },
  {
   "cell_type": "code",
   "execution_count": 16,
   "metadata": {},
   "outputs": [],
   "source": [
    "# help(df.resample)"
   ]
  },
  {
   "cell_type": "markdown",
   "metadata": {},
   "source": [
    "Options for resampling frequency:\n",
    "    \n",
    "- B       business day frequency\n",
    "- C       custom business day frequency (experimental)\n",
    "- D       calendar day frequency\n",
    "- W       weekly frequency\n",
    "- M       month end frequency\n",
    "- SM      semi-month end frequency (15th and end of month)\n",
    "- Q       quarter end frequency\n",
    "- A       year end frequency\n",
    "- H       hourly frequency\n",
    "- T       minutely frequency\n",
    "- S       secondly frequency\n",
    "- L       milliseonds\n",
    "- U       microseconds\n",
    "- N       nanoseconds\n",
    "- and more!"
   ]
  },
  {
   "cell_type": "code",
   "execution_count": 112,
   "metadata": {},
   "outputs": [
    {
     "data": {
      "text/plain": [
       "date\n",
       "2015-02-28    24.374582\n",
       "2015-03-31    24.325819\n",
       "2015-04-30    27.677441\n",
       "2015-05-31    24.842351\n",
       "Freq: M, Name: Humidity, dtype: float64"
      ]
     },
     "execution_count": 112,
     "metadata": {},
     "output_type": "execute_result"
    }
   ],
   "source": [
    "df['Humidity'].resample('M').mean()"
   ]
  },
  {
   "cell_type": "code",
   "execution_count": 18,
   "metadata": {},
   "outputs": [
    {
     "data": {
      "text/plain": [
       "[<matplotlib.lines.Line2D at 0x126c6c0d0>]"
      ]
     },
     "execution_count": 18,
     "metadata": {},
     "output_type": "execute_result"
    },
    {
     "data": {
      "image/png": "[encoded data removed]",
      "text/plain": [
       "<Figure size 1080x432 with 1 Axes>"
      ]
     },
     "metadata": {
      "needs_background": "light"
     },
     "output_type": "display_data"
    }
   ],
   "source": [
    "plt.plot(df['Humidity'].resample('D').mean())\n",
    "# maybe you want to plot the data when you have fewer points (because of resampling!)"
   ]
  },
  {
   "cell_type": "markdown",
   "metadata": {},
   "source": [
    "## First Differencing your data"
   ]
  },
  {
   "cell_type": "code",
   "execution_count": 20,
   "metadata": {},
   "outputs": [
    {
     "name": "stdout",
     "output_type": "stream",
     "text": [
      "                                   date  Temperature   Humidity       Light  \\\n",
      "date                                                                          \n",
      "2015-02-02 14:00:00 2015-02-02 14:00:00    23.700000  26.272000  585.200000   \n",
      "2015-02-02 15:00:00 2015-02-02 15:00:00    23.718000  26.290000  578.400000   \n",
      "2015-02-02 16:00:00 2015-02-02 16:00:00    23.730000  26.230000  572.666667   \n",
      "2015-02-02 17:00:00 2015-02-02 17:00:00    23.722500  26.125000  493.750000   \n",
      "2015-02-02 18:00:00 2015-02-02 18:00:00    23.754000  26.200000  488.600000   \n",
      "...                                 ...          ...        ...         ...   \n",
      "2015-05-24 09:00:00 2015-05-24 09:00:00    24.290000  25.700000  808.000000   \n",
      "2015-05-24 10:00:00 2015-05-24 10:00:00    24.330000  25.736000  809.800000   \n",
      "2015-05-24 11:00:00 2015-05-24 11:00:00    24.330000  25.700000  817.000000   \n",
      "2015-05-24 12:00:00 2015-05-24 12:00:00    24.356667  25.700000  813.000000   \n",
      "2015-05-24 13:00:00 2015-05-24 13:00:00    24.408333  25.681667  798.000000   \n",
      "\n",
      "                             CO2  HumidityRatio  Occupancy  Humidity_diff  \n",
      "date                                                                       \n",
      "2015-02-02 14:00:00   749.200000       0.004764          1            NaN  \n",
      "2015-02-02 15:00:00   760.400000       0.004773          1       0.018000  \n",
      "2015-02-02 16:00:00   769.666667       0.004765          1      -0.060000  \n",
      "2015-02-02 17:00:00   774.750000       0.004744          1      -0.105000  \n",
      "2015-02-02 18:00:00   779.000000       0.004767          1       0.075000  \n",
      "...                          ...            ...        ...            ...  \n",
      "2015-05-24 09:00:00  1150.250000       0.004829          1      -0.152000  \n",
      "2015-05-24 10:00:00  1129.200000       0.004848          1       0.036000  \n",
      "2015-05-24 11:00:00  1125.800000       0.004841          1      -0.036000  \n",
      "2015-05-24 12:00:00  1123.000000       0.004849          1       0.000000  \n",
      "2015-05-24 13:00:00  1124.000000       0.004860          1      -0.018333  \n",
      "\n",
      "[2664 rows x 8 columns]\n"
     ]
    }
   ],
   "source": [
    "df['Humidity_diff'] = df['Humidity'].diff()\n",
    "print(df)\n",
    "# df.dropna(inplace = True) # use this to drop the first row of data since it automatically gives you the benchmark as a NaN when using the differencing method.\n",
    "\n",
    "# calculate the change from one point in time to the next point in time!\n",
    "# Will give you the change from one value to the next. Also called first differenc\n",
    "# The differencing function will work on the frequency that you've set! Meaning the difference from one day to the next, given a daily frequency"
   ]
  },
  {
   "cell_type": "markdown",
   "metadata": {},
   "source": [
    "## Decomposing Time Series data"
   ]
  },
  {
   "cell_type": "code",
   "execution_count": 28,
   "metadata": {},
   "outputs": [
    {
     "data": {
      "image/png": "[encoded data removed]",
      "text/plain": [
       "<Figure size 1080x432 with 4 Axes>"
      ]
     },
     "metadata": {
      "needs_background": "light"
     },
     "output_type": "display_data"
    }
   ],
   "source": [
    "dec = sm.tsa.seasonal_decompose(df['Humidity'])\n",
    "# Meaning, does this time series have different components? e.g. Trend? Seasonal? \n",
    "\n",
    "dec.plot()\n",
    "plt.show()\n",
    "\n",
    "# notice how the scale of these 3 components changes! \n",
    "# residual movements cannot be interpreted as relating either to the trend or seasonal components\n",
    "# notice the tiny downward spike in teh graph, that is neither in the trend or seasonal, but which are reflected in the residual component!!"
   ]
  },
  {
   "cell_type": "code",
   "execution_count": 35,
   "metadata": {},
   "outputs": [
    {
     "data": {
      "image/png": "[encoded data removed]",
      "text/plain": [
       "<Figure size 1080x432 with 4 Axes>"
      ]
     },
     "metadata": {
      "needs_background": "light"
     },
     "output_type": "display_data"
    }
   ],
   "source": [
    "dec = sm.tsa.seasonal_decompose(df['Temperature'])  \n",
    "# tsa = time series analysis\n",
    "\n",
    "dec.plot()\n",
    "plt.show()\n",
    "# see how temperature varies from humidity for example in this seasonal decompose method"
   ]
  },
  {
   "cell_type": "markdown",
   "metadata": {},
   "source": [
    "## Checking for autocorrelation"
   ]
  },
  {
   "cell_type": "code",
   "execution_count": 30,
   "metadata": {},
   "outputs": [
    {
     "data": {
      "text/plain": [
       "0.9997365675086253"
      ]
     },
     "execution_count": 30,
     "metadata": {},
     "output_type": "execute_result"
    }
   ],
   "source": [
    "df['Humidity'].autocorr()\n",
    "\n",
    "#default is t and t-1. \n",
    "# BUT you can also specify the lag within the parenthesis. Default is lag 1\n",
    "# lag1: t and t-1\n",
    "# lag 2: t and t-2\n",
    "# your lag length is the frequency you specified when you set your time index!! "
   ]
  },
  {
   "cell_type": "code",
   "execution_count": 31,
   "metadata": {},
   "outputs": [
    {
     "data": {
      "text/plain": [
       "0.9947236339033859"
      ]
     },
     "execution_count": 31,
     "metadata": {},
     "output_type": "execute_result"
    }
   ],
   "source": [
    "df['Light'].autocorr()"
   ]
  },
  {
   "cell_type": "code",
   "execution_count": 32,
   "metadata": {},
   "outputs": [
    {
     "data": {
      "text/plain": [
       "<matplotlib.axes._subplots.AxesSubplot at 0x1280726a0>"
      ]
     },
     "execution_count": 32,
     "metadata": {},
     "output_type": "execute_result"
    },
    {
     "data": {
      "image/png": "[encoded data removed]",
      "text/plain": [
       "<Figure size 1080x432 with 1 Axes>"
      ]
     },
     "metadata": {
      "needs_background": "light"
     },
     "output_type": "display_data"
    }
   ],
   "source": [
    "from pandas.plotting import lag_plot\n",
    "lag_plot(df['Humidity'])"
   ]
  },
  {
   "cell_type": "code",
   "execution_count": 33,
   "metadata": {},
   "outputs": [
    {
     "data": {
      "image/png": "[encoded data removed]",
      "text/plain": [
       "<Figure size 1080x432 with 1 Axes>"
      ]
     },
     "metadata": {
      "needs_background": "light"
     },
     "output_type": "display_data"
    }
   ],
   "source": [
    "# Autocorrelation Plot (part of the matplotlib package. Just need to give the variable and specify the lag)\n",
    "\n",
    "plt.acorr(df['Humidity'], maxlags = 5)\n",
    "plt.title(\"Autocorrelation Plot for Humidity\")\n",
    "\n",
    "  \n",
    "plt.show()  \n",
    "\n",
    "# autocorrelation at lag 0 will ALWAYS be 1 (because it is the corr of t and t). "
   ]
  },
  {
   "cell_type": "code",
   "execution_count": 34,
   "metadata": {},
   "outputs": [],
   "source": [
    "# If a variable has a very high autocorrelation, it means it is very easy to PREDICT, or to FORECAST!\n",
    "\n",
    "# in regression for example, first we started with correlation and then made a model for explainability. \n",
    "# Similar in time series, we will start with autocorrelation and then go on to the next step! (Autoregression)"
   ]
  },
  {
   "cell_type": "markdown",
   "metadata": {},
   "source": [
    "## Applying Time Series models"
   ]
  },
  {
   "cell_type": "code",
   "execution_count": 36,
   "metadata": {},
   "outputs": [
    {
     "data": {
      "text/html": [
       "<table class=\"simpletable\">\n",
       "<caption>AutoReg Model Results</caption>\n",
       "<tr>\n",
       "  <th>Dep. Variable:</th>     <td>Humidity</td>     <th>  No. Observations:  </th>   <td>2664</td>  \n",
       "</tr>\n",
       "<tr>\n",
       "  <th>Model:</th>            <td>AutoReg(1)</td>    <th>  Log Likelihood     </th> <td>3900.599</td>\n",
       "</tr>\n",
       "<tr>\n",
       "  <th>Method:</th>         <td>Conditional MLE</td> <th>  S.D. of innovations</th>   <td>0.056</td> \n",
       "</tr>\n",
       "<tr>\n",
       "  <th>Date:</th>          <td>Tue, 24 Nov 2020</td> <th>  AIC                </th>  <td>-5.765</td> \n",
       "</tr>\n",
       "<tr>\n",
       "  <th>Time:</th>              <td>21:17:38</td>     <th>  BIC                </th>  <td>-5.758</td> \n",
       "</tr>\n",
       "<tr>\n",
       "  <th>Sample:</th>           <td>02-02-2015</td>    <th>  HQIC               </th>  <td>-5.763</td> \n",
       "</tr>\n",
       "<tr>\n",
       "  <th></th>                 <td>- 05-24-2015</td>   <th>                     </th>     <td> </td>   \n",
       "</tr>\n",
       "</table>\n",
       "<table class=\"simpletable\">\n",
       "<tr>\n",
       "       <td></td>          <th>coef</th>     <th>std err</th>      <th>z</th>      <th>P>|z|</th>  <th>[0.025</th>    <th>0.975]</th>  \n",
       "</tr>\n",
       "<tr>\n",
       "  <th>intercept</th>   <td>    0.0070</td> <td>    0.011</td> <td>    0.622</td> <td> 0.534</td> <td>   -0.015</td> <td>    0.029</td>\n",
       "</tr>\n",
       "<tr>\n",
       "  <th>Humidity.L1</th> <td>    0.9997</td> <td>    0.000</td> <td> 2247.761</td> <td> 0.000</td> <td>    0.999</td> <td>    1.001</td>\n",
       "</tr>\n",
       "</table>\n",
       "<table class=\"simpletable\">\n",
       "<caption>Roots</caption>\n",
       "<tr>\n",
       "    <td></td>   <th>            Real</th>  <th>         Imaginary</th> <th>         Modulus</th>  <th>        Frequency</th>\n",
       "</tr>\n",
       "<tr>\n",
       "  <th>AR.1</th> <td>           1.0003</td> <td>          +0.0000j</td> <td>           1.0003</td> <td>           0.0000</td>\n",
       "</tr>\n",
       "</table>"
      ],
      "text/plain": [
       "<class 'statsmodels.iolib.summary.Summary'>\n",
       "\"\"\"\n",
       "                            AutoReg Model Results                             \n",
       "==============================================================================\n",
       "Dep. Variable:               Humidity   No. Observations:                 2664\n",
       "Model:                     AutoReg(1)   Log Likelihood                3900.599\n",
       "Method:               Conditional MLE   S.D. of innovations              0.056\n",
       "Date:                Tue, 24 Nov 2020   AIC                             -5.765\n",
       "Time:                        21:17:38   BIC                             -5.758\n",
       "Sample:                    02-02-2015   HQIC                            -5.763\n",
       "                         - 05-24-2015                                         \n",
       "===============================================================================\n",
       "                  coef    std err          z      P>|z|      [0.025      0.975]\n",
       "-------------------------------------------------------------------------------\n",
       "intercept       0.0070      0.011      0.622      0.534      -0.015       0.029\n",
       "Humidity.L1     0.9997      0.000   2247.761      0.000       0.999       1.001\n",
       "                                    Roots                                    \n",
       "=============================================================================\n",
       "                  Real          Imaginary           Modulus         Frequency\n",
       "-----------------------------------------------------------------------------\n",
       "AR.1            1.0003           +0.0000j            1.0003            0.0000\n",
       "-----------------------------------------------------------------------------\n",
       "\"\"\""
      ]
     },
     "execution_count": 36,
     "metadata": {},
     "output_type": "execute_result"
    }
   ],
   "source": [
    "from statsmodels.tsa.ar_model import AutoReg\n",
    "# AR(1), lags = 1\n",
    "# AR(2), lags = 2\n",
    "\n",
    "model = AutoReg(df['Humidity'], lags = 1).fit()  # defining your variable y, and the length of lags. \n",
    "model.summary()\n",
    "\n",
    "# interpretation: the z score is huge, the pval is very small, and the confidence interval shows the value being extremely close to 1."
   ]
  },
  {
   "cell_type": "code",
   "execution_count": 119,
   "metadata": {},
   "outputs": [
    {
     "name": "stdout",
     "output_type": "stream",
     "text": [
      "Help on class AutoReg in module statsmodels.tsa.ar_model:\n",
      "\n",
      "class AutoReg(statsmodels.tsa.base.tsa_model.TimeSeriesModel)\n",
      " |  AutoReg(endog, lags, trend='c', seasonal=False, exog=None, hold_back=None, period=None, missing='none')\n",
      " |  \n",
      " |  Autoregressive AR-X(p) model.\n",
      " |  \n",
      " |  Estimate an AR-X model using Conditional Maximum Likelihood (OLS).\n",
      " |  \n",
      " |  Parameters\n",
      " |  ----------\n",
      " |  endog : array_like\n",
      " |      A 1-d endogenous response variable. The independent variable.\n",
      " |  lags : {int, list[int]}\n",
      " |      The number of lags to include in the model if an integer or the\n",
      " |      list of lag indices to include.  For example, [1, 4] will only\n",
      " |      include lags 1 and 4 while lags=4 will include lags 1, 2, 3, and 4.\n",
      " |  trend : {'n', 'c', 't', 'ct'}\n",
      " |      The trend to include in the model:\n",
      " |  \n",
      " |      * 'n' - No trend.\n",
      " |      * 'c' - Constant only.\n",
      " |      * 't' - Time trend only.\n",
      " |      * 'ct' - Constant and time trend.\n",
      " |  \n",
      " |  seasonal : bool\n",
      " |      Flag indicating whether to include seasonal dummies in the model. If\n",
      " |      seasonal is True and trend includes 'c', then the first period\n",
      " |      is excluded from the seasonal terms.\n",
      " |  exog : array_like, optional\n",
      " |      Exogenous variables to include in the model. Must have the same number\n",
      " |      of observations as endog and should be aligned so that endog[i] is\n",
      " |      regressed on exog[i].\n",
      " |  hold_back : {None, int}\n",
      " |      Initial observations to exclude from the estimation sample.  If None,\n",
      " |      then hold_back is equal to the maximum lag in the model.  Set to a\n",
      " |      non-zero value to produce comparable models with different lag\n",
      " |      length.  For example, to compare the fit of a model with lags=3 and\n",
      " |      lags=1, set hold_back=3 which ensures that both models are estimated\n",
      " |      using observations 3,...,nobs. hold_back must be >= the maximum lag in\n",
      " |      the model.\n",
      " |  period : {None, int}\n",
      " |      The period of the data. Only used if seasonal is True. This parameter\n",
      " |      can be omitted if using a pandas object for endog that contains a\n",
      " |      recognized frequency.\n",
      " |  missing : str\n",
      " |      Available options are 'none', 'drop', and 'raise'. If 'none', no nan\n",
      " |      checking is done. If 'drop', any observations with nans are dropped.\n",
      " |      If 'raise', an error is raised. Default is 'none'.\n",
      " |  \n",
      " |  See Also\n",
      " |  --------\n",
      " |  statsmodels.tsa.statespace.sarimax.SARIMAX\n",
      " |      Estimation of SARIMAX models using exact likelihood and the\n",
      " |      Kalman Filter.\n",
      " |  \n",
      " |  Examples\n",
      " |  --------\n",
      " |  >>> import statsmodels.api as sm\n",
      " |  >>> from statsmodels.tsa.ar_model import AutoReg\n",
      " |  >>> data = sm.datasets.sunspots.load_pandas().data['SUNACTIVITY']\n",
      " |  >>> out = 'AIC: {0:0.3f}, HQIC: {1:0.3f}, BIC: {2:0.3f}'\n",
      " |  \n",
      " |  Start by fitting an unrestricted Seasonal AR model\n",
      " |  \n",
      " |  >>> res = AutoReg(data, lags = [1, 11, 12]).fit()\n",
      " |  >>> print(out.format(res.aic, res.hqic, res.bic))\n",
      " |  AIC: 5.945, HQIC: 5.970, BIC: 6.007\n",
      " |  \n",
      " |  An alternative used seasonal dummies\n",
      " |  \n",
      " |  >>> res = AutoReg(data, lags=1, seasonal=True, period=11).fit()\n",
      " |  >>> print(out.format(res.aic, res.hqic, res.bic))\n",
      " |  AIC: 6.017, HQIC: 6.080, BIC: 6.175\n",
      " |  \n",
      " |  Finally, both the seasonal AR structure and dummies can be included\n",
      " |  \n",
      " |  >>> res = AutoReg(data, lags=[1, 11, 12], seasonal=True, period=11).fit()\n",
      " |  >>> print(out.format(res.aic, res.hqic, res.bic))\n",
      " |  AIC: 5.884, HQIC: 5.959, BIC: 6.071\n",
      " |  \n",
      " |  Method resolution order:\n",
      " |      AutoReg\n",
      " |      statsmodels.tsa.base.tsa_model.TimeSeriesModel\n",
      " |      statsmodels.base.model.LikelihoodModel\n",
      " |      statsmodels.base.model.Model\n",
      " |      builtins.object\n",
      " |  \n",
      " |  Methods defined here:\n",
      " |  \n",
      " |  __init__(self, endog, lags, trend='c', seasonal=False, exog=None, hold_back=None, period=None, missing='none')\n",
      " |      Initialize self.  See help(type(self)) for accurate signature.\n",
      " |  \n",
      " |  fit(self, cov_type='nonrobust', cov_kwds=None, use_t=False)\n",
      " |      Estimate the model parameters.\n",
      " |      \n",
      " |      Parameters\n",
      " |      ----------\n",
      " |      cov_type : str\n",
      " |          The covariance estimator to use. The most common choices are listed\n",
      " |          below.  Supports all covariance estimators that are available\n",
      " |          in ``OLS.fit``.\n",
      " |      \n",
      " |          * 'nonrobust' - The class OLS covariance estimator that assumes\n",
      " |            homoskedasticity.\n",
      " |          * 'HC0', 'HC1', 'HC2', 'HC3' - Variants of White's\n",
      " |            (or Eiker-Huber-White) covariance estimator. `HC0` is the\n",
      " |            standard implementation.  The other make corrections to improve\n",
      " |            the finite sample performance of the heteroskedasticity robust\n",
      " |            covariance estimator.\n",
      " |          * 'HAC' - Heteroskedasticity-autocorrelation robust covariance\n",
      " |            estimation. Supports cov_kwds.\n",
      " |      \n",
      " |            - `maxlag` integer (required) : number of lags to use.\n",
      " |            - `kernel` callable or str (optional) : kernel\n",
      " |                currently available kernels are ['bartlett', 'uniform'],\n",
      " |                default is Bartlett.\n",
      " |            - `use_correction` bool (optional) : If true, use small sample\n",
      " |                correction.\n",
      " |      cov_kwds : dict, optional\n",
      " |          A dictionary of keyword arguments to pass to the covariance\n",
      " |          estimator. `nonrobust` and `HC#` do not support cov_kwds.\n",
      " |      use_t : bool, optional\n",
      " |          A flag indicating that inference should use the Student's t\n",
      " |          distribution that accounts for model degree of freedom.  If False,\n",
      " |          uses the normal distribution. If None, defers the choice to\n",
      " |          the cov_type. It also removes degree of freedom corrections from\n",
      " |          the covariance estimator when cov_type is 'nonrobust'.\n",
      " |      \n",
      " |      Returns\n",
      " |      -------\n",
      " |      AutoRegResults\n",
      " |          Estimation results.\n",
      " |      \n",
      " |      See Also\n",
      " |      --------\n",
      " |      statsmodels.regression.linear_model.OLS\n",
      " |          Ordinary Least Squares estimation.\n",
      " |      statsmodels.regression.linear_model.RegressionResults\n",
      " |          See ``get_robustcov_results`` for a detailed list of available\n",
      " |          covariance estimators and options.\n",
      " |      \n",
      " |      Notes\n",
      " |      -----\n",
      " |      Use ``OLS`` to estimate model parameters and to estimate parameter\n",
      " |      covariance.\n",
      " |  \n",
      " |  hessian(self, params)\n",
      " |      The Hessian matrix of the model.\n",
      " |      \n",
      " |      Parameters\n",
      " |      ----------\n",
      " |      params : ndarray\n",
      " |          The parameters to use when evaluating the Hessian.\n",
      " |      \n",
      " |      Returns\n",
      " |      -------\n",
      " |      ndarray\n",
      " |          The hessian evaluated at the parameters.\n",
      " |  \n",
      " |  information(self, params)\n",
      " |      Fisher information matrix of model.\n",
      " |      \n",
      " |      Returns -1 * Hessian of the log-likelihood evaluated at params.\n",
      " |      \n",
      " |      Parameters\n",
      " |      ----------\n",
      " |      params : ndarray\n",
      " |          The model parameters.\n",
      " |      \n",
      " |      Returns\n",
      " |      -------\n",
      " |      ndarray\n",
      " |          The information matrix.\n",
      " |  \n",
      " |  initialize(self)\n",
      " |      Initialize the model (no-op).\n",
      " |  \n",
      " |  loglike(self, params)\n",
      " |      Log-likelihood of model.\n",
      " |      \n",
      " |      Parameters\n",
      " |      ----------\n",
      " |      params : ndarray\n",
      " |          The model parameters used to compute the log-likelihood.\n",
      " |      \n",
      " |      Returns\n",
      " |      -------\n",
      " |      float\n",
      " |          The log-likelihood value.\n",
      " |  \n",
      " |  predict(self, params, start=None, end=None, dynamic=False, exog=None, exog_oos=None)\n",
      " |      In-sample prediction and out-of-sample forecasting.\n",
      " |      \n",
      " |      Parameters\n",
      " |      ----------\n",
      " |      params : array_like\n",
      " |          The fitted model parameters.\n",
      " |      start : int, str, or datetime, optional\n",
      " |          Zero-indexed observation number at which to start forecasting,\n",
      " |          i.e., the first forecast is start. Can also be a date string to\n",
      " |          parse or a datetime type. Default is the the zeroth observation.\n",
      " |      end : int, str, or datetime, optional\n",
      " |          Zero-indexed observation number at which to end forecasting, i.e.,\n",
      " |          the last forecast is end. Can also be a date string to\n",
      " |          parse or a datetime type. However, if the dates index does not\n",
      " |          have a fixed frequency, end must be an integer index if you\n",
      " |          want out-of-sample prediction. Default is the last observation in\n",
      " |          the sample. Unlike standard python slices, end is inclusive so\n",
      " |          that all the predictions [start, start+1, ..., end-1, end] are\n",
      " |          returned.\n",
      " |      dynamic : {bool, int, str, datetime, Timestamp}, optional\n",
      " |          Integer offset relative to `start` at which to begin dynamic\n",
      " |          prediction. Prior to this observation, true endogenous values\n",
      " |          will be used for prediction; starting with this observation and\n",
      " |          continuing through the end of prediction, forecasted endogenous\n",
      " |          values will be used instead. Datetime-like objects are not\n",
      " |          interpreted as offsets. They are instead used to find the index\n",
      " |          location of `dynamic` which is then used to to compute the offset.\n",
      " |      exog : array_like\n",
      " |          A replacement exogenous array.  Must have the same shape as the\n",
      " |          exogenous data array used when the model was created.\n",
      " |      exog_oos : array_like\n",
      " |          An array containing out-of-sample values of the exogenous variable.\n",
      " |          Must has the same number of columns as the exog used when the\n",
      " |          model was created, and at least as many rows as the number of\n",
      " |          out-of-sample forecasts.\n",
      " |      \n",
      " |      Returns\n",
      " |      -------\n",
      " |      array_like\n",
      " |          Array of out of in-sample predictions and / or out-of-sample\n",
      " |          forecasts. An (npredict x k_endog) array.\n",
      " |  \n",
      " |  score(self, params)\n",
      " |      Score vector of model.\n",
      " |      \n",
      " |      The gradient of logL with respect to each parameter.\n",
      " |      \n",
      " |      Parameters\n",
      " |      ----------\n",
      " |      params : ndarray\n",
      " |          The parameters to use when evaluating the Hessian.\n",
      " |      \n",
      " |      Returns\n",
      " |      -------\n",
      " |      ndarray\n",
      " |          The score vector evaluated at the parameters.\n",
      " |  \n",
      " |  ----------------------------------------------------------------------\n",
      " |  Readonly properties defined here:\n",
      " |  \n",
      " |  ar_lags\n",
      " |      The autoregressive lags included in the model\n",
      " |  \n",
      " |  df_model\n",
      " |      The model degrees of freedom.\n",
      " |  \n",
      " |  exog_names\n",
      " |      Names of exogenous variables included in model\n",
      " |  \n",
      " |  hold_back\n",
      " |      The number of initial obs. excluded from the estimation sample.\n",
      " |  \n",
      " |  seasonal\n",
      " |      Flag indicating that the model contains a seasonal component.\n",
      " |  \n",
      " |  ----------------------------------------------------------------------\n",
      " |  Class methods inherited from statsmodels.base.model.Model:\n",
      " |  \n",
      " |  from_formula(formula, data, subset=None, drop_cols=None, *args, **kwargs) from builtins.type\n",
      " |      Create a Model from a formula and dataframe.\n",
      " |      \n",
      " |      Parameters\n",
      " |      ----------\n",
      " |      formula : str or generic Formula object\n",
      " |          The formula specifying the model.\n",
      " |      data : array_like\n",
      " |          The data for the model. See Notes.\n",
      " |      subset : array_like\n",
      " |          An array-like object of booleans, integers, or index values that\n",
      " |          indicate the subset of df to use in the model. Assumes df is a\n",
      " |          `pandas.DataFrame`.\n",
      " |      drop_cols : array_like\n",
      " |          Columns to drop from the design matrix.  Cannot be used to\n",
      " |          drop terms involving categoricals.\n",
      " |      *args\n",
      " |          Additional positional argument that are passed to the model.\n",
      " |      **kwargs\n",
      " |          These are passed to the model with one exception. The\n",
      " |          ``eval_env`` keyword is passed to patsy. It can be either a\n",
      " |          :class:`patsy:patsy.EvalEnvironment` object or an integer\n",
      " |          indicating the depth of the namespace to use. For example, the\n",
      " |          default ``eval_env=0`` uses the calling namespace. If you wish\n",
      " |          to use a \"clean\" environment set ``eval_env=-1``.\n",
      " |      \n",
      " |      Returns\n",
      " |      -------\n",
      " |      model\n",
      " |          The model instance.\n",
      " |      \n",
      " |      Notes\n",
      " |      -----\n",
      " |      data must define __getitem__ with the keys in the formula terms\n",
      " |      args and kwargs are passed on to the model instantiation. E.g.,\n",
      " |      a numpy structured or rec array, a dictionary, or a pandas DataFrame.\n",
      " |  \n",
      " |  ----------------------------------------------------------------------\n",
      " |  Readonly properties inherited from statsmodels.base.model.Model:\n",
      " |  \n",
      " |  endog_names\n",
      " |      Names of endogenous variables.\n",
      " |  \n",
      " |  ----------------------------------------------------------------------\n",
      " |  Data descriptors inherited from statsmodels.base.model.Model:\n",
      " |  \n",
      " |  __dict__\n",
      " |      dictionary for instance variables (if defined)\n",
      " |  \n",
      " |  __weakref__\n",
      " |      list of weak references to the object (if defined)\n",
      "\n"
     ]
    }
   ],
   "source": [
    "help(AutoReg)"
   ]
  },
  {
   "cell_type": "code",
   "execution_count": 37,
   "metadata": {},
   "outputs": [
    {
     "data": {
      "text/html": [
       "<table class=\"simpletable\">\n",
       "<caption>AutoReg Model Results</caption>\n",
       "<tr>\n",
       "  <th>Dep. Variable:</th>     <td>Humidity</td>     <th>  No. Observations:  </th>   <td>2664</td>  \n",
       "</tr>\n",
       "<tr>\n",
       "  <th>Model:</th>            <td>AutoReg(3)</td>    <th>  Log Likelihood     </th> <td>3916.083</td>\n",
       "</tr>\n",
       "<tr>\n",
       "  <th>Method:</th>         <td>Conditional MLE</td> <th>  S.D. of innovations</th>   <td>0.056</td> \n",
       "</tr>\n",
       "<tr>\n",
       "  <th>Date:</th>          <td>Tue, 24 Nov 2020</td> <th>  AIC                </th>  <td>-5.777</td> \n",
       "</tr>\n",
       "<tr>\n",
       "  <th>Time:</th>              <td>21:19:36</td>     <th>  BIC                </th>  <td>-5.766</td> \n",
       "</tr>\n",
       "<tr>\n",
       "  <th>Sample:</th>           <td>02-02-2015</td>    <th>  HQIC               </th>  <td>-5.773</td> \n",
       "</tr>\n",
       "<tr>\n",
       "  <th></th>                 <td>- 05-24-2015</td>   <th>                     </th>     <td> </td>   \n",
       "</tr>\n",
       "</table>\n",
       "<table class=\"simpletable\">\n",
       "<tr>\n",
       "       <td></td>          <th>coef</th>     <th>std err</th>      <th>z</th>      <th>P>|z|</th>  <th>[0.025</th>    <th>0.975]</th>  \n",
       "</tr>\n",
       "<tr>\n",
       "  <th>intercept</th>   <td>    0.0078</td> <td>    0.011</td> <td>    0.695</td> <td> 0.487</td> <td>   -0.014</td> <td>    0.030</td>\n",
       "</tr>\n",
       "<tr>\n",
       "  <th>Humidity.L1</th> <td>    1.0087</td> <td>    0.019</td> <td>   52.408</td> <td> 0.000</td> <td>    0.971</td> <td>    1.046</td>\n",
       "</tr>\n",
       "<tr>\n",
       "  <th>Humidity.L2</th> <td>    0.1090</td> <td>    0.027</td> <td>    3.985</td> <td> 0.000</td> <td>    0.055</td> <td>    0.163</td>\n",
       "</tr>\n",
       "<tr>\n",
       "  <th>Humidity.L3</th> <td>   -0.1180</td> <td>    0.019</td> <td>   -6.130</td> <td> 0.000</td> <td>   -0.156</td> <td>   -0.080</td>\n",
       "</tr>\n",
       "</table>\n",
       "<table class=\"simpletable\">\n",
       "<caption>Roots</caption>\n",
       "<tr>\n",
       "    <td></td>   <th>            Real</th>  <th>         Imaginary</th> <th>         Modulus</th>  <th>        Frequency</th>\n",
       "</tr>\n",
       "<tr>\n",
       "  <th>AR.1</th> <td>           1.0004</td> <td>          +0.0000j</td> <td>           1.0004</td> <td>           0.0000</td>\n",
       "</tr>\n",
       "<tr>\n",
       "  <th>AR.2</th> <td>          -2.9494</td> <td>          +0.0000j</td> <td>           2.9494</td> <td>           0.5000</td>\n",
       "</tr>\n",
       "<tr>\n",
       "  <th>AR.3</th> <td>           2.8729</td> <td>          +0.0000j</td> <td>           2.8729</td> <td>           0.0000</td>\n",
       "</tr>\n",
       "</table>"
      ],
      "text/plain": [
       "<class 'statsmodels.iolib.summary.Summary'>\n",
       "\"\"\"\n",
       "                            AutoReg Model Results                             \n",
       "==============================================================================\n",
       "Dep. Variable:               Humidity   No. Observations:                 2664\n",
       "Model:                     AutoReg(3)   Log Likelihood                3916.083\n",
       "Method:               Conditional MLE   S.D. of innovations              0.056\n",
       "Date:                Tue, 24 Nov 2020   AIC                             -5.777\n",
       "Time:                        21:19:36   BIC                             -5.766\n",
       "Sample:                    02-02-2015   HQIC                            -5.773\n",
       "                         - 05-24-2015                                         \n",
       "===============================================================================\n",
       "                  coef    std err          z      P>|z|      [0.025      0.975]\n",
       "-------------------------------------------------------------------------------\n",
       "intercept       0.0078      0.011      0.695      0.487      -0.014       0.030\n",
       "Humidity.L1     1.0087      0.019     52.408      0.000       0.971       1.046\n",
       "Humidity.L2     0.1090      0.027      3.985      0.000       0.055       0.163\n",
       "Humidity.L3    -0.1180      0.019     -6.130      0.000      -0.156      -0.080\n",
       "                                    Roots                                    \n",
       "=============================================================================\n",
       "                  Real          Imaginary           Modulus         Frequency\n",
       "-----------------------------------------------------------------------------\n",
       "AR.1            1.0004           +0.0000j            1.0004            0.0000\n",
       "AR.2           -2.9494           +0.0000j            2.9494            0.5000\n",
       "AR.3            2.8729           +0.0000j            2.8729            0.0000\n",
       "-----------------------------------------------------------------------------\n",
       "\"\"\""
      ]
     },
     "execution_count": 37,
     "metadata": {},
     "output_type": "execute_result"
    }
   ],
   "source": [
    "model = AutoReg(df['Humidity'], lags = 3).fit()  # defining your variable y, and the length of lags. \n",
    "model.summary()\n",
    "\n",
    "# look at how changing the length of lags changes the summary."
   ]
  },
  {
   "cell_type": "code",
   "execution_count": 38,
   "metadata": {},
   "outputs": [
    {
     "data": {
      "text/html": [
       "<table class=\"simpletable\">\n",
       "<caption>AutoReg Model Results</caption>\n",
       "<tr>\n",
       "  <th>Dep. Variable:</th>     <td>Humidity</td>     <th>  No. Observations:  </th>   <td>2664</td>  \n",
       "</tr>\n",
       "<tr>\n",
       "  <th>Model:</th>            <td>AutoReg(10)</td>   <th>  Log Likelihood     </th> <td>3999.381</td>\n",
       "</tr>\n",
       "<tr>\n",
       "  <th>Method:</th>         <td>Conditional MLE</td> <th>  S.D. of innovations</th>   <td>0.054</td> \n",
       "</tr>\n",
       "<tr>\n",
       "  <th>Date:</th>          <td>Tue, 24 Nov 2020</td> <th>  AIC                </th>  <td>-5.843</td> \n",
       "</tr>\n",
       "<tr>\n",
       "  <th>Time:</th>              <td>21:19:55</td>     <th>  BIC                </th>  <td>-5.816</td> \n",
       "</tr>\n",
       "<tr>\n",
       "  <th>Sample:</th>           <td>02-03-2015</td>    <th>  HQIC               </th>  <td>-5.833</td> \n",
       "</tr>\n",
       "<tr>\n",
       "  <th></th>                 <td>- 05-24-2015</td>   <th>                     </th>     <td> </td>   \n",
       "</tr>\n",
       "</table>\n",
       "<table class=\"simpletable\">\n",
       "<tr>\n",
       "        <td></td>          <th>coef</th>     <th>std err</th>      <th>z</th>      <th>P>|z|</th>  <th>[0.025</th>    <th>0.975]</th>  \n",
       "</tr>\n",
       "<tr>\n",
       "  <th>intercept</th>    <td>    0.0142</td> <td>    0.011</td> <td>    1.306</td> <td> 0.192</td> <td>   -0.007</td> <td>    0.036</td>\n",
       "</tr>\n",
       "<tr>\n",
       "  <th>Humidity.L1</th>  <td>    0.9394</td> <td>    0.019</td> <td>   48.459</td> <td> 0.000</td> <td>    0.901</td> <td>    0.977</td>\n",
       "</tr>\n",
       "<tr>\n",
       "  <th>Humidity.L2</th>  <td>    0.1152</td> <td>    0.027</td> <td>    4.328</td> <td> 0.000</td> <td>    0.063</td> <td>    0.167</td>\n",
       "</tr>\n",
       "<tr>\n",
       "  <th>Humidity.L3</th>  <td>   -0.0306</td> <td>    0.027</td> <td>   -1.147</td> <td> 0.251</td> <td>   -0.083</td> <td>    0.022</td>\n",
       "</tr>\n",
       "<tr>\n",
       "  <th>Humidity.L4</th>  <td>    0.0994</td> <td>    0.027</td> <td>    3.722</td> <td> 0.000</td> <td>    0.047</td> <td>    0.152</td>\n",
       "</tr>\n",
       "<tr>\n",
       "  <th>Humidity.L5</th>  <td>    0.0086</td> <td>    0.027</td> <td>    0.319</td> <td> 0.750</td> <td>   -0.044</td> <td>    0.061</td>\n",
       "</tr>\n",
       "<tr>\n",
       "  <th>Humidity.L6</th>  <td>   -0.0340</td> <td>    0.027</td> <td>   -1.270</td> <td> 0.204</td> <td>   -0.087</td> <td>    0.018</td>\n",
       "</tr>\n",
       "<tr>\n",
       "  <th>Humidity.L7</th>  <td>   -0.0148</td> <td>    0.027</td> <td>   -0.552</td> <td> 0.581</td> <td>   -0.067</td> <td>    0.038</td>\n",
       "</tr>\n",
       "<tr>\n",
       "  <th>Humidity.L8</th>  <td>   -0.0333</td> <td>    0.027</td> <td>   -1.247</td> <td> 0.213</td> <td>   -0.086</td> <td>    0.019</td>\n",
       "</tr>\n",
       "<tr>\n",
       "  <th>Humidity.L9</th>  <td> 1.043e-05</td> <td>    0.027</td> <td>    0.000</td> <td> 1.000</td> <td>   -0.052</td> <td>    0.052</td>\n",
       "</tr>\n",
       "<tr>\n",
       "  <th>Humidity.L10</th> <td>   -0.0503</td> <td>    0.019</td> <td>   -2.592</td> <td> 0.010</td> <td>   -0.088</td> <td>   -0.012</td>\n",
       "</tr>\n",
       "</table>\n",
       "<table class=\"simpletable\">\n",
       "<caption>Roots</caption>\n",
       "<tr>\n",
       "    <td></td>    <th>            Real</th>  <th>         Imaginary</th> <th>         Modulus</th>  <th>        Frequency</th>\n",
       "</tr>\n",
       "<tr>\n",
       "  <th>AR.1</th>  <td>           1.0013</td> <td>          -0.0000j</td> <td>           1.0013</td> <td>          -0.0000</td>\n",
       "</tr>\n",
       "<tr>\n",
       "  <th>AR.2</th>  <td>           1.1004</td> <td>          -0.0000j</td> <td>           1.1004</td> <td>          -0.0000</td>\n",
       "</tr>\n",
       "<tr>\n",
       "  <th>AR.3</th>  <td>           0.8997</td> <td>          -1.0775j</td> <td>           1.4037</td> <td>          -0.1393</td>\n",
       "</tr>\n",
       "<tr>\n",
       "  <th>AR.4</th>  <td>           0.8997</td> <td>          +1.0775j</td> <td>           1.4037</td> <td>           0.1393</td>\n",
       "</tr>\n",
       "<tr>\n",
       "  <th>AR.5</th>  <td>          -1.3283</td> <td>          -0.4564j</td> <td>           1.4045</td> <td>          -0.4473</td>\n",
       "</tr>\n",
       "<tr>\n",
       "  <th>AR.6</th>  <td>          -1.3283</td> <td>          +0.4564j</td> <td>           1.4045</td> <td>           0.4473</td>\n",
       "</tr>\n",
       "<tr>\n",
       "  <th>AR.7</th>  <td>          -0.7991</td> <td>          -1.2736j</td> <td>           1.5035</td> <td>          -0.3392</td>\n",
       "</tr>\n",
       "<tr>\n",
       "  <th>AR.8</th>  <td>          -0.7991</td> <td>          +1.2736j</td> <td>           1.5035</td> <td>           0.3392</td>\n",
       "</tr>\n",
       "<tr>\n",
       "  <th>AR.9</th>  <td>           0.1770</td> <td>          -1.4220j</td> <td>           1.4330</td> <td>          -0.2303</td>\n",
       "</tr>\n",
       "<tr>\n",
       "  <th>AR.10</th> <td>           0.1770</td> <td>          +1.4220j</td> <td>           1.4330</td> <td>           0.2303</td>\n",
       "</tr>\n",
       "</table>"
      ],
      "text/plain": [
       "<class 'statsmodels.iolib.summary.Summary'>\n",
       "\"\"\"\n",
       "                            AutoReg Model Results                             \n",
       "==============================================================================\n",
       "Dep. Variable:               Humidity   No. Observations:                 2664\n",
       "Model:                    AutoReg(10)   Log Likelihood                3999.381\n",
       "Method:               Conditional MLE   S.D. of innovations              0.054\n",
       "Date:                Tue, 24 Nov 2020   AIC                             -5.843\n",
       "Time:                        21:19:55   BIC                             -5.816\n",
       "Sample:                    02-03-2015   HQIC                            -5.833\n",
       "                         - 05-24-2015                                         \n",
       "================================================================================\n",
       "                   coef    std err          z      P>|z|      [0.025      0.975]\n",
       "--------------------------------------------------------------------------------\n",
       "intercept        0.0142      0.011      1.306      0.192      -0.007       0.036\n",
       "Humidity.L1      0.9394      0.019     48.459      0.000       0.901       0.977\n",
       "Humidity.L2      0.1152      0.027      4.328      0.000       0.063       0.167\n",
       "Humidity.L3     -0.0306      0.027     -1.147      0.251      -0.083       0.022\n",
       "Humidity.L4      0.0994      0.027      3.722      0.000       0.047       0.152\n",
       "Humidity.L5      0.0086      0.027      0.319      0.750      -0.044       0.061\n",
       "Humidity.L6     -0.0340      0.027     -1.270      0.204      -0.087       0.018\n",
       "Humidity.L7     -0.0148      0.027     -0.552      0.581      -0.067       0.038\n",
       "Humidity.L8     -0.0333      0.027     -1.247      0.213      -0.086       0.019\n",
       "Humidity.L9   1.043e-05      0.027      0.000      1.000      -0.052       0.052\n",
       "Humidity.L10    -0.0503      0.019     -2.592      0.010      -0.088      -0.012\n",
       "                                    Roots                                     \n",
       "==============================================================================\n",
       "                   Real          Imaginary           Modulus         Frequency\n",
       "------------------------------------------------------------------------------\n",
       "AR.1             1.0013           -0.0000j            1.0013           -0.0000\n",
       "AR.2             1.1004           -0.0000j            1.1004           -0.0000\n",
       "AR.3             0.8997           -1.0775j            1.4037           -0.1393\n",
       "AR.4             0.8997           +1.0775j            1.4037            0.1393\n",
       "AR.5            -1.3283           -0.4564j            1.4045           -0.4473\n",
       "AR.6            -1.3283           +0.4564j            1.4045            0.4473\n",
       "AR.7            -0.7991           -1.2736j            1.5035           -0.3392\n",
       "AR.8            -0.7991           +1.2736j            1.5035            0.3392\n",
       "AR.9             0.1770           -1.4220j            1.4330           -0.2303\n",
       "AR.10            0.1770           +1.4220j            1.4330            0.2303\n",
       "------------------------------------------------------------------------------\n",
       "\"\"\""
      ]
     },
     "execution_count": 38,
     "metadata": {},
     "output_type": "execute_result"
    }
   ],
   "source": [
    "model = AutoReg(df['Humidity'], lags = 10).fit()  # defining your variable y, and the length of lags. \n",
    "model.summary()\n",
    "\n",
    "# if you move far enough into the future, the lags become INSIGNIFICANT! Because the value of today may not be so important for the value 10 days for now. \n",
    "# After a certain lag length, they typically are all insignificant. "
   ]
  },
  {
   "cell_type": "markdown",
   "metadata": {},
   "source": [
    "## Making Predictions"
   ]
  },
  {
   "cell_type": "markdown",
   "metadata": {},
   "source": [
    "In order to assess the accuracy of our predictions, we will remove the last ten observations from the variable which we are using to train the model. Afterwards, we will then predict those ten observations, and see how close we got with our model to what happened in reality!"
   ]
  },
  {
   "cell_type": "code",
   "execution_count": 39,
   "metadata": {},
   "outputs": [
    {
     "data": {
      "text/html": [
       "<table class=\"simpletable\">\n",
       "<caption>AutoReg Model Results</caption>\n",
       "<tr>\n",
       "  <th>Dep. Variable:</th>     <td>Humidity</td>     <th>  No. Observations:  </th>   <td>2664</td>  \n",
       "</tr>\n",
       "<tr>\n",
       "  <th>Model:</th>            <td>AutoReg(1)</td>    <th>  Log Likelihood     </th> <td>3900.599</td>\n",
       "</tr>\n",
       "<tr>\n",
       "  <th>Method:</th>         <td>Conditional MLE</td> <th>  S.D. of innovations</th>   <td>0.056</td> \n",
       "</tr>\n",
       "<tr>\n",
       "  <th>Date:</th>          <td>Tue, 24 Nov 2020</td> <th>  AIC                </th>  <td>-5.765</td> \n",
       "</tr>\n",
       "<tr>\n",
       "  <th>Time:</th>              <td>21:26:08</td>     <th>  BIC                </th>  <td>-5.758</td> \n",
       "</tr>\n",
       "<tr>\n",
       "  <th>Sample:</th>           <td>02-02-2015</td>    <th>  HQIC               </th>  <td>-5.763</td> \n",
       "</tr>\n",
       "<tr>\n",
       "  <th></th>                 <td>- 05-24-2015</td>   <th>                     </th>     <td> </td>   \n",
       "</tr>\n",
       "</table>\n",
       "<table class=\"simpletable\">\n",
       "<tr>\n",
       "       <td></td>          <th>coef</th>     <th>std err</th>      <th>z</th>      <th>P>|z|</th>  <th>[0.025</th>    <th>0.975]</th>  \n",
       "</tr>\n",
       "<tr>\n",
       "  <th>intercept</th>   <td>    0.0070</td> <td>    0.011</td> <td>    0.622</td> <td> 0.534</td> <td>   -0.015</td> <td>    0.029</td>\n",
       "</tr>\n",
       "<tr>\n",
       "  <th>Humidity.L1</th> <td>    0.9997</td> <td>    0.000</td> <td> 2247.761</td> <td> 0.000</td> <td>    0.999</td> <td>    1.001</td>\n",
       "</tr>\n",
       "</table>\n",
       "<table class=\"simpletable\">\n",
       "<caption>Roots</caption>\n",
       "<tr>\n",
       "    <td></td>   <th>            Real</th>  <th>         Imaginary</th> <th>         Modulus</th>  <th>        Frequency</th>\n",
       "</tr>\n",
       "<tr>\n",
       "  <th>AR.1</th> <td>           1.0003</td> <td>          +0.0000j</td> <td>           1.0003</td> <td>           0.0000</td>\n",
       "</tr>\n",
       "</table>"
      ],
      "text/plain": [
       "<class 'statsmodels.iolib.summary.Summary'>\n",
       "\"\"\"\n",
       "                            AutoReg Model Results                             \n",
       "==============================================================================\n",
       "Dep. Variable:               Humidity   No. Observations:                 2664\n",
       "Model:                     AutoReg(1)   Log Likelihood                3900.599\n",
       "Method:               Conditional MLE   S.D. of innovations              0.056\n",
       "Date:                Tue, 24 Nov 2020   AIC                             -5.765\n",
       "Time:                        21:26:08   BIC                             -5.758\n",
       "Sample:                    02-02-2015   HQIC                            -5.763\n",
       "                         - 05-24-2015                                         \n",
       "===============================================================================\n",
       "                  coef    std err          z      P>|z|      [0.025      0.975]\n",
       "-------------------------------------------------------------------------------\n",
       "intercept       0.0070      0.011      0.622      0.534      -0.015       0.029\n",
       "Humidity.L1     0.9997      0.000   2247.761      0.000       0.999       1.001\n",
       "                                    Roots                                    \n",
       "=============================================================================\n",
       "                  Real          Imaginary           Modulus         Frequency\n",
       "-----------------------------------------------------------------------------\n",
       "AR.1            1.0003           +0.0000j            1.0003            0.0000\n",
       "-----------------------------------------------------------------------------\n",
       "\"\"\""
      ]
     },
     "execution_count": 39,
     "metadata": {},
     "output_type": "execute_result"
    }
   ],
   "source": [
    "(train, test) = df.Humidity[:-10], df.Humidity[-10:]\n",
    "# train the model on all observations EXCEPT the last 10!\n",
    "# pretend that the last 10 days didnt happen, and predict them using your model to see how well the model performs. \n",
    "\n",
    "\n",
    "model = AutoReg(df['Humidity'], lags = 1).fit()\n",
    "model.summary()\n"
   ]
  },
  {
   "cell_type": "code",
   "execution_count": 42,
   "metadata": {},
   "outputs": [
    {
     "data": {
      "text/plain": [
       "2015-05-24 04:00:00    25.889624\n",
       "2015-05-24 05:00:00    25.889624\n",
       "2015-05-24 06:00:00    25.911618\n",
       "2015-05-24 07:00:00    25.891291\n",
       "2015-05-24 08:00:00    25.977599\n",
       "2015-05-24 09:00:00    25.851635\n",
       "2015-05-24 10:00:00    25.699679\n",
       "2015-05-24 11:00:00    25.735668\n",
       "2015-05-24 12:00:00    25.699679\n",
       "2015-05-24 13:00:00    25.699679\n",
       "2015-05-24 14:00:00    25.681351\n",
       "Freq: H, dtype: float64"
      ]
     },
     "execution_count": 42,
     "metadata": {},
     "output_type": "execute_result"
    }
   ],
   "source": [
    "model.predict(start=len(train), end=len(train)+10)\n",
    "# predict ten periods into the future! Starting at train (see last step)\n",
    "# pd.DataFrame(zip(test, pred), columns = {'True Values', 'Prediction'})"
   ]
  },
  {
   "cell_type": "code",
   "execution_count": 43,
   "metadata": {},
   "outputs": [
    {
     "data": {
      "text/plain": [
       "date\n",
       "2015-05-23 23:00:00    25.832000\n",
       "2015-05-24 00:00:00    25.840000\n",
       "2015-05-24 01:00:00    25.891667\n",
       "2015-05-24 02:00:00    25.890000\n",
       "2015-05-24 03:00:00    25.890000\n",
       "Freq: H, Name: Humidity, dtype: float64"
      ]
     },
     "execution_count": 43,
     "metadata": {},
     "output_type": "execute_result"
    }
   ],
   "source": [
    "train.tail()\n",
    "# see where your training set ends\n",
    "# predict: Y hat = beta_0 + beta_1 Y t-1 + beta_2 Y t-2"
   ]
  },
  {
   "cell_type": "markdown",
   "metadata": {},
   "source": [
    "### Dickey Fuller Test for Stationarity"
   ]
  },
  {
   "cell_type": "code",
   "execution_count": 122,
   "metadata": {},
   "outputs": [
    {
     "name": "stdout",
     "output_type": "stream",
     "text": [
      "Help on function adfuller in module statsmodels.tsa.stattools:\n",
      "\n",
      "adfuller(x, maxlag=None, regression='c', autolag='AIC', store=False, regresults=False)\n",
      "    Augmented Dickey-Fuller unit root test.\n",
      "    \n",
      "    The Augmented Dickey-Fuller test can be used to test for a unit root in a\n",
      "    univariate process in the presence of serial correlation.\n",
      "    \n",
      "    Parameters\n",
      "    ----------\n",
      "    x : array_like, 1d\n",
      "        The data series to test.\n",
      "    maxlag : int\n",
      "        Maximum lag which is included in test, default 12*(nobs/100)^{1/4}.\n",
      "    regression : {'c','ct','ctt','nc'}\n",
      "        Constant and trend order to include in regression.\n",
      "    \n",
      "        * 'c' : constant only (default).\n",
      "        * 'ct' : constant and trend.\n",
      "        * 'ctt' : constant, and linear and quadratic trend.\n",
      "        * 'nc' : no constant, no trend.\n",
      "    \n",
      "    autolag : {'AIC', 'BIC', 't-stat', None}\n",
      "        Method to use when automatically determining the lag.\n",
      "    \n",
      "        * if None, then maxlag lags are used.\n",
      "        * if 'AIC' (default) or 'BIC', then the number of lags is chosen\n",
      "          to minimize the corresponding information criterion.\n",
      "        * 't-stat' based choice of maxlag.  Starts with maxlag and drops a\n",
      "          lag until the t-statistic on the last lag length is significant\n",
      "          using a 5%-sized test.\n",
      "    store : bool\n",
      "        If True, then a result instance is returned additionally to\n",
      "        the adf statistic. Default is False.\n",
      "    regresults : bool, optional\n",
      "        If True, the full regression results are returned. Default is False.\n",
      "    \n",
      "    Returns\n",
      "    -------\n",
      "    adf : float\n",
      "        The test statistic.\n",
      "    pvalue : float\n",
      "        MacKinnon's approximate p-value based on MacKinnon (1994, 2010).\n",
      "    usedlag : int\n",
      "        The number of lags used.\n",
      "    nobs : int\n",
      "        The number of observations used for the ADF regression and calculation\n",
      "        of the critical values.\n",
      "    critical values : dict\n",
      "        Critical values for the test statistic at the 1 %, 5 %, and 10 %\n",
      "        levels. Based on MacKinnon (2010).\n",
      "    icbest : float\n",
      "        The maximized information criterion if autolag is not None.\n",
      "    resstore : ResultStore, optional\n",
      "        A dummy class with results attached as attributes.\n",
      "    \n",
      "    Notes\n",
      "    -----\n",
      "    The null hypothesis of the Augmented Dickey-Fuller is that there is a unit\n",
      "    root, with the alternative that there is no unit root. If the pvalue is\n",
      "    above a critical size, then we cannot reject that there is a unit root.\n",
      "    \n",
      "    The p-values are obtained through regression surface approximation from\n",
      "    MacKinnon 1994, but using the updated 2010 tables. If the p-value is close\n",
      "    to significant, then the critical values should be used to judge whether\n",
      "    to reject the null.\n",
      "    \n",
      "    The autolag option and maxlag for it are described in Greene.\n",
      "    \n",
      "    References\n",
      "    ----------\n",
      "    .. [1] W. Green.  \"Econometric Analysis,\" 5th ed., Pearson, 2003.\n",
      "    \n",
      "    .. [2] Hamilton, J.D.  \"Time Series Analysis\".  Princeton, 1994.\n",
      "    \n",
      "    .. [3] MacKinnon, J.G. 1994.  \"Approximate asymptotic distribution functions for\n",
      "        unit-root and cointegration tests.  `Journal of Business and Economic\n",
      "        Statistics` 12, 167-76.\n",
      "    \n",
      "    .. [4] MacKinnon, J.G. 2010. \"Critical Values for Cointegration Tests.\"  Queen's\n",
      "        University, Dept of Economics, Working Papers.  Available at\n",
      "        http://ideas.repec.org/p/qed/wpaper/1227.html\n",
      "    \n",
      "    Examples\n",
      "    --------\n",
      "    See example notebook\n",
      "\n"
     ]
    },
    {
     "data": {
      "text/plain": [
       "(-2.1559012689082246,\n",
       " 0.22263806835588407,\n",
       " 23,\n",
       " 2639,\n",
       " {'1%': -3.432830360798943,\n",
       "  '5%': -2.8626358355986774,\n",
       "  '10%': -2.5673533514279425},\n",
       " -7943.569888410115)"
      ]
     },
     "execution_count": 122,
     "metadata": {},
     "output_type": "execute_result"
    }
   ],
   "source": [
    "from statsmodels.tsa.stattools import adfuller\n",
    "help(adfuller)\n",
    "adfuller(df.Humidity)"
   ]
  },
  {
   "cell_type": "code",
   "execution_count": 123,
   "metadata": {},
   "outputs": [
    {
     "data": {
      "text/plain": [
       "(-5.929156941803512,\n",
       " 2.4035285690791973e-07,\n",
       " 22,\n",
       " 2639,\n",
       " {'1%': -3.432830360798943,\n",
       "  '5%': -2.8626358355986774,\n",
       "  '10%': -2.5673533514279425},\n",
       " -7936.868635028)"
      ]
     },
     "execution_count": 123,
     "metadata": {},
     "output_type": "execute_result"
    }
   ],
   "source": [
    "# On First Differences\n",
    "\n",
    "adfuller(df['Humidity_diff'][1:])"
   ]
  },
  {
   "cell_type": "code",
   "execution_count": 124,
   "metadata": {},
   "outputs": [
    {
     "data": {
      "text/plain": [
       "<matplotlib.axes._subplots.AxesSubplot at 0x1249a4cd0>"
      ]
     },
     "execution_count": 124,
     "metadata": {},
     "output_type": "execute_result"
    },
    {
     "data": {
      "image/png": "[encoded data removed]",
      "text/plain": [
       "<Figure size 864x432 with 1 Axes>"
      ]
     },
     "metadata": {
      "needs_background": "light"
     },
     "output_type": "display_data"
    }
   ],
   "source": [
    "df['Humidity_diff'].plot()"
   ]
  },
  {
   "cell_type": "markdown",
   "metadata": {},
   "source": [
    "## MA models"
   ]
  },
  {
   "cell_type": "code",
   "execution_count": 125,
   "metadata": {},
   "outputs": [
    {
     "name": "stdout",
     "output_type": "stream",
     "text": [
      "const        717.839682\n",
      "ma.L1.CO2      0.992392\n",
      "dtype: float64\n"
     ]
    }
   ],
   "source": [
    "from statsmodels.tsa.arima_model import ARMA\n",
    "\n",
    "model = ARMA(df['CO2'], order=(0, 1)).fit()\n",
    "print(model.params)"
   ]
  },
  {
   "cell_type": "code",
   "execution_count": 126,
   "metadata": {},
   "outputs": [
    {
     "data": {
      "text/html": [
       "<div>\n",
       "<style scoped>\n",
       "    .dataframe tbody tr th:only-of-type {\n",
       "        vertical-align: middle;\n",
       "    }\n",
       "\n",
       "    .dataframe tbody tr th {\n",
       "        vertical-align: top;\n",
       "    }\n",
       "\n",
       "    .dataframe thead th {\n",
       "        text-align: right;\n",
       "    }\n",
       "</style>\n",
       "<table border=\"1\" class=\"dataframe\">\n",
       "  <thead>\n",
       "    <tr style=\"text-align: right;\">\n",
       "      <th></th>\n",
       "      <th>Prediction</th>\n",
       "      <th>True Values</th>\n",
       "    </tr>\n",
       "  </thead>\n",
       "  <tbody>\n",
       "    <tr>\n",
       "      <th>0</th>\n",
       "      <td>1153.250000</td>\n",
       "      <td>909.931414</td>\n",
       "    </tr>\n",
       "    <tr>\n",
       "      <th>1</th>\n",
       "      <td>1152.400000</td>\n",
       "      <td>959.307167</td>\n",
       "    </tr>\n",
       "    <tr>\n",
       "      <th>2</th>\n",
       "      <td>1146.166667</td>\n",
       "      <td>909.463518</td>\n",
       "    </tr>\n",
       "    <tr>\n",
       "      <th>3</th>\n",
       "      <td>1145.400000</td>\n",
       "      <td>952.742058</td>\n",
       "    </tr>\n",
       "    <tr>\n",
       "      <th>4</th>\n",
       "      <td>1140.800000</td>\n",
       "      <td>909.031935</td>\n",
       "    </tr>\n",
       "    <tr>\n",
       "      <th>5</th>\n",
       "      <td>1150.250000</td>\n",
       "      <td>947.844519</td>\n",
       "    </tr>\n",
       "    <tr>\n",
       "      <th>6</th>\n",
       "      <td>1129.200000</td>\n",
       "      <td>918.705317</td>\n",
       "    </tr>\n",
       "    <tr>\n",
       "      <th>7</th>\n",
       "      <td>1125.800000</td>\n",
       "      <td>926.732978</td>\n",
       "    </tr>\n",
       "    <tr>\n",
       "      <th>8</th>\n",
       "      <td>1123.000000</td>\n",
       "      <td>915.392256</td>\n",
       "    </tr>\n",
       "    <tr>\n",
       "      <th>9</th>\n",
       "      <td>1124.000000</td>\n",
       "      <td>923.868003</td>\n",
       "    </tr>\n",
       "  </tbody>\n",
       "</table>\n",
       "</div>"
      ],
      "text/plain": [
       "    Prediction  True Values\n",
       "0  1153.250000   909.931414\n",
       "1  1152.400000   959.307167\n",
       "2  1146.166667   909.463518\n",
       "3  1145.400000   952.742058\n",
       "4  1140.800000   909.031935\n",
       "5  1150.250000   947.844519\n",
       "6  1129.200000   918.705317\n",
       "7  1125.800000   926.732978\n",
       "8  1123.000000   915.392256\n",
       "9  1124.000000   923.868003"
      ]
     },
     "execution_count": 126,
     "metadata": {},
     "output_type": "execute_result"
    }
   ],
   "source": [
    "(train, test) = df.CO2[:-10], df.CO2[-10:]\n",
    "\n",
    "model = ARMA(df['CO2'], order=(0, 1)).fit()\n",
    "pred = model.predict(start=len(train), end=len(train)+10)\n",
    "pd.DataFrame(zip(test, pred), columns = {'True Values', 'Prediction'})"
   ]
  },
  {
   "cell_type": "markdown",
   "metadata": {},
   "source": [
    "## ARMA Models"
   ]
  },
  {
   "cell_type": "code",
   "execution_count": 127,
   "metadata": {},
   "outputs": [
    {
     "name": "stderr",
     "output_type": "stream",
     "text": [
      "/opt/anaconda3/lib/python3.8/site-packages/statsmodels/base/model.py:567: ConvergenceWarning: Maximum Likelihood optimization failed to converge. Check mle_retvals\n",
      "  warn(\"Maximum Likelihood optimization failed to converge. \"\n"
     ]
    },
    {
     "data": {
      "text/html": [
       "<div>\n",
       "<style scoped>\n",
       "    .dataframe tbody tr th:only-of-type {\n",
       "        vertical-align: middle;\n",
       "    }\n",
       "\n",
       "    .dataframe tbody tr th {\n",
       "        vertical-align: top;\n",
       "    }\n",
       "\n",
       "    .dataframe thead th {\n",
       "        text-align: right;\n",
       "    }\n",
       "</style>\n",
       "<table border=\"1\" class=\"dataframe\">\n",
       "  <thead>\n",
       "    <tr style=\"text-align: right;\">\n",
       "      <th></th>\n",
       "      <th>Prediction</th>\n",
       "      <th>True Values</th>\n",
       "    </tr>\n",
       "  </thead>\n",
       "  <tbody>\n",
       "    <tr>\n",
       "      <th>0</th>\n",
       "      <td>1153.250000</td>\n",
       "      <td>1153.107801</td>\n",
       "    </tr>\n",
       "    <tr>\n",
       "      <th>1</th>\n",
       "      <td>1152.400000</td>\n",
       "      <td>1153.828073</td>\n",
       "    </tr>\n",
       "    <tr>\n",
       "      <th>2</th>\n",
       "      <td>1146.166667</td>\n",
       "      <td>1152.855321</td>\n",
       "    </tr>\n",
       "    <tr>\n",
       "      <th>3</th>\n",
       "      <td>1145.400000</td>\n",
       "      <td>1146.188058</td>\n",
       "    </tr>\n",
       "    <tr>\n",
       "      <th>4</th>\n",
       "      <td>1140.800000</td>\n",
       "      <td>1145.342822</td>\n",
       "    </tr>\n",
       "    <tr>\n",
       "      <th>5</th>\n",
       "      <td>1150.250000</td>\n",
       "      <td>1140.442068</td>\n",
       "    </tr>\n",
       "    <tr>\n",
       "      <th>6</th>\n",
       "      <td>1129.200000</td>\n",
       "      <td>1150.447159</td>\n",
       "    </tr>\n",
       "    <tr>\n",
       "      <th>7</th>\n",
       "      <td>1125.800000</td>\n",
       "      <td>1128.101209</td>\n",
       "    </tr>\n",
       "    <tr>\n",
       "      <th>8</th>\n",
       "      <td>1123.000000</td>\n",
       "      <td>1124.545350</td>\n",
       "    </tr>\n",
       "    <tr>\n",
       "      <th>9</th>\n",
       "      <td>1124.000000</td>\n",
       "      <td>1121.636213</td>\n",
       "    </tr>\n",
       "  </tbody>\n",
       "</table>\n",
       "</div>"
      ],
      "text/plain": [
       "    Prediction  True Values\n",
       "0  1153.250000  1153.107801\n",
       "1  1152.400000  1153.828073\n",
       "2  1146.166667  1152.855321\n",
       "3  1145.400000  1146.188058\n",
       "4  1140.800000  1145.342822\n",
       "5  1150.250000  1140.442068\n",
       "6  1129.200000  1150.447159\n",
       "7  1125.800000  1128.101209\n",
       "8  1123.000000  1124.545350\n",
       "9  1124.000000  1121.636213"
      ]
     },
     "execution_count": 127,
     "metadata": {},
     "output_type": "execute_result"
    }
   ],
   "source": [
    "model = ARMA(df['CO2'], order=(2, 1)).fit()\n",
    "pred = model.predict(start=len(train), end=len(train)+10)\n",
    "pd.DataFrame(zip(test, pred), columns = {'True Values', 'Prediction'})"
   ]
  },
  {
   "cell_type": "markdown",
   "metadata": {},
   "source": [
    "## Extra Pointer\n",
    "\n",
    "For those who are especially interested in time series:\n",
    "\n",
    "There is a further class of models called ARIMA models - this stands for Autoregressive Integrated Moving Average\n",
    "\n",
    "The 'integrated' here refers to the number of times needed to difference a series in order to achieve stationarity.\n",
    "So an ARMA model is equivalent to an ARIMA model of the same MA and AR orders with no differencing.\n",
    "\n",
    "ARMA(p,q) is equivalent to ARIMA(p,0,q)\n"
   ]
  },
  {
   "cell_type": "code",
   "execution_count": 128,
   "metadata": {},
   "outputs": [
    {
     "data": {
      "text/html": [
       "<table class=\"simpletable\">\n",
       "<caption>ARMA Model Results</caption>\n",
       "<tr>\n",
       "  <th>Dep. Variable:</th>     <td>Humidity</td>     <th>  No. Observations:  </th>   <td>2663</td>   \n",
       "</tr>\n",
       "<tr>\n",
       "  <th>Model:</th>            <td>ARMA(1, 5)</td>    <th>  Log Likelihood     </th> <td>3956.320</td> \n",
       "</tr>\n",
       "<tr>\n",
       "  <th>Method:</th>             <td>css-mle</td>     <th>  S.D. of innovations</th>   <td>0.055</td>  \n",
       "</tr>\n",
       "<tr>\n",
       "  <th>Date:</th>          <td>Thu, 19 Nov 2020</td> <th>  AIC                </th> <td>-7896.639</td>\n",
       "</tr>\n",
       "<tr>\n",
       "  <th>Time:</th>              <td>12:57:52</td>     <th>  BIC                </th> <td>-7849.542</td>\n",
       "</tr>\n",
       "<tr>\n",
       "  <th>Sample:</th>           <td>02-02-2015</td>    <th>  HQIC               </th> <td>-7879.596</td>\n",
       "</tr>\n",
       "<tr>\n",
       "  <th></th>                 <td>- 05-24-2015</td>   <th>                     </th>     <td> </td>    \n",
       "</tr>\n",
       "</table>\n",
       "<table class=\"simpletable\">\n",
       "<tr>\n",
       "         <td></td>           <th>coef</th>     <th>std err</th>      <th>z</th>      <th>P>|z|</th>  <th>[0.025</th>    <th>0.975]</th>  \n",
       "</tr>\n",
       "<tr>\n",
       "  <th>const</th>          <td>   25.6992</td> <td>    1.454</td> <td>   17.670</td> <td> 0.000</td> <td>   22.849</td> <td>   28.550</td>\n",
       "</tr>\n",
       "<tr>\n",
       "  <th>ar.L1.Humidity</th> <td>    0.9994</td> <td>    0.000</td> <td> 2114.941</td> <td> 0.000</td> <td>    0.998</td> <td>    1.000</td>\n",
       "</tr>\n",
       "<tr>\n",
       "  <th>ma.L1.Humidity</th> <td>   -0.0358</td> <td>    0.019</td> <td>   -1.837</td> <td> 0.066</td> <td>   -0.074</td> <td>    0.002</td>\n",
       "</tr>\n",
       "<tr>\n",
       "  <th>ma.L2.Humidity</th> <td>    0.0644</td> <td>    0.020</td> <td>    3.274</td> <td> 0.001</td> <td>    0.026</td> <td>    0.103</td>\n",
       "</tr>\n",
       "<tr>\n",
       "  <th>ma.L3.Humidity</th> <td>    0.0227</td> <td>    0.018</td> <td>    1.255</td> <td> 0.209</td> <td>   -0.013</td> <td>    0.058</td>\n",
       "</tr>\n",
       "<tr>\n",
       "  <th>ma.L4.Humidity</th> <td>    0.1194</td> <td>    0.019</td> <td>    6.361</td> <td> 0.000</td> <td>    0.083</td> <td>    0.156</td>\n",
       "</tr>\n",
       "<tr>\n",
       "  <th>ma.L5.Humidity</th> <td>    0.1115</td> <td>    0.019</td> <td>    5.971</td> <td> 0.000</td> <td>    0.075</td> <td>    0.148</td>\n",
       "</tr>\n",
       "</table>\n",
       "<table class=\"simpletable\">\n",
       "<caption>Roots</caption>\n",
       "<tr>\n",
       "    <td></td>   <th>            Real</th>  <th>         Imaginary</th> <th>         Modulus</th>  <th>        Frequency</th>\n",
       "</tr>\n",
       "<tr>\n",
       "  <th>AR.1</th> <td>           1.0006</td> <td>          +0.0000j</td> <td>           1.0006</td> <td>           0.0000</td>\n",
       "</tr>\n",
       "<tr>\n",
       "  <th>MA.1</th> <td>           1.0438</td> <td>          -0.9159j</td> <td>           1.3887</td> <td>          -0.1146</td>\n",
       "</tr>\n",
       "<tr>\n",
       "  <th>MA.2</th> <td>           1.0438</td> <td>          +0.9159j</td> <td>           1.3887</td> <td>           0.1146</td>\n",
       "</tr>\n",
       "<tr>\n",
       "  <th>MA.3</th> <td>          -0.6370</td> <td>          -1.4362j</td> <td>           1.5711</td> <td>          -0.3164</td>\n",
       "</tr>\n",
       "<tr>\n",
       "  <th>MA.4</th> <td>          -0.6370</td> <td>          +1.4362j</td> <td>           1.5711</td> <td>           0.3164</td>\n",
       "</tr>\n",
       "<tr>\n",
       "  <th>MA.5</th> <td>          -1.8845</td> <td>          -0.0000j</td> <td>           1.8845</td> <td>          -0.5000</td>\n",
       "</tr>\n",
       "</table>"
      ],
      "text/plain": [
       "<class 'statsmodels.iolib.summary.Summary'>\n",
       "\"\"\"\n",
       "                              ARMA Model Results                              \n",
       "==============================================================================\n",
       "Dep. Variable:               Humidity   No. Observations:                 2663\n",
       "Model:                     ARMA(1, 5)   Log Likelihood                3956.320\n",
       "Method:                       css-mle   S.D. of innovations              0.055\n",
       "Date:                Thu, 19 Nov 2020   AIC                          -7896.639\n",
       "Time:                        12:57:52   BIC                          -7849.542\n",
       "Sample:                    02-02-2015   HQIC                         -7879.596\n",
       "                         - 05-24-2015                                         \n",
       "==================================================================================\n",
       "                     coef    std err          z      P>|z|      [0.025      0.975]\n",
       "----------------------------------------------------------------------------------\n",
       "const             25.6992      1.454     17.670      0.000      22.849      28.550\n",
       "ar.L1.Humidity     0.9994      0.000   2114.941      0.000       0.998       1.000\n",
       "ma.L1.Humidity    -0.0358      0.019     -1.837      0.066      -0.074       0.002\n",
       "ma.L2.Humidity     0.0644      0.020      3.274      0.001       0.026       0.103\n",
       "ma.L3.Humidity     0.0227      0.018      1.255      0.209      -0.013       0.058\n",
       "ma.L4.Humidity     0.1194      0.019      6.361      0.000       0.083       0.156\n",
       "ma.L5.Humidity     0.1115      0.019      5.971      0.000       0.075       0.148\n",
       "                                    Roots                                    \n",
       "=============================================================================\n",
       "                  Real          Imaginary           Modulus         Frequency\n",
       "-----------------------------------------------------------------------------\n",
       "AR.1            1.0006           +0.0000j            1.0006            0.0000\n",
       "MA.1            1.0438           -0.9159j            1.3887           -0.1146\n",
       "MA.2            1.0438           +0.9159j            1.3887            0.1146\n",
       "MA.3           -0.6370           -1.4362j            1.5711           -0.3164\n",
       "MA.4           -0.6370           +1.4362j            1.5711            0.3164\n",
       "MA.5           -1.8845           -0.0000j            1.8845           -0.5000\n",
       "-----------------------------------------------------------------------------\n",
       "\"\"\""
      ]
     },
     "execution_count": 128,
     "metadata": {},
     "output_type": "execute_result"
    }
   ],
   "source": [
    "# Example:\n",
    "\n",
    "from statsmodels.tsa.arima_model import ARIMA\n",
    "model=ARIMA(df['Humidity'] ,order=(1,0,5)).fit()\n",
    "model.summary()"
   ]
  },
  {
   "cell_type": "code",
   "execution_count": null,
   "metadata": {},
   "outputs": [],
   "source": []
  }
 ],
 "metadata": {
  "kernelspec": {
   "display_name": "Python 3",
   "language": "python",
   "name": "python3"
  },
  "language_info": {
   "codemirror_mode": {
    "name": "ipython",
    "version": 3
   },
   "file_extension": ".py",
   "mimetype": "text/x-python",
   "name": "python",
   "nbconvert_exporter": "python",
   "pygments_lexer": "ipython3",
   "version": "3.8.3"
  }
 },
 "nbformat": 4,
 "nbformat_minor": 4
}

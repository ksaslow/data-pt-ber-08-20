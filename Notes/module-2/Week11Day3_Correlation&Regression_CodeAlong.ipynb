{
 "cells": [
  {
   "cell_type": "code",
   "execution_count": 5,
   "metadata": {},
   "outputs": [],
   "source": [
    "import pandas as pd\n",
    "import numpy as np\n",
    "import seaborn as sns\n",
    "import matplotlib.pyplot as plt\n",
    "import statsmodels.api as sm"
   ]
  },
  {
   "cell_type": "code",
   "execution_count": 4,
   "metadata": {},
   "outputs": [
    {
     "data": {
      "text/html": [
       "<div>\n",
       "<style scoped>\n",
       "    .dataframe tbody tr th:only-of-type {\n",
       "        vertical-align: middle;\n",
       "    }\n",
       "\n",
       "    .dataframe tbody tr th {\n",
       "        vertical-align: top;\n",
       "    }\n",
       "\n",
       "    .dataframe thead th {\n",
       "        text-align: right;\n",
       "    }\n",
       "</style>\n",
       "<table border=\"1\" class=\"dataframe\">\n",
       "  <thead>\n",
       "    <tr style=\"text-align: right;\">\n",
       "      <th></th>\n",
       "      <th>Species</th>\n",
       "      <th>CommonName</th>\n",
       "      <th>HeadLength</th>\n",
       "      <th>BodyLength</th>\n",
       "    </tr>\n",
       "  </thead>\n",
       "  <tbody>\n",
       "    <tr>\n",
       "      <th>0</th>\n",
       "      <td>Crocodylus porosus</td>\n",
       "      <td>Estuarine Crocodile</td>\n",
       "      <td>24</td>\n",
       "      <td>161</td>\n",
       "    </tr>\n",
       "    <tr>\n",
       "      <th>1</th>\n",
       "      <td>Crocodylus porosus</td>\n",
       "      <td>Estuarine Crocodile</td>\n",
       "      <td>24</td>\n",
       "      <td>179</td>\n",
       "    </tr>\n",
       "    <tr>\n",
       "      <th>2</th>\n",
       "      <td>Crocodylus porosus</td>\n",
       "      <td>Estuarine Crocodile</td>\n",
       "      <td>32</td>\n",
       "      <td>226</td>\n",
       "    </tr>\n",
       "    <tr>\n",
       "      <th>3</th>\n",
       "      <td>Crocodylus porosus</td>\n",
       "      <td>Estuarine Crocodile</td>\n",
       "      <td>35</td>\n",
       "      <td>259</td>\n",
       "    </tr>\n",
       "    <tr>\n",
       "      <th>4</th>\n",
       "      <td>Crocodylus porosus</td>\n",
       "      <td>Estuarine Crocodile</td>\n",
       "      <td>40</td>\n",
       "      <td>287</td>\n",
       "    </tr>\n",
       "  </tbody>\n",
       "</table>\n",
       "</div>"
      ],
      "text/plain": [
       "              Species           CommonName  HeadLength  BodyLength\n",
       "0  Crocodylus porosus  Estuarine Crocodile          24         161\n",
       "1  Crocodylus porosus  Estuarine Crocodile          24         179\n",
       "2  Crocodylus porosus  Estuarine Crocodile          32         226\n",
       "3  Crocodylus porosus  Estuarine Crocodile          35         259\n",
       "4  Crocodylus porosus  Estuarine Crocodile          40         287"
      ]
     },
     "execution_count": 4,
     "metadata": {},
     "output_type": "execute_result"
    }
   ],
   "source": [
    "df = pd.read_csv('Estuarine_Crocodile.csv')\n",
    "df.head()"
   ]
  },
  {
   "cell_type": "markdown",
   "metadata": {},
   "source": [
    "Find the correlation between the head length and the body length"
   ]
  },
  {
   "cell_type": "code",
   "execution_count": 6,
   "metadata": {},
   "outputs": [
    {
     "data": {
      "text/plain": [
       "0.9898911439276338"
      ]
     },
     "execution_count": 6,
     "metadata": {},
     "output_type": "execute_result"
    }
   ],
   "source": [
    "df['BodyLength'].corr(df['HeadLength'])"
   ]
  },
  {
   "cell_type": "code",
   "execution_count": 7,
   "metadata": {},
   "outputs": [
    {
     "data": {
      "text/html": [
       "<div>\n",
       "<style scoped>\n",
       "    .dataframe tbody tr th:only-of-type {\n",
       "        vertical-align: middle;\n",
       "    }\n",
       "\n",
       "    .dataframe tbody tr th {\n",
       "        vertical-align: top;\n",
       "    }\n",
       "\n",
       "    .dataframe thead th {\n",
       "        text-align: right;\n",
       "    }\n",
       "</style>\n",
       "<table border=\"1\" class=\"dataframe\">\n",
       "  <thead>\n",
       "    <tr style=\"text-align: right;\">\n",
       "      <th></th>\n",
       "      <th>HeadLength</th>\n",
       "      <th>BodyLength</th>\n",
       "    </tr>\n",
       "  </thead>\n",
       "  <tbody>\n",
       "    <tr>\n",
       "      <th>HeadLength</th>\n",
       "      <td>1.000000</td>\n",
       "      <td>0.989891</td>\n",
       "    </tr>\n",
       "    <tr>\n",
       "      <th>BodyLength</th>\n",
       "      <td>0.989891</td>\n",
       "      <td>1.000000</td>\n",
       "    </tr>\n",
       "  </tbody>\n",
       "</table>\n",
       "</div>"
      ],
      "text/plain": [
       "            HeadLength  BodyLength\n",
       "HeadLength    1.000000    0.989891\n",
       "BodyLength    0.989891    1.000000"
      ]
     },
     "execution_count": 7,
     "metadata": {},
     "output_type": "execute_result"
    }
   ],
   "source": [
    "df.corr()"
   ]
  },
  {
   "cell_type": "markdown",
   "metadata": {},
   "source": [
    "Make a scatter plot:"
   ]
  },
  {
   "cell_type": "code",
   "execution_count": 9,
   "metadata": {},
   "outputs": [
    {
     "data": {
      "text/plain": [
       "<matplotlib.collections.PathCollection at 0x1225d49a0>"
      ]
     },
     "execution_count": 9,
     "metadata": {},
     "output_type": "execute_result"
    },
    {
     "data": {
      "image/png": "[encoded data removed]",
      "text/plain": [
       "<Figure size 432x288 with 1 Axes>"
      ]
     },
     "metadata": {
      "needs_background": "light"
     },
     "output_type": "display_data"
    }
   ],
   "source": [
    "plt.scatter(x=df['BodyLength'], y=df['HeadLength'])"
   ]
  },
  {
   "cell_type": "code",
   "execution_count": 10,
   "metadata": {},
   "outputs": [
    {
     "data": {
      "text/plain": [
       "<matplotlib.axes._subplots.AxesSubplot at 0x1226567c0>"
      ]
     },
     "execution_count": 10,
     "metadata": {},
     "output_type": "execute_result"
    },
    {
     "data": {
      "image/png": "[encoded data removed]",
      "text/plain": [
       "<Figure size 432x288 with 1 Axes>"
      ]
     },
     "metadata": {
      "needs_background": "light"
     },
     "output_type": "display_data"
    }
   ],
   "source": [
    "sns.scatterplot(x=df['BodyLength'], y=df['HeadLength'])"
   ]
  },
  {
   "cell_type": "code",
   "execution_count": 12,
   "metadata": {},
   "outputs": [
    {
     "data": {
      "text/plain": [
       "<seaborn.axisgrid.FacetGrid at 0x1228d1f40>"
      ]
     },
     "execution_count": 12,
     "metadata": {},
     "output_type": "execute_result"
    },
    {
     "data": {
      "image/png": "[encoded data removed]",
      "text/plain": [
       "<Figure size 360x360 with 1 Axes>"
      ]
     },
     "metadata": {
      "needs_background": "light"
     },
     "output_type": "display_data"
    }
   ],
   "source": [
    "sns.lmplot(data=df, x='HeadLength', y='BodyLength')\n",
    "\n",
    "# the lm plot with seaborn shows not ony a scatter plot,\n",
    "# but also fits a line through the data points by using the OLS criteria\n",
    "# and minimizes the sum of squared errors!! "
   ]
  },
  {
   "cell_type": "markdown",
   "metadata": {},
   "source": [
    "### Linear Regression"
   ]
  },
  {
   "cell_type": "markdown",
   "metadata": {},
   "source": [
    "statsmodels"
   ]
  },
  {
   "cell_type": "code",
   "execution_count": 13,
   "metadata": {},
   "outputs": [],
   "source": [
    "X = df['HeadLength']\n",
    "Y = df['BodyLength']"
   ]
  },
  {
   "cell_type": "markdown",
   "metadata": {},
   "source": [
    "statsmodels has this peculiarity where you HAVE to add the constant before you fit your model. It's silly, but how the package is made. Don't forget!!"
   ]
  },
  {
   "cell_type": "code",
   "execution_count": 15,
   "metadata": {},
   "outputs": [
    {
     "name": "stdout",
     "output_type": "stream",
     "text": [
      "    const  HeadLength\n",
      "0     1.0          24\n",
      "1     1.0          24\n",
      "2     1.0          32\n",
      "3     1.0          35\n",
      "4     1.0          40\n",
      "5     1.0          40\n",
      "6     1.0          46\n",
      "7     1.0          48\n",
      "8     1.0          52\n",
      "9     1.0          61\n",
      "10    1.0          51\n",
      "11    1.0          54\n",
      "12    1.0          38\n",
      "13    1.0          46\n",
      "14    1.0          38\n",
      "15    1.0          49\n",
      "16    1.0          39\n",
      "17    1.0          49\n",
      "18    1.0          40\n",
      "19    1.0          53\n",
      "20    1.0          61\n",
      "21    1.0          53\n",
      "22    1.0          44\n",
      "23    1.0          54\n",
      "24    1.0          50\n",
      "25    1.0          57\n",
      "26    1.0          40\n",
      "27    1.0          51\n"
     ]
    }
   ],
   "source": [
    "X = sm.add_constant(X)\n",
    "print(X)\n",
    "\n",
    "# this essentially forces our lin reg model to add a constant so that \n",
    "# the line of best fit isn't forced to start at the origin(0,0) which wouldn't be a good fit"
   ]
  },
  {
   "cell_type": "markdown",
   "metadata": {},
   "source": [
    "we want Y = mx + b\n",
    "statsmodels does: Y = mx\n",
    "    \n",
    "statsmodels for each variable will give coefficient, but no intercept!\n",
    "\n",
    "If I have X, Y\n",
    "statsmodels does: Y = mX + nZ\n",
    "\n",
    "So we need a trick:\n",
    "    Z = 1. \n",
    "    \n",
    " Y = mX + n*1  == mX + n (or essentially mX + b)"
   ]
  },
  {
   "cell_type": "code",
   "execution_count": 16,
   "metadata": {},
   "outputs": [
    {
     "name": "stdout",
     "output_type": "stream",
     "text": [
      "<statsmodels.regression.linear_model.OLS object at 0x1229a4a00>\n"
     ]
    }
   ],
   "source": [
    "model = sm.OLS(Y, X)\n",
    "# first dependent var, then independent var\n",
    "\n",
    "print(model)"
   ]
  },
  {
   "cell_type": "code",
   "execution_count": 17,
   "metadata": {},
   "outputs": [
    {
     "name": "stdout",
     "output_type": "stream",
     "text": [
      "<statsmodels.regression.linear_model.RegressionResultsWrapper object at 0x1229a4d30>\n"
     ]
    }
   ],
   "source": [
    "# now FIT the model to get results:\n",
    "# fit the line to minimize the sum of sqrd. errors\n",
    "\n",
    "results = model.fit()\n",
    "print(results)"
   ]
  },
  {
   "cell_type": "code",
   "execution_count": 18,
   "metadata": {},
   "outputs": [
    {
     "data": {
      "text/html": [
       "<table class=\"simpletable\">\n",
       "<caption>OLS Regression Results</caption>\n",
       "<tr>\n",
       "  <th>Dep. Variable:</th>       <td>BodyLength</td>    <th>  R-squared:         </th> <td>   0.980</td>\n",
       "</tr>\n",
       "<tr>\n",
       "  <th>Model:</th>                   <td>OLS</td>       <th>  Adj. R-squared:    </th> <td>   0.979</td>\n",
       "</tr>\n",
       "<tr>\n",
       "  <th>Method:</th>             <td>Least Squares</td>  <th>  F-statistic:       </th> <td>   1267.</td>\n",
       "</tr>\n",
       "<tr>\n",
       "  <th>Date:</th>             <td>Sat, 07 Nov 2020</td> <th>  Prob (F-statistic):</th> <td>1.38e-23</td>\n",
       "</tr>\n",
       "<tr>\n",
       "  <th>Time:</th>                 <td>11:34:00</td>     <th>  Log-Likelihood:    </th> <td> -105.32</td>\n",
       "</tr>\n",
       "<tr>\n",
       "  <th>No. Observations:</th>      <td>    28</td>      <th>  AIC:               </th> <td>   214.6</td>\n",
       "</tr>\n",
       "<tr>\n",
       "  <th>Df Residuals:</th>          <td>    26</td>      <th>  BIC:               </th> <td>   217.3</td>\n",
       "</tr>\n",
       "<tr>\n",
       "  <th>Df Model:</th>              <td>     1</td>      <th>                     </th>     <td> </td>   \n",
       "</tr>\n",
       "<tr>\n",
       "  <th>Covariance Type:</th>      <td>nonrobust</td>    <th>                     </th>     <td> </td>   \n",
       "</tr>\n",
       "</table>\n",
       "<table class=\"simpletable\">\n",
       "<tr>\n",
       "       <td></td>         <th>coef</th>     <th>std err</th>      <th>t</th>      <th>P>|t|</th>  <th>[0.025</th>    <th>0.975]</th>  \n",
       "</tr>\n",
       "<tr>\n",
       "  <th>const</th>      <td>  -18.2740</td> <td>    9.966</td> <td>   -1.834</td> <td> 0.078</td> <td>  -38.760</td> <td>    2.212</td>\n",
       "</tr>\n",
       "<tr>\n",
       "  <th>HeadLength</th> <td>    7.6601</td> <td>    0.215</td> <td>   35.588</td> <td> 0.000</td> <td>    7.218</td> <td>    8.103</td>\n",
       "</tr>\n",
       "</table>\n",
       "<table class=\"simpletable\">\n",
       "<tr>\n",
       "  <th>Omnibus:</th>       <td> 0.667</td> <th>  Durbin-Watson:     </th> <td>   2.342</td>\n",
       "</tr>\n",
       "<tr>\n",
       "  <th>Prob(Omnibus):</th> <td> 0.716</td> <th>  Jarque-Bera (JB):  </th> <td>   0.597</td>\n",
       "</tr>\n",
       "<tr>\n",
       "  <th>Skew:</th>          <td> 0.323</td> <th>  Prob(JB):          </th> <td>   0.742</td>\n",
       "</tr>\n",
       "<tr>\n",
       "  <th>Kurtosis:</th>      <td> 2.693</td> <th>  Cond. No.          </th> <td>    226.</td>\n",
       "</tr>\n",
       "</table><br/><br/>Warnings:<br/>[1] Standard Errors assume that the covariance matrix of the errors is correctly specified."
      ],
      "text/plain": [
       "<class 'statsmodels.iolib.summary.Summary'>\n",
       "\"\"\"\n",
       "                            OLS Regression Results                            \n",
       "==============================================================================\n",
       "Dep. Variable:             BodyLength   R-squared:                       0.980\n",
       "Model:                            OLS   Adj. R-squared:                  0.979\n",
       "Method:                 Least Squares   F-statistic:                     1267.\n",
       "Date:                Sat, 07 Nov 2020   Prob (F-statistic):           1.38e-23\n",
       "Time:                        11:34:00   Log-Likelihood:                -105.32\n",
       "No. Observations:                  28   AIC:                             214.6\n",
       "Df Residuals:                      26   BIC:                             217.3\n",
       "Df Model:                           1                                         \n",
       "Covariance Type:            nonrobust                                         \n",
       "==============================================================================\n",
       "                 coef    std err          t      P>|t|      [0.025      0.975]\n",
       "------------------------------------------------------------------------------\n",
       "const        -18.2740      9.966     -1.834      0.078     -38.760       2.212\n",
       "HeadLength     7.6601      0.215     35.588      0.000       7.218       8.103\n",
       "==============================================================================\n",
       "Omnibus:                        0.667   Durbin-Watson:                   2.342\n",
       "Prob(Omnibus):                  0.716   Jarque-Bera (JB):                0.597\n",
       "Skew:                           0.323   Prob(JB):                        0.742\n",
       "Kurtosis:                       2.693   Cond. No.                         226.\n",
       "==============================================================================\n",
       "\n",
       "Warnings:\n",
       "[1] Standard Errors assume that the covariance matrix of the errors is correctly specified.\n",
       "\"\"\""
      ]
     },
     "execution_count": 18,
     "metadata": {},
     "output_type": "execute_result"
    }
   ],
   "source": [
    "results.summary()\n",
    "\n",
    "# intercept given as parameter \"const\" (constant): -18.2740\n",
    "# slope given as coefficient of \"HeadLength\" below: 7.6601\n",
    "\n",
    "# Y = (-18.27) + 7.66*X (+ error)"
   ]
  },
  {
   "cell_type": "code",
   "execution_count": 19,
   "metadata": {},
   "outputs": [],
   "source": [
    "# note above: R-squared (0.98) says that:\n",
    "# 98% of the variation in the data can be explained by the model!"
   ]
  },
  {
   "cell_type": "code",
   "execution_count": 20,
   "metadata": {},
   "outputs": [
    {
     "data": {
      "text/plain": [
       "0     165.568483\n",
       "1     165.568483\n",
       "2     226.849320\n",
       "3     249.829634\n",
       "4     288.130157\n",
       "5     288.130157\n",
       "6     334.090785\n",
       "7     349.410995\n",
       "8     380.051413\n",
       "9     448.992355\n",
       "10    372.391309\n",
       "11    395.371623\n",
       "12    272.809948\n",
       "13    334.090785\n",
       "14    272.809948\n",
       "15    357.071099\n",
       "16    280.470053\n",
       "17    357.071099\n",
       "18    288.130157\n",
       "19    387.711518\n",
       "20    448.992355\n",
       "21    387.711518\n",
       "22    318.770576\n",
       "23    395.371623\n",
       "24    364.731204\n",
       "25    418.351937\n",
       "26    288.130157\n",
       "27    372.391309\n",
       "dtype: float64"
      ]
     },
     "execution_count": 20,
     "metadata": {},
     "output_type": "execute_result"
    }
   ],
   "source": [
    "results.predict(X)"
   ]
  },
  {
   "cell_type": "code",
   "execution_count": 32,
   "metadata": {},
   "outputs": [
    {
     "data": {
      "text/plain": [
       "0     161\n",
       "1     179\n",
       "2     226\n",
       "3     259\n",
       "4     287\n",
       "5     300\n",
       "6     342\n",
       "7     333\n",
       "8     406\n",
       "9     459\n",
       "10    376\n",
       "11    380\n",
       "12    265\n",
       "13    349\n",
       "14    264\n",
       "15    358\n",
       "16    276\n",
       "17    356\n",
       "18    270\n",
       "19    392\n",
       "20    442\n",
       "21    377\n",
       "22    322\n",
       "23    390\n",
       "24    377\n",
       "25    419\n",
       "26    276\n",
       "27    368\n",
       "Name: BodyLength, dtype: int64"
      ]
     },
     "execution_count": 32,
     "metadata": {},
     "output_type": "execute_result"
    }
   ],
   "source": [
    "Y"
   ]
  },
  {
   "cell_type": "code",
   "execution_count": null,
   "metadata": {},
   "outputs": [],
   "source": [
    "# compare the actual Y number (e.g. 161), and the X prediction (e.g. 165.57)\n",
    "# to calculate your error terms in practice, or residuals!!!"
   ]
  },
  {
   "cell_type": "code",
   "execution_count": 22,
   "metadata": {},
   "outputs": [],
   "source": [
    "Y_pred = results.predict(X)"
   ]
  },
  {
   "cell_type": "code",
   "execution_count": 24,
   "metadata": {},
   "outputs": [],
   "source": [
    "residuals = Y - Y_pred"
   ]
  },
  {
   "cell_type": "code",
   "execution_count": 25,
   "metadata": {},
   "outputs": [
    {
     "data": {
      "text/plain": [
       "0     -4.568483\n",
       "1     13.431517\n",
       "2     -0.849320\n",
       "3      9.170366\n",
       "4     -1.130157\n",
       "5     11.869843\n",
       "6      7.909215\n",
       "7    -16.410995\n",
       "8     25.948587\n",
       "9     10.007645\n",
       "10     3.608691\n",
       "11   -15.371623\n",
       "12    -7.809948\n",
       "13    14.909215\n",
       "14    -8.809948\n",
       "15     0.928901\n",
       "16    -4.470053\n",
       "17    -1.071099\n",
       "18   -18.130157\n",
       "19     4.288482\n",
       "20    -6.992355\n",
       "21   -10.711518\n",
       "22     3.229424\n",
       "23    -5.371623\n",
       "24    12.268796\n",
       "25     0.648063\n",
       "26   -12.130157\n",
       "27    -4.391309\n",
       "dtype: float64"
      ]
     },
     "execution_count": 25,
     "metadata": {},
     "output_type": "execute_result"
    }
   ],
   "source": [
    "residuals"
   ]
  },
  {
   "cell_type": "code",
   "execution_count": 26,
   "metadata": {},
   "outputs": [
    {
     "data": {
      "text/plain": [
       "108.3283270759337"
      ]
     },
     "execution_count": 26,
     "metadata": {},
     "output_type": "execute_result"
    }
   ],
   "source": [
    "np.mean(residuals**2)\n",
    "\n",
    "# this is your mean squared error!\n",
    "# the lower the better, this would be a pretty high error."
   ]
  },
  {
   "cell_type": "code",
   "execution_count": 27,
   "metadata": {},
   "outputs": [
    {
     "data": {
      "text/plain": [
       "10.408089501725746"
      ]
     },
     "execution_count": 27,
     "metadata": {},
     "output_type": "execute_result"
    }
   ],
   "source": [
    "np.sqrt(np.mean(residuals**2))\n",
    "\n",
    "# RMSE \n",
    "# adjusts for the fact that you squared it.\n",
    "# this is the RMSE (root mean square error), adjusted to be on the same scale as the data."
   ]
  },
  {
   "cell_type": "code",
   "execution_count": 29,
   "metadata": {},
   "outputs": [
    {
     "data": {
      "text/plain": [
       "[<matplotlib.lines.Line2D at 0x122c10dc0>]"
      ]
     },
     "execution_count": 29,
     "metadata": {},
     "output_type": "execute_result"
    },
    {
     "data": {
      "image/png": "[encoded data removed]",
      "text/plain": [
       "<Figure size 432x288 with 1 Axes>"
      ]
     },
     "metadata": {
      "needs_background": "light"
     },
     "output_type": "display_data"
    }
   ],
   "source": [
    "plt.plot(X['HeadLength'], Y_pred, 'o')\n",
    "# perfectly in line because that is the whole point of making the predictions in the first place!"
   ]
  },
  {
   "cell_type": "code",
   "execution_count": 31,
   "metadata": {},
   "outputs": [
    {
     "data": {
      "text/plain": [
       "[<matplotlib.lines.Line2D at 0x122721ca0>]"
      ]
     },
     "execution_count": 31,
     "metadata": {},
     "output_type": "execute_result"
    },
    {
     "data": {
      "image/png": "[encoded data removed]",
      "text/plain": [
       "<Figure size 432x288 with 1 Axes>"
      ]
     },
     "metadata": {
      "needs_background": "light"
     },
     "output_type": "display_data"
    }
   ],
   "source": [
    "plt.plot(X['HeadLength'], Y, 'o')\n",
    "plt.plot(X['HeadLength'], Y_pred, 'o')\n",
    "\n",
    "# compare the predited values and the actual values (here in blue)"
   ]
  },
  {
   "cell_type": "code",
   "execution_count": 33,
   "metadata": {},
   "outputs": [],
   "source": [
    "# The difference between the predicted values and actual values is exactly the residuals that you calculated!!"
   ]
  },
  {
   "cell_type": "code",
   "execution_count": 34,
   "metadata": {},
   "outputs": [
    {
     "data": {
      "text/plain": [
       "[<matplotlib.lines.Line2D at 0x122ece760>]"
      ]
     },
     "execution_count": 34,
     "metadata": {},
     "output_type": "execute_result"
    },
    {
     "data": {
      "image/png": "[encoded data removed]",
      "text/plain": [
       "<Figure size 432x288 with 1 Axes>"
      ]
     },
     "metadata": {
      "needs_background": "light"
     },
     "output_type": "display_data"
    }
   ],
   "source": [
    "plt.plot(X['HeadLength'], residuals, 'o')\n",
    "\n",
    "# we want this plot to look RANDOM! not all systematically positive or negative, just a random cloud. \n",
    "# this means that the way of fitting the line was a good one."
   ]
  },
  {
   "cell_type": "markdown",
   "metadata": {},
   "source": [
    "### Multiple Linear Regression:"
   ]
  },
  {
   "cell_type": "markdown",
   "metadata": {},
   "source": [
    "Change to Fitbit dataset"
   ]
  },
  {
   "cell_type": "code",
   "execution_count": 37,
   "metadata": {},
   "outputs": [
    {
     "data": {
      "text/html": [
       "<div>\n",
       "<style scoped>\n",
       "    .dataframe tbody tr th:only-of-type {\n",
       "        vertical-align: middle;\n",
       "    }\n",
       "\n",
       "    .dataframe tbody tr th {\n",
       "        vertical-align: top;\n",
       "    }\n",
       "\n",
       "    .dataframe thead th {\n",
       "        text-align: right;\n",
       "    }\n",
       "</style>\n",
       "<table border=\"1\" class=\"dataframe\">\n",
       "  <thead>\n",
       "    <tr style=\"text-align: right;\">\n",
       "      <th></th>\n",
       "      <th>Date</th>\n",
       "      <th>Calorie burned</th>\n",
       "      <th>Steps</th>\n",
       "      <th>Distance</th>\n",
       "      <th>Floors</th>\n",
       "      <th>Minutes Sedentary</th>\n",
       "      <th>Minutes Lightly Active</th>\n",
       "      <th>Minutes Fairly Active</th>\n",
       "      <th>Minutes Very Active</th>\n",
       "      <th>Activity Calories</th>\n",
       "      <th>...</th>\n",
       "      <th>Distance_miles</th>\n",
       "      <th>Days</th>\n",
       "      <th>Days_encoded</th>\n",
       "      <th>Work_or_Weekend</th>\n",
       "      <th>Hours Sleep</th>\n",
       "      <th>Sleep efficiency</th>\n",
       "      <th>Yesterday_sleep</th>\n",
       "      <th>Yesterday_sleep_efficiency</th>\n",
       "      <th>Months</th>\n",
       "      <th>Months_encoded</th>\n",
       "    </tr>\n",
       "  </thead>\n",
       "  <tbody>\n",
       "    <tr>\n",
       "      <th>0</th>\n",
       "      <td>2015-05-08</td>\n",
       "      <td>1934</td>\n",
       "      <td>905</td>\n",
       "      <td>0.65</td>\n",
       "      <td>0</td>\n",
       "      <td>1.355</td>\n",
       "      <td>46</td>\n",
       "      <td>0</td>\n",
       "      <td>0</td>\n",
       "      <td>1680</td>\n",
       "      <td>...</td>\n",
       "      <td>0.403891</td>\n",
       "      <td>Friday</td>\n",
       "      <td>4.0</td>\n",
       "      <td>1</td>\n",
       "      <td>6.400000</td>\n",
       "      <td>92.086331</td>\n",
       "      <td>0.000000</td>\n",
       "      <td>0.000000</td>\n",
       "      <td>May</td>\n",
       "      <td>5</td>\n",
       "    </tr>\n",
       "    <tr>\n",
       "      <th>1</th>\n",
       "      <td>2015-05-09</td>\n",
       "      <td>3631</td>\n",
       "      <td>18925</td>\n",
       "      <td>14.11</td>\n",
       "      <td>4</td>\n",
       "      <td>611.000</td>\n",
       "      <td>316</td>\n",
       "      <td>61</td>\n",
       "      <td>60</td>\n",
       "      <td>2248</td>\n",
       "      <td>...</td>\n",
       "      <td>8.767545</td>\n",
       "      <td>Saturday</td>\n",
       "      <td>5.0</td>\n",
       "      <td>0</td>\n",
       "      <td>7.566667</td>\n",
       "      <td>92.464358</td>\n",
       "      <td>6.400000</td>\n",
       "      <td>92.086331</td>\n",
       "      <td>May</td>\n",
       "      <td>5</td>\n",
       "    </tr>\n",
       "    <tr>\n",
       "      <th>2</th>\n",
       "      <td>2015-05-10</td>\n",
       "      <td>3204</td>\n",
       "      <td>14228</td>\n",
       "      <td>10.57</td>\n",
       "      <td>1</td>\n",
       "      <td>602.000</td>\n",
       "      <td>226</td>\n",
       "      <td>14</td>\n",
       "      <td>77</td>\n",
       "      <td>1719</td>\n",
       "      <td>...</td>\n",
       "      <td>6.567891</td>\n",
       "      <td>Sunday</td>\n",
       "      <td>6.0</td>\n",
       "      <td>0</td>\n",
       "      <td>6.450000</td>\n",
       "      <td>88.761468</td>\n",
       "      <td>7.566667</td>\n",
       "      <td>92.464358</td>\n",
       "      <td>May</td>\n",
       "      <td>5</td>\n",
       "    </tr>\n",
       "    <tr>\n",
       "      <th>3</th>\n",
       "      <td>2015-05-11</td>\n",
       "      <td>2673</td>\n",
       "      <td>6756</td>\n",
       "      <td>5.02</td>\n",
       "      <td>8</td>\n",
       "      <td>749.000</td>\n",
       "      <td>190</td>\n",
       "      <td>23</td>\n",
       "      <td>4</td>\n",
       "      <td>9620</td>\n",
       "      <td>...</td>\n",
       "      <td>3.119282</td>\n",
       "      <td>Monday</td>\n",
       "      <td>0.0</td>\n",
       "      <td>1</td>\n",
       "      <td>5.183333</td>\n",
       "      <td>88.857143</td>\n",
       "      <td>6.450000</td>\n",
       "      <td>88.761468</td>\n",
       "      <td>May</td>\n",
       "      <td>5</td>\n",
       "    </tr>\n",
       "    <tr>\n",
       "      <th>4</th>\n",
       "      <td>2015-05-12</td>\n",
       "      <td>2495</td>\n",
       "      <td>502</td>\n",
       "      <td>3.73</td>\n",
       "      <td>1</td>\n",
       "      <td>876.000</td>\n",
       "      <td>171</td>\n",
       "      <td>0</td>\n",
       "      <td>0</td>\n",
       "      <td>7360</td>\n",
       "      <td>...</td>\n",
       "      <td>2.317714</td>\n",
       "      <td>Tuesday</td>\n",
       "      <td>1.0</td>\n",
       "      <td>1</td>\n",
       "      <td>6.783333</td>\n",
       "      <td>82.892057</td>\n",
       "      <td>5.183333</td>\n",
       "      <td>88.857143</td>\n",
       "      <td>May</td>\n",
       "      <td>5</td>\n",
       "    </tr>\n",
       "  </tbody>\n",
       "</table>\n",
       "<p>5 rows × 24 columns</p>\n",
       "</div>"
      ],
      "text/plain": [
       "         Date  Calorie burned  Steps  Distance  Floors  Minutes Sedentary  \\\n",
       "0  2015-05-08            1934    905      0.65       0              1.355   \n",
       "1  2015-05-09            3631  18925     14.11       4            611.000   \n",
       "2  2015-05-10            3204  14228     10.57       1            602.000   \n",
       "3  2015-05-11            2673   6756      5.02       8            749.000   \n",
       "4  2015-05-12            2495    502      3.73       1            876.000   \n",
       "\n",
       "   Minutes Lightly Active  Minutes Fairly Active  Minutes Very Active  \\\n",
       "0                      46                      0                    0   \n",
       "1                     316                     61                   60   \n",
       "2                     226                     14                   77   \n",
       "3                     190                     23                    4   \n",
       "4                     171                      0                    0   \n",
       "\n",
       "   Activity Calories  ...  Distance_miles      Days  Days_encoded  \\\n",
       "0               1680  ...        0.403891    Friday           4.0   \n",
       "1               2248  ...        8.767545  Saturday           5.0   \n",
       "2               1719  ...        6.567891    Sunday           6.0   \n",
       "3               9620  ...        3.119282    Monday           0.0   \n",
       "4               7360  ...        2.317714   Tuesday           1.0   \n",
       "\n",
       "   Work_or_Weekend  Hours Sleep Sleep efficiency  Yesterday_sleep  \\\n",
       "0                1     6.400000        92.086331         0.000000   \n",
       "1                0     7.566667        92.464358         6.400000   \n",
       "2                0     6.450000        88.761468         7.566667   \n",
       "3                1     5.183333        88.857143         6.450000   \n",
       "4                1     6.783333        82.892057         5.183333   \n",
       "\n",
       "   Yesterday_sleep_efficiency  Months  Months_encoded  \n",
       "0                    0.000000     May               5  \n",
       "1                   92.086331     May               5  \n",
       "2                   92.464358     May               5  \n",
       "3                   88.761468     May               5  \n",
       "4                   88.857143     May               5  \n",
       "\n",
       "[5 rows x 24 columns]"
      ]
     },
     "execution_count": 37,
     "metadata": {},
     "output_type": "execute_result"
    }
   ],
   "source": [
    "data = pd.read_csv('Fitbit2.csv')\n",
    "data.head()"
   ]
  },
  {
   "cell_type": "markdown",
   "metadata": {},
   "source": [
    "Steps:\n",
    "    1. correlation matrix\n",
    "    2. scatterplot MinutesOfBeingAwake vs. NumberOfAwakings\n",
    "    3. regression with statsmodels: \"[MinutesOfBeingAwake] = b0 + b1*[NumberOfAwakings]\""
   ]
  },
  {
   "cell_type": "code",
   "execution_count": 38,
   "metadata": {},
   "outputs": [
    {
     "data": {
      "text/html": [
       "<div>\n",
       "<style scoped>\n",
       "    .dataframe tbody tr th:only-of-type {\n",
       "        vertical-align: middle;\n",
       "    }\n",
       "\n",
       "    .dataframe tbody tr th {\n",
       "        vertical-align: top;\n",
       "    }\n",
       "\n",
       "    .dataframe thead th {\n",
       "        text-align: right;\n",
       "    }\n",
       "</style>\n",
       "<table border=\"1\" class=\"dataframe\">\n",
       "  <thead>\n",
       "    <tr style=\"text-align: right;\">\n",
       "      <th></th>\n",
       "      <th>Calorie burned</th>\n",
       "      <th>Steps</th>\n",
       "      <th>Distance</th>\n",
       "      <th>Floors</th>\n",
       "      <th>Minutes Sedentary</th>\n",
       "      <th>Minutes Lightly Active</th>\n",
       "      <th>Minutes Fairly Active</th>\n",
       "      <th>Minutes Very Active</th>\n",
       "      <th>Activity Calories</th>\n",
       "      <th>MinutesOfSleep</th>\n",
       "      <th>...</th>\n",
       "      <th>NumberOfAwakings</th>\n",
       "      <th>LengthOfRestInMinutes</th>\n",
       "      <th>Distance_miles</th>\n",
       "      <th>Days_encoded</th>\n",
       "      <th>Work_or_Weekend</th>\n",
       "      <th>Hours Sleep</th>\n",
       "      <th>Sleep efficiency</th>\n",
       "      <th>Yesterday_sleep</th>\n",
       "      <th>Yesterday_sleep_efficiency</th>\n",
       "      <th>Months_encoded</th>\n",
       "    </tr>\n",
       "  </thead>\n",
       "  <tbody>\n",
       "    <tr>\n",
       "      <th>Calorie burned</th>\n",
       "      <td>1.000000</td>\n",
       "      <td>0.255305</td>\n",
       "      <td>0.292790</td>\n",
       "      <td>0.130757</td>\n",
       "      <td>0.125353</td>\n",
       "      <td>0.209540</td>\n",
       "      <td>0.188256</td>\n",
       "      <td>0.197881</td>\n",
       "      <td>-0.130758</td>\n",
       "      <td>0.011485</td>\n",
       "      <td>...</td>\n",
       "      <td>0.030490</td>\n",
       "      <td>0.017460</td>\n",
       "      <td>0.292790</td>\n",
       "      <td>-0.041630</td>\n",
       "      <td>0.064943</td>\n",
       "      <td>0.011485</td>\n",
       "      <td>0.040965</td>\n",
       "      <td>0.048411</td>\n",
       "      <td>0.021207</td>\n",
       "      <td>0.005841</td>\n",
       "    </tr>\n",
       "    <tr>\n",
       "      <th>Steps</th>\n",
       "      <td>0.255305</td>\n",
       "      <td>1.000000</td>\n",
       "      <td>0.779678</td>\n",
       "      <td>0.306511</td>\n",
       "      <td>0.076906</td>\n",
       "      <td>0.393010</td>\n",
       "      <td>0.303244</td>\n",
       "      <td>0.571452</td>\n",
       "      <td>-0.160568</td>\n",
       "      <td>0.130986</td>\n",
       "      <td>...</td>\n",
       "      <td>0.106591</td>\n",
       "      <td>0.133405</td>\n",
       "      <td>0.779678</td>\n",
       "      <td>-0.024671</td>\n",
       "      <td>0.006498</td>\n",
       "      <td>0.130986</td>\n",
       "      <td>0.128463</td>\n",
       "      <td>0.089991</td>\n",
       "      <td>0.083499</td>\n",
       "      <td>-0.097077</td>\n",
       "    </tr>\n",
       "    <tr>\n",
       "      <th>Distance</th>\n",
       "      <td>0.292790</td>\n",
       "      <td>0.779678</td>\n",
       "      <td>1.000000</td>\n",
       "      <td>0.382940</td>\n",
       "      <td>0.160632</td>\n",
       "      <td>0.455272</td>\n",
       "      <td>0.348113</td>\n",
       "      <td>0.759310</td>\n",
       "      <td>-0.246853</td>\n",
       "      <td>0.129442</td>\n",
       "      <td>...</td>\n",
       "      <td>0.091095</td>\n",
       "      <td>0.134550</td>\n",
       "      <td>1.000000</td>\n",
       "      <td>-0.056472</td>\n",
       "      <td>0.069438</td>\n",
       "      <td>0.129442</td>\n",
       "      <td>0.126663</td>\n",
       "      <td>0.107858</td>\n",
       "      <td>0.075439</td>\n",
       "      <td>-0.122106</td>\n",
       "    </tr>\n",
       "    <tr>\n",
       "      <th>Floors</th>\n",
       "      <td>0.130757</td>\n",
       "      <td>0.306511</td>\n",
       "      <td>0.382940</td>\n",
       "      <td>1.000000</td>\n",
       "      <td>0.057812</td>\n",
       "      <td>-0.085992</td>\n",
       "      <td>0.278408</td>\n",
       "      <td>0.399503</td>\n",
       "      <td>-0.155532</td>\n",
       "      <td>0.069464</td>\n",
       "      <td>...</td>\n",
       "      <td>0.043459</td>\n",
       "      <td>0.075864</td>\n",
       "      <td>0.382940</td>\n",
       "      <td>-0.243848</td>\n",
       "      <td>0.296749</td>\n",
       "      <td>0.069464</td>\n",
       "      <td>0.057192</td>\n",
       "      <td>0.111600</td>\n",
       "      <td>0.092766</td>\n",
       "      <td>-0.032347</td>\n",
       "    </tr>\n",
       "    <tr>\n",
       "      <th>Minutes Sedentary</th>\n",
       "      <td>0.125353</td>\n",
       "      <td>0.076906</td>\n",
       "      <td>0.160632</td>\n",
       "      <td>0.057812</td>\n",
       "      <td>1.000000</td>\n",
       "      <td>0.217021</td>\n",
       "      <td>0.084137</td>\n",
       "      <td>0.105963</td>\n",
       "      <td>-0.161446</td>\n",
       "      <td>0.204242</td>\n",
       "      <td>...</td>\n",
       "      <td>0.178387</td>\n",
       "      <td>0.208539</td>\n",
       "      <td>0.160632</td>\n",
       "      <td>-0.069168</td>\n",
       "      <td>0.071185</td>\n",
       "      <td>0.204242</td>\n",
       "      <td>0.251996</td>\n",
       "      <td>0.069396</td>\n",
       "      <td>0.058520</td>\n",
       "      <td>-0.107068</td>\n",
       "    </tr>\n",
       "    <tr>\n",
       "      <th>Minutes Lightly Active</th>\n",
       "      <td>0.209540</td>\n",
       "      <td>0.393010</td>\n",
       "      <td>0.455272</td>\n",
       "      <td>-0.085992</td>\n",
       "      <td>0.217021</td>\n",
       "      <td>1.000000</td>\n",
       "      <td>0.014288</td>\n",
       "      <td>-0.034425</td>\n",
       "      <td>-0.219892</td>\n",
       "      <td>0.105048</td>\n",
       "      <td>...</td>\n",
       "      <td>0.087150</td>\n",
       "      <td>0.105406</td>\n",
       "      <td>0.455272</td>\n",
       "      <td>0.202433</td>\n",
       "      <td>-0.197896</td>\n",
       "      <td>0.105048</td>\n",
       "      <td>0.101216</td>\n",
       "      <td>0.020973</td>\n",
       "      <td>0.040472</td>\n",
       "      <td>-0.066958</td>\n",
       "    </tr>\n",
       "    <tr>\n",
       "      <th>Minutes Fairly Active</th>\n",
       "      <td>0.188256</td>\n",
       "      <td>0.303244</td>\n",
       "      <td>0.348113</td>\n",
       "      <td>0.278408</td>\n",
       "      <td>0.084137</td>\n",
       "      <td>0.014288</td>\n",
       "      <td>1.000000</td>\n",
       "      <td>0.337839</td>\n",
       "      <td>-0.204562</td>\n",
       "      <td>0.114950</td>\n",
       "      <td>...</td>\n",
       "      <td>0.100498</td>\n",
       "      <td>0.123034</td>\n",
       "      <td>0.348113</td>\n",
       "      <td>-0.098541</td>\n",
       "      <td>0.110282</td>\n",
       "      <td>0.114950</td>\n",
       "      <td>0.092485</td>\n",
       "      <td>0.191620</td>\n",
       "      <td>0.136397</td>\n",
       "      <td>0.105570</td>\n",
       "    </tr>\n",
       "    <tr>\n",
       "      <th>Minutes Very Active</th>\n",
       "      <td>0.197881</td>\n",
       "      <td>0.571452</td>\n",
       "      <td>0.759310</td>\n",
       "      <td>0.399503</td>\n",
       "      <td>0.105963</td>\n",
       "      <td>-0.034425</td>\n",
       "      <td>0.337839</td>\n",
       "      <td>1.000000</td>\n",
       "      <td>-0.187309</td>\n",
       "      <td>0.108018</td>\n",
       "      <td>...</td>\n",
       "      <td>0.099859</td>\n",
       "      <td>0.115641</td>\n",
       "      <td>0.759310</td>\n",
       "      <td>-0.111718</td>\n",
       "      <td>0.103940</td>\n",
       "      <td>0.108018</td>\n",
       "      <td>0.106693</td>\n",
       "      <td>0.120500</td>\n",
       "      <td>0.073853</td>\n",
       "      <td>-0.085153</td>\n",
       "    </tr>\n",
       "    <tr>\n",
       "      <th>Activity Calories</th>\n",
       "      <td>-0.130758</td>\n",
       "      <td>-0.160568</td>\n",
       "      <td>-0.246853</td>\n",
       "      <td>-0.155532</td>\n",
       "      <td>-0.161446</td>\n",
       "      <td>-0.219892</td>\n",
       "      <td>-0.204562</td>\n",
       "      <td>-0.187309</td>\n",
       "      <td>1.000000</td>\n",
       "      <td>-0.005804</td>\n",
       "      <td>...</td>\n",
       "      <td>0.022757</td>\n",
       "      <td>-0.004992</td>\n",
       "      <td>-0.246853</td>\n",
       "      <td>-0.074707</td>\n",
       "      <td>0.044292</td>\n",
       "      <td>-0.005804</td>\n",
       "      <td>-0.020122</td>\n",
       "      <td>-0.074408</td>\n",
       "      <td>-0.064989</td>\n",
       "      <td>-0.004207</td>\n",
       "    </tr>\n",
       "    <tr>\n",
       "      <th>MinutesOfSleep</th>\n",
       "      <td>0.011485</td>\n",
       "      <td>0.130986</td>\n",
       "      <td>0.129442</td>\n",
       "      <td>0.069464</td>\n",
       "      <td>0.204242</td>\n",
       "      <td>0.105048</td>\n",
       "      <td>0.114950</td>\n",
       "      <td>0.108018</td>\n",
       "      <td>-0.005804</td>\n",
       "      <td>1.000000</td>\n",
       "      <td>...</td>\n",
       "      <td>0.780512</td>\n",
       "      <td>0.997184</td>\n",
       "      <td>0.129442</td>\n",
       "      <td>-0.033913</td>\n",
       "      <td>0.094152</td>\n",
       "      <td>1.000000</td>\n",
       "      <td>0.807964</td>\n",
       "      <td>0.148113</td>\n",
       "      <td>0.095999</td>\n",
       "      <td>-0.127980</td>\n",
       "    </tr>\n",
       "    <tr>\n",
       "      <th>MinutesOfBeingAwake</th>\n",
       "      <td>0.041999</td>\n",
       "      <td>0.124846</td>\n",
       "      <td>0.130447</td>\n",
       "      <td>0.064587</td>\n",
       "      <td>0.200589</td>\n",
       "      <td>0.096107</td>\n",
       "      <td>0.104303</td>\n",
       "      <td>0.116559</td>\n",
       "      <td>0.010859</td>\n",
       "      <td>0.779595</td>\n",
       "      <td>...</td>\n",
       "      <td>0.951817</td>\n",
       "      <td>0.820110</td>\n",
       "      <td>0.130447</td>\n",
       "      <td>0.013195</td>\n",
       "      <td>0.038051</td>\n",
       "      <td>0.779595</td>\n",
       "      <td>0.599178</td>\n",
       "      <td>0.160424</td>\n",
       "      <td>0.131307</td>\n",
       "      <td>-0.112566</td>\n",
       "    </tr>\n",
       "    <tr>\n",
       "      <th>NumberOfAwakings</th>\n",
       "      <td>0.030490</td>\n",
       "      <td>0.106591</td>\n",
       "      <td>0.091095</td>\n",
       "      <td>0.043459</td>\n",
       "      <td>0.178387</td>\n",
       "      <td>0.087150</td>\n",
       "      <td>0.100498</td>\n",
       "      <td>0.099859</td>\n",
       "      <td>0.022757</td>\n",
       "      <td>0.780512</td>\n",
       "      <td>...</td>\n",
       "      <td>1.000000</td>\n",
       "      <td>0.817326</td>\n",
       "      <td>0.091095</td>\n",
       "      <td>0.008669</td>\n",
       "      <td>0.034571</td>\n",
       "      <td>0.780512</td>\n",
       "      <td>0.602739</td>\n",
       "      <td>0.166524</td>\n",
       "      <td>0.129371</td>\n",
       "      <td>-0.097950</td>\n",
       "    </tr>\n",
       "    <tr>\n",
       "      <th>LengthOfRestInMinutes</th>\n",
       "      <td>0.017460</td>\n",
       "      <td>0.133405</td>\n",
       "      <td>0.134550</td>\n",
       "      <td>0.075864</td>\n",
       "      <td>0.208539</td>\n",
       "      <td>0.105406</td>\n",
       "      <td>0.123034</td>\n",
       "      <td>0.115641</td>\n",
       "      <td>-0.004992</td>\n",
       "      <td>0.997184</td>\n",
       "      <td>...</td>\n",
       "      <td>0.817326</td>\n",
       "      <td>1.000000</td>\n",
       "      <td>0.134550</td>\n",
       "      <td>-0.031381</td>\n",
       "      <td>0.088413</td>\n",
       "      <td>0.997184</td>\n",
       "      <td>0.802929</td>\n",
       "      <td>0.155924</td>\n",
       "      <td>0.104498</td>\n",
       "      <td>-0.126111</td>\n",
       "    </tr>\n",
       "    <tr>\n",
       "      <th>Distance_miles</th>\n",
       "      <td>0.292790</td>\n",
       "      <td>0.779678</td>\n",
       "      <td>1.000000</td>\n",
       "      <td>0.382940</td>\n",
       "      <td>0.160632</td>\n",
       "      <td>0.455272</td>\n",
       "      <td>0.348113</td>\n",
       "      <td>0.759310</td>\n",
       "      <td>-0.246853</td>\n",
       "      <td>0.129442</td>\n",
       "      <td>...</td>\n",
       "      <td>0.091095</td>\n",
       "      <td>0.134550</td>\n",
       "      <td>1.000000</td>\n",
       "      <td>-0.056472</td>\n",
       "      <td>0.069438</td>\n",
       "      <td>0.129442</td>\n",
       "      <td>0.126663</td>\n",
       "      <td>0.107858</td>\n",
       "      <td>0.075439</td>\n",
       "      <td>-0.122106</td>\n",
       "    </tr>\n",
       "    <tr>\n",
       "      <th>Days_encoded</th>\n",
       "      <td>-0.041630</td>\n",
       "      <td>-0.024671</td>\n",
       "      <td>-0.056472</td>\n",
       "      <td>-0.243848</td>\n",
       "      <td>-0.069168</td>\n",
       "      <td>0.202433</td>\n",
       "      <td>-0.098541</td>\n",
       "      <td>-0.111718</td>\n",
       "      <td>-0.074707</td>\n",
       "      <td>-0.033913</td>\n",
       "      <td>...</td>\n",
       "      <td>0.008669</td>\n",
       "      <td>-0.031381</td>\n",
       "      <td>-0.056472</td>\n",
       "      <td>1.000000</td>\n",
       "      <td>-0.787990</td>\n",
       "      <td>-0.033913</td>\n",
       "      <td>0.012904</td>\n",
       "      <td>0.043627</td>\n",
       "      <td>0.039621</td>\n",
       "      <td>-0.015019</td>\n",
       "    </tr>\n",
       "    <tr>\n",
       "      <th>Work_or_Weekend</th>\n",
       "      <td>0.064943</td>\n",
       "      <td>0.006498</td>\n",
       "      <td>0.069438</td>\n",
       "      <td>0.296749</td>\n",
       "      <td>0.071185</td>\n",
       "      <td>-0.197896</td>\n",
       "      <td>0.110282</td>\n",
       "      <td>0.103940</td>\n",
       "      <td>0.044292</td>\n",
       "      <td>0.094152</td>\n",
       "      <td>...</td>\n",
       "      <td>0.034571</td>\n",
       "      <td>0.088413</td>\n",
       "      <td>0.069438</td>\n",
       "      <td>-0.787990</td>\n",
       "      <td>1.000000</td>\n",
       "      <td>0.094152</td>\n",
       "      <td>0.032282</td>\n",
       "      <td>0.052073</td>\n",
       "      <td>0.008960</td>\n",
       "      <td>0.009849</td>\n",
       "    </tr>\n",
       "    <tr>\n",
       "      <th>Hours Sleep</th>\n",
       "      <td>0.011485</td>\n",
       "      <td>0.130986</td>\n",
       "      <td>0.129442</td>\n",
       "      <td>0.069464</td>\n",
       "      <td>0.204242</td>\n",
       "      <td>0.105048</td>\n",
       "      <td>0.114950</td>\n",
       "      <td>0.108018</td>\n",
       "      <td>-0.005804</td>\n",
       "      <td>1.000000</td>\n",
       "      <td>...</td>\n",
       "      <td>0.780512</td>\n",
       "      <td>0.997184</td>\n",
       "      <td>0.129442</td>\n",
       "      <td>-0.033913</td>\n",
       "      <td>0.094152</td>\n",
       "      <td>1.000000</td>\n",
       "      <td>0.807964</td>\n",
       "      <td>0.148113</td>\n",
       "      <td>0.095999</td>\n",
       "      <td>-0.127980</td>\n",
       "    </tr>\n",
       "    <tr>\n",
       "      <th>Sleep efficiency</th>\n",
       "      <td>0.040965</td>\n",
       "      <td>0.128463</td>\n",
       "      <td>0.126663</td>\n",
       "      <td>0.057192</td>\n",
       "      <td>0.251996</td>\n",
       "      <td>0.101216</td>\n",
       "      <td>0.092485</td>\n",
       "      <td>0.106693</td>\n",
       "      <td>-0.020122</td>\n",
       "      <td>0.807964</td>\n",
       "      <td>...</td>\n",
       "      <td>0.602739</td>\n",
       "      <td>0.802929</td>\n",
       "      <td>0.126663</td>\n",
       "      <td>0.012904</td>\n",
       "      <td>0.032282</td>\n",
       "      <td>0.807964</td>\n",
       "      <td>1.000000</td>\n",
       "      <td>0.115567</td>\n",
       "      <td>0.069244</td>\n",
       "      <td>-0.118577</td>\n",
       "    </tr>\n",
       "    <tr>\n",
       "      <th>Yesterday_sleep</th>\n",
       "      <td>0.048411</td>\n",
       "      <td>0.089991</td>\n",
       "      <td>0.107858</td>\n",
       "      <td>0.111600</td>\n",
       "      <td>0.069396</td>\n",
       "      <td>0.020973</td>\n",
       "      <td>0.191620</td>\n",
       "      <td>0.120500</td>\n",
       "      <td>-0.074408</td>\n",
       "      <td>0.148113</td>\n",
       "      <td>...</td>\n",
       "      <td>0.166524</td>\n",
       "      <td>0.155924</td>\n",
       "      <td>0.107858</td>\n",
       "      <td>0.043627</td>\n",
       "      <td>0.052073</td>\n",
       "      <td>0.148113</td>\n",
       "      <td>0.115567</td>\n",
       "      <td>1.000000</td>\n",
       "      <td>0.810782</td>\n",
       "      <td>-0.132628</td>\n",
       "    </tr>\n",
       "    <tr>\n",
       "      <th>Yesterday_sleep_efficiency</th>\n",
       "      <td>0.021207</td>\n",
       "      <td>0.083499</td>\n",
       "      <td>0.075439</td>\n",
       "      <td>0.092766</td>\n",
       "      <td>0.058520</td>\n",
       "      <td>0.040472</td>\n",
       "      <td>0.136397</td>\n",
       "      <td>0.073853</td>\n",
       "      <td>-0.064989</td>\n",
       "      <td>0.095999</td>\n",
       "      <td>...</td>\n",
       "      <td>0.129371</td>\n",
       "      <td>0.104498</td>\n",
       "      <td>0.075439</td>\n",
       "      <td>0.039621</td>\n",
       "      <td>0.008960</td>\n",
       "      <td>0.095999</td>\n",
       "      <td>0.069244</td>\n",
       "      <td>0.810782</td>\n",
       "      <td>1.000000</td>\n",
       "      <td>-0.114661</td>\n",
       "    </tr>\n",
       "    <tr>\n",
       "      <th>Months_encoded</th>\n",
       "      <td>0.005841</td>\n",
       "      <td>-0.097077</td>\n",
       "      <td>-0.122106</td>\n",
       "      <td>-0.032347</td>\n",
       "      <td>-0.107068</td>\n",
       "      <td>-0.066958</td>\n",
       "      <td>0.105570</td>\n",
       "      <td>-0.085153</td>\n",
       "      <td>-0.004207</td>\n",
       "      <td>-0.127980</td>\n",
       "      <td>...</td>\n",
       "      <td>-0.097950</td>\n",
       "      <td>-0.126111</td>\n",
       "      <td>-0.122106</td>\n",
       "      <td>-0.015019</td>\n",
       "      <td>0.009849</td>\n",
       "      <td>-0.127980</td>\n",
       "      <td>-0.118577</td>\n",
       "      <td>-0.132628</td>\n",
       "      <td>-0.114661</td>\n",
       "      <td>1.000000</td>\n",
       "    </tr>\n",
       "  </tbody>\n",
       "</table>\n",
       "<p>21 rows × 21 columns</p>\n",
       "</div>"
      ],
      "text/plain": [
       "                            Calorie burned     Steps  Distance    Floors  \\\n",
       "Calorie burned                    1.000000  0.255305  0.292790  0.130757   \n",
       "Steps                             0.255305  1.000000  0.779678  0.306511   \n",
       "Distance                          0.292790  0.779678  1.000000  0.382940   \n",
       "Floors                            0.130757  0.306511  0.382940  1.000000   \n",
       "Minutes Sedentary                 0.125353  0.076906  0.160632  0.057812   \n",
       "Minutes Lightly Active            0.209540  0.393010  0.455272 -0.085992   \n",
       "Minutes Fairly Active             0.188256  0.303244  0.348113  0.278408   \n",
       "Minutes Very Active               0.197881  0.571452  0.759310  0.399503   \n",
       "Activity Calories                -0.130758 -0.160568 -0.246853 -0.155532   \n",
       "MinutesOfSleep                    0.011485  0.130986  0.129442  0.069464   \n",
       "MinutesOfBeingAwake               0.041999  0.124846  0.130447  0.064587   \n",
       "NumberOfAwakings                  0.030490  0.106591  0.091095  0.043459   \n",
       "LengthOfRestInMinutes             0.017460  0.133405  0.134550  0.075864   \n",
       "Distance_miles                    0.292790  0.779678  1.000000  0.382940   \n",
       "Days_encoded                     -0.041630 -0.024671 -0.056472 -0.243848   \n",
       "Work_or_Weekend                   0.064943  0.006498  0.069438  0.296749   \n",
       "Hours Sleep                       0.011485  0.130986  0.129442  0.069464   \n",
       "Sleep efficiency                  0.040965  0.128463  0.126663  0.057192   \n",
       "Yesterday_sleep                   0.048411  0.089991  0.107858  0.111600   \n",
       "Yesterday_sleep_efficiency        0.021207  0.083499  0.075439  0.092766   \n",
       "Months_encoded                    0.005841 -0.097077 -0.122106 -0.032347   \n",
       "\n",
       "                            Minutes Sedentary  Minutes Lightly Active  \\\n",
       "Calorie burned                       0.125353                0.209540   \n",
       "Steps                                0.076906                0.393010   \n",
       "Distance                             0.160632                0.455272   \n",
       "Floors                               0.057812               -0.085992   \n",
       "Minutes Sedentary                    1.000000                0.217021   \n",
       "Minutes Lightly Active               0.217021                1.000000   \n",
       "Minutes Fairly Active                0.084137                0.014288   \n",
       "Minutes Very Active                  0.105963               -0.034425   \n",
       "Activity Calories                   -0.161446               -0.219892   \n",
       "MinutesOfSleep                       0.204242                0.105048   \n",
       "MinutesOfBeingAwake                  0.200589                0.096107   \n",
       "NumberOfAwakings                     0.178387                0.087150   \n",
       "LengthOfRestInMinutes                0.208539                0.105406   \n",
       "Distance_miles                       0.160632                0.455272   \n",
       "Days_encoded                        -0.069168                0.202433   \n",
       "Work_or_Weekend                      0.071185               -0.197896   \n",
       "Hours Sleep                          0.204242                0.105048   \n",
       "Sleep efficiency                     0.251996                0.101216   \n",
       "Yesterday_sleep                      0.069396                0.020973   \n",
       "Yesterday_sleep_efficiency           0.058520                0.040472   \n",
       "Months_encoded                      -0.107068               -0.066958   \n",
       "\n",
       "                            Minutes Fairly Active  Minutes Very Active  \\\n",
       "Calorie burned                           0.188256             0.197881   \n",
       "Steps                                    0.303244             0.571452   \n",
       "Distance                                 0.348113             0.759310   \n",
       "Floors                                   0.278408             0.399503   \n",
       "Minutes Sedentary                        0.084137             0.105963   \n",
       "Minutes Lightly Active                   0.014288            -0.034425   \n",
       "Minutes Fairly Active                    1.000000             0.337839   \n",
       "Minutes Very Active                      0.337839             1.000000   \n",
       "Activity Calories                       -0.204562            -0.187309   \n",
       "MinutesOfSleep                           0.114950             0.108018   \n",
       "MinutesOfBeingAwake                      0.104303             0.116559   \n",
       "NumberOfAwakings                         0.100498             0.099859   \n",
       "LengthOfRestInMinutes                    0.123034             0.115641   \n",
       "Distance_miles                           0.348113             0.759310   \n",
       "Days_encoded                            -0.098541            -0.111718   \n",
       "Work_or_Weekend                          0.110282             0.103940   \n",
       "Hours Sleep                              0.114950             0.108018   \n",
       "Sleep efficiency                         0.092485             0.106693   \n",
       "Yesterday_sleep                          0.191620             0.120500   \n",
       "Yesterday_sleep_efficiency               0.136397             0.073853   \n",
       "Months_encoded                           0.105570            -0.085153   \n",
       "\n",
       "                            Activity Calories  MinutesOfSleep  ...  \\\n",
       "Calorie burned                      -0.130758        0.011485  ...   \n",
       "Steps                               -0.160568        0.130986  ...   \n",
       "Distance                            -0.246853        0.129442  ...   \n",
       "Floors                              -0.155532        0.069464  ...   \n",
       "Minutes Sedentary                   -0.161446        0.204242  ...   \n",
       "Minutes Lightly Active              -0.219892        0.105048  ...   \n",
       "Minutes Fairly Active               -0.204562        0.114950  ...   \n",
       "Minutes Very Active                 -0.187309        0.108018  ...   \n",
       "Activity Calories                    1.000000       -0.005804  ...   \n",
       "MinutesOfSleep                      -0.005804        1.000000  ...   \n",
       "MinutesOfBeingAwake                  0.010859        0.779595  ...   \n",
       "NumberOfAwakings                     0.022757        0.780512  ...   \n",
       "LengthOfRestInMinutes               -0.004992        0.997184  ...   \n",
       "Distance_miles                      -0.246853        0.129442  ...   \n",
       "Days_encoded                        -0.074707       -0.033913  ...   \n",
       "Work_or_Weekend                      0.044292        0.094152  ...   \n",
       "Hours Sleep                         -0.005804        1.000000  ...   \n",
       "Sleep efficiency                    -0.020122        0.807964  ...   \n",
       "Yesterday_sleep                     -0.074408        0.148113  ...   \n",
       "Yesterday_sleep_efficiency          -0.064989        0.095999  ...   \n",
       "Months_encoded                      -0.004207       -0.127980  ...   \n",
       "\n",
       "                            NumberOfAwakings  LengthOfRestInMinutes  \\\n",
       "Calorie burned                      0.030490               0.017460   \n",
       "Steps                               0.106591               0.133405   \n",
       "Distance                            0.091095               0.134550   \n",
       "Floors                              0.043459               0.075864   \n",
       "Minutes Sedentary                   0.178387               0.208539   \n",
       "Minutes Lightly Active              0.087150               0.105406   \n",
       "Minutes Fairly Active               0.100498               0.123034   \n",
       "Minutes Very Active                 0.099859               0.115641   \n",
       "Activity Calories                   0.022757              -0.004992   \n",
       "MinutesOfSleep                      0.780512               0.997184   \n",
       "MinutesOfBeingAwake                 0.951817               0.820110   \n",
       "NumberOfAwakings                    1.000000               0.817326   \n",
       "LengthOfRestInMinutes               0.817326               1.000000   \n",
       "Distance_miles                      0.091095               0.134550   \n",
       "Days_encoded                        0.008669              -0.031381   \n",
       "Work_or_Weekend                     0.034571               0.088413   \n",
       "Hours Sleep                         0.780512               0.997184   \n",
       "Sleep efficiency                    0.602739               0.802929   \n",
       "Yesterday_sleep                     0.166524               0.155924   \n",
       "Yesterday_sleep_efficiency          0.129371               0.104498   \n",
       "Months_encoded                     -0.097950              -0.126111   \n",
       "\n",
       "                            Distance_miles  Days_encoded  Work_or_Weekend  \\\n",
       "Calorie burned                    0.292790     -0.041630         0.064943   \n",
       "Steps                             0.779678     -0.024671         0.006498   \n",
       "Distance                          1.000000     -0.056472         0.069438   \n",
       "Floors                            0.382940     -0.243848         0.296749   \n",
       "Minutes Sedentary                 0.160632     -0.069168         0.071185   \n",
       "Minutes Lightly Active            0.455272      0.202433        -0.197896   \n",
       "Minutes Fairly Active             0.348113     -0.098541         0.110282   \n",
       "Minutes Very Active               0.759310     -0.111718         0.103940   \n",
       "Activity Calories                -0.246853     -0.074707         0.044292   \n",
       "MinutesOfSleep                    0.129442     -0.033913         0.094152   \n",
       "MinutesOfBeingAwake               0.130447      0.013195         0.038051   \n",
       "NumberOfAwakings                  0.091095      0.008669         0.034571   \n",
       "LengthOfRestInMinutes             0.134550     -0.031381         0.088413   \n",
       "Distance_miles                    1.000000     -0.056472         0.069438   \n",
       "Days_encoded                     -0.056472      1.000000        -0.787990   \n",
       "Work_or_Weekend                   0.069438     -0.787990         1.000000   \n",
       "Hours Sleep                       0.129442     -0.033913         0.094152   \n",
       "Sleep efficiency                  0.126663      0.012904         0.032282   \n",
       "Yesterday_sleep                   0.107858      0.043627         0.052073   \n",
       "Yesterday_sleep_efficiency        0.075439      0.039621         0.008960   \n",
       "Months_encoded                   -0.122106     -0.015019         0.009849   \n",
       "\n",
       "                            Hours Sleep  Sleep efficiency  Yesterday_sleep  \\\n",
       "Calorie burned                 0.011485          0.040965         0.048411   \n",
       "Steps                          0.130986          0.128463         0.089991   \n",
       "Distance                       0.129442          0.126663         0.107858   \n",
       "Floors                         0.069464          0.057192         0.111600   \n",
       "Minutes Sedentary              0.204242          0.251996         0.069396   \n",
       "Minutes Lightly Active         0.105048          0.101216         0.020973   \n",
       "Minutes Fairly Active          0.114950          0.092485         0.191620   \n",
       "Minutes Very Active            0.108018          0.106693         0.120500   \n",
       "Activity Calories             -0.005804         -0.020122        -0.074408   \n",
       "MinutesOfSleep                 1.000000          0.807964         0.148113   \n",
       "MinutesOfBeingAwake            0.779595          0.599178         0.160424   \n",
       "NumberOfAwakings               0.780512          0.602739         0.166524   \n",
       "LengthOfRestInMinutes          0.997184          0.802929         0.155924   \n",
       "Distance_miles                 0.129442          0.126663         0.107858   \n",
       "Days_encoded                  -0.033913          0.012904         0.043627   \n",
       "Work_or_Weekend                0.094152          0.032282         0.052073   \n",
       "Hours Sleep                    1.000000          0.807964         0.148113   \n",
       "Sleep efficiency               0.807964          1.000000         0.115567   \n",
       "Yesterday_sleep                0.148113          0.115567         1.000000   \n",
       "Yesterday_sleep_efficiency     0.095999          0.069244         0.810782   \n",
       "Months_encoded                -0.127980         -0.118577        -0.132628   \n",
       "\n",
       "                            Yesterday_sleep_efficiency  Months_encoded  \n",
       "Calorie burned                                0.021207        0.005841  \n",
       "Steps                                         0.083499       -0.097077  \n",
       "Distance                                      0.075439       -0.122106  \n",
       "Floors                                        0.092766       -0.032347  \n",
       "Minutes Sedentary                             0.058520       -0.107068  \n",
       "Minutes Lightly Active                        0.040472       -0.066958  \n",
       "Minutes Fairly Active                         0.136397        0.105570  \n",
       "Minutes Very Active                           0.073853       -0.085153  \n",
       "Activity Calories                            -0.064989       -0.004207  \n",
       "MinutesOfSleep                                0.095999       -0.127980  \n",
       "MinutesOfBeingAwake                           0.131307       -0.112566  \n",
       "NumberOfAwakings                              0.129371       -0.097950  \n",
       "LengthOfRestInMinutes                         0.104498       -0.126111  \n",
       "Distance_miles                                0.075439       -0.122106  \n",
       "Days_encoded                                  0.039621       -0.015019  \n",
       "Work_or_Weekend                               0.008960        0.009849  \n",
       "Hours Sleep                                   0.095999       -0.127980  \n",
       "Sleep efficiency                              0.069244       -0.118577  \n",
       "Yesterday_sleep                               0.810782       -0.132628  \n",
       "Yesterday_sleep_efficiency                    1.000000       -0.114661  \n",
       "Months_encoded                               -0.114661        1.000000  \n",
       "\n",
       "[21 rows x 21 columns]"
      ]
     },
     "execution_count": 38,
     "metadata": {},
     "output_type": "execute_result"
    }
   ],
   "source": [
    "# Step 1:\n",
    "data.corr()"
   ]
  },
  {
   "cell_type": "code",
   "execution_count": 47,
   "metadata": {},
   "outputs": [
    {
     "data": {
      "text/plain": [
       "<matplotlib.axes._subplots.AxesSubplot at 0x1231dbf70>"
      ]
     },
     "execution_count": 47,
     "metadata": {},
     "output_type": "execute_result"
    },
    {
     "data": {
      "image/png": "[encoded data removed]",
      "text/plain": [
       "<Figure size 1080x720 with 2 Axes>"
      ]
     },
     "metadata": {
      "needs_background": "light"
     },
     "output_type": "display_data"
    }
   ],
   "source": [
    "plt.figure(figsize=(15, 10))\n",
    "sns.heatmap(data.corr(),vmin= -1, vmax= 1, cmap=\"YlGnBu\")"
   ]
  },
  {
   "cell_type": "code",
   "execution_count": 43,
   "metadata": {},
   "outputs": [],
   "source": [
    "# another color option \n",
    "# sns.heatmap(data.corr(), vmin = -1, vmax = 1, cmap = 'RdYlGn')"
   ]
  },
  {
   "cell_type": "code",
   "execution_count": 58,
   "metadata": {},
   "outputs": [
    {
     "data": {
      "text/plain": [
       "<seaborn.axisgrid.FacetGrid at 0x1231f5880>"
      ]
     },
     "execution_count": 58,
     "metadata": {},
     "output_type": "execute_result"
    },
    {
     "data": {
      "image/png": "[encoded data removed]",
      "text/plain": [
       "<Figure size 360x360 with 1 Axes>"
      ]
     },
     "metadata": {
      "needs_background": "light"
     },
     "output_type": "display_data"
    }
   ],
   "source": [
    "# Step 2.\n",
    "sns.lmplot(data=data, x='NumberOfAwakings', y='MinutesOfBeingAwake')"
   ]
  },
  {
   "cell_type": "code",
   "execution_count": 56,
   "metadata": {},
   "outputs": [],
   "source": [
    "# Step 3:\n",
    "\n",
    "X = data['NumberOfAwakings']\n",
    "Y = data['MinutesOfBeingAwake']\n",
    "X = sm.add_constant(X)"
   ]
  },
  {
   "cell_type": "code",
   "execution_count": 55,
   "metadata": {},
   "outputs": [
    {
     "data": {
      "text/html": [
       "<table class=\"simpletable\">\n",
       "<caption>OLS Regression Results</caption>\n",
       "<tr>\n",
       "  <th>Dep. Variable:</th>    <td>MinutesOfBeingAwake</td> <th>  R-squared:         </th> <td>   0.906</td> \n",
       "</tr>\n",
       "<tr>\n",
       "  <th>Model:</th>                    <td>OLS</td>         <th>  Adj. R-squared:    </th> <td>   0.906</td> \n",
       "</tr>\n",
       "<tr>\n",
       "  <th>Method:</th>              <td>Least Squares</td>    <th>  F-statistic:       </th> <td>   3516.</td> \n",
       "</tr>\n",
       "<tr>\n",
       "  <th>Date:</th>              <td>Sat, 07 Nov 2020</td>   <th>  Prob (F-statistic):</th> <td>1.89e-189</td>\n",
       "</tr>\n",
       "<tr>\n",
       "  <th>Time:</th>                  <td>12:52:53</td>       <th>  Log-Likelihood:    </th> <td> -1158.1</td> \n",
       "</tr>\n",
       "<tr>\n",
       "  <th>No. Observations:</th>       <td>   367</td>        <th>  AIC:               </th> <td>   2320.</td> \n",
       "</tr>\n",
       "<tr>\n",
       "  <th>Df Residuals:</th>           <td>   365</td>        <th>  BIC:               </th> <td>   2328.</td> \n",
       "</tr>\n",
       "<tr>\n",
       "  <th>Df Model:</th>               <td>     1</td>        <th>                     </th>     <td> </td>    \n",
       "</tr>\n",
       "<tr>\n",
       "  <th>Covariance Type:</th>       <td>nonrobust</td>      <th>                     </th>     <td> </td>    \n",
       "</tr>\n",
       "</table>\n",
       "<table class=\"simpletable\">\n",
       "<tr>\n",
       "          <td></td>            <th>coef</th>     <th>std err</th>      <th>t</th>      <th>P>|t|</th>  <th>[0.025</th>    <th>0.975]</th>  \n",
       "</tr>\n",
       "<tr>\n",
       "  <th>const</th>            <td>    1.4381</td> <td>    0.538</td> <td>    2.675</td> <td> 0.008</td> <td>    0.381</td> <td>    2.495</td>\n",
       "</tr>\n",
       "<tr>\n",
       "  <th>NumberOfAwakings</th> <td>    1.6405</td> <td>    0.028</td> <td>   59.297</td> <td> 0.000</td> <td>    1.586</td> <td>    1.695</td>\n",
       "</tr>\n",
       "</table>\n",
       "<table class=\"simpletable\">\n",
       "<tr>\n",
       "  <th>Omnibus:</th>       <td>17.535</td> <th>  Durbin-Watson:     </th> <td>   1.830</td>\n",
       "</tr>\n",
       "<tr>\n",
       "  <th>Prob(Omnibus):</th> <td> 0.000</td> <th>  Jarque-Bera (JB):  </th> <td>  31.142</td>\n",
       "</tr>\n",
       "<tr>\n",
       "  <th>Skew:</th>          <td> 0.290</td> <th>  Prob(JB):          </th> <td>1.73e-07</td>\n",
       "</tr>\n",
       "<tr>\n",
       "  <th>Kurtosis:</th>      <td> 4.304</td> <th>  Cond. No.          </th> <td>    35.2</td>\n",
       "</tr>\n",
       "</table><br/><br/>Warnings:<br/>[1] Standard Errors assume that the covariance matrix of the errors is correctly specified."
      ],
      "text/plain": [
       "<class 'statsmodels.iolib.summary.Summary'>\n",
       "\"\"\"\n",
       "                             OLS Regression Results                            \n",
       "===============================================================================\n",
       "Dep. Variable:     MinutesOfBeingAwake   R-squared:                       0.906\n",
       "Model:                             OLS   Adj. R-squared:                  0.906\n",
       "Method:                  Least Squares   F-statistic:                     3516.\n",
       "Date:                 Sat, 07 Nov 2020   Prob (F-statistic):          1.89e-189\n",
       "Time:                         12:52:53   Log-Likelihood:                -1158.1\n",
       "No. Observations:                  367   AIC:                             2320.\n",
       "Df Residuals:                      365   BIC:                             2328.\n",
       "Df Model:                            1                                         \n",
       "Covariance Type:             nonrobust                                         \n",
       "====================================================================================\n",
       "                       coef    std err          t      P>|t|      [0.025      0.975]\n",
       "------------------------------------------------------------------------------------\n",
       "const                1.4381      0.538      2.675      0.008       0.381       2.495\n",
       "NumberOfAwakings     1.6405      0.028     59.297      0.000       1.586       1.695\n",
       "==============================================================================\n",
       "Omnibus:                       17.535   Durbin-Watson:                   1.830\n",
       "Prob(Omnibus):                  0.000   Jarque-Bera (JB):               31.142\n",
       "Skew:                           0.290   Prob(JB):                     1.73e-07\n",
       "Kurtosis:                       4.304   Cond. No.                         35.2\n",
       "==============================================================================\n",
       "\n",
       "Warnings:\n",
       "[1] Standard Errors assume that the covariance matrix of the errors is correctly specified.\n",
       "\"\"\""
      ]
     },
     "execution_count": 55,
     "metadata": {},
     "output_type": "execute_result"
    }
   ],
   "source": [
    "model = sm.OLS(Y,X)\n",
    "results = model.fit()\n",
    "results.summary()"
   ]
  },
  {
   "cell_type": "code",
   "execution_count": 57,
   "metadata": {},
   "outputs": [],
   "source": [
    "# Y = b0 + b1 * X\n",
    "# [MinutesOfBeingAwake] = b0 + b1*[NumberOfAwakings]\n",
    "# [MinutesOfBeingAwake] = 1.4381 + 1.6405*[NumberOfAwakings]\n",
    "# NumberOfAwakings = 5\n",
    "# MinutesOfBeingAwake = 1.4381 + 1.6405 * 5 = 9.64\n",
    "# NumberOfAwakings = 6\n",
    "# MinutesOfBeingAwake = 1.4381 + 1.6405 * 6 = 11.28\n",
    "# interpretation of b1: if we change X by one unit, Y changes by b1 = 1.6405 units!"
   ]
  },
  {
   "cell_type": "markdown",
   "metadata": {},
   "source": [
    "Now look at multiple X variables!\n",
    "\n",
    "Multiple Linear Regression:"
   ]
  },
  {
   "cell_type": "code",
   "execution_count": null,
   "metadata": {},
   "outputs": [],
   "source": [
    "#[MinutesOfBeingAwake]"
   ]
  },
  {
   "cell_type": "code",
   "execution_count": 59,
   "metadata": {},
   "outputs": [
    {
     "data": {
      "text/html": [
       "<table class=\"simpletable\">\n",
       "<caption>OLS Regression Results</caption>\n",
       "<tr>\n",
       "  <th>Dep. Variable:</th>    <td>MinutesOfBeingAwake</td> <th>  R-squared:         </th> <td>   0.908</td> \n",
       "</tr>\n",
       "<tr>\n",
       "  <th>Model:</th>                    <td>OLS</td>         <th>  Adj. R-squared:    </th> <td>   0.907</td> \n",
       "</tr>\n",
       "<tr>\n",
       "  <th>Method:</th>              <td>Least Squares</td>    <th>  F-statistic:       </th> <td>   1794.</td> \n",
       "</tr>\n",
       "<tr>\n",
       "  <th>Date:</th>              <td>Sat, 07 Nov 2020</td>   <th>  Prob (F-statistic):</th> <td>3.22e-189</td>\n",
       "</tr>\n",
       "<tr>\n",
       "  <th>Time:</th>                  <td>12:59:04</td>       <th>  Log-Likelihood:    </th> <td> -1154.3</td> \n",
       "</tr>\n",
       "<tr>\n",
       "  <th>No. Observations:</th>       <td>   367</td>        <th>  AIC:               </th> <td>   2315.</td> \n",
       "</tr>\n",
       "<tr>\n",
       "  <th>Df Residuals:</th>           <td>   364</td>        <th>  BIC:               </th> <td>   2326.</td> \n",
       "</tr>\n",
       "<tr>\n",
       "  <th>Df Model:</th>               <td>     2</td>        <th>                     </th>     <td> </td>    \n",
       "</tr>\n",
       "<tr>\n",
       "  <th>Covariance Type:</th>       <td>nonrobust</td>      <th>                     </th>     <td> </td>    \n",
       "</tr>\n",
       "</table>\n",
       "<table class=\"simpletable\">\n",
       "<tr>\n",
       "          <td></td>            <th>coef</th>     <th>std err</th>      <th>t</th>      <th>P>|t|</th>  <th>[0.025</th>    <th>0.975]</th>  \n",
       "</tr>\n",
       "<tr>\n",
       "  <th>const</th>            <td>   -0.5001</td> <td>    0.881</td> <td>   -0.567</td> <td> 0.571</td> <td>   -2.233</td> <td>    1.233</td>\n",
       "</tr>\n",
       "<tr>\n",
       "  <th>NumberOfAwakings</th> <td>    1.6336</td> <td>    0.028</td> <td>   59.332</td> <td> 0.000</td> <td>    1.579</td> <td>    1.688</td>\n",
       "</tr>\n",
       "<tr>\n",
       "  <th>Distance_miles</th>   <td>    0.3860</td> <td>    0.140</td> <td>    2.761</td> <td> 0.006</td> <td>    0.111</td> <td>    0.661</td>\n",
       "</tr>\n",
       "</table>\n",
       "<table class=\"simpletable\">\n",
       "<tr>\n",
       "  <th>Omnibus:</th>       <td>17.462</td> <th>  Durbin-Watson:     </th> <td>   1.879</td>\n",
       "</tr>\n",
       "<tr>\n",
       "  <th>Prob(Omnibus):</th> <td> 0.000</td> <th>  Jarque-Bera (JB):  </th> <td>  32.472</td>\n",
       "</tr>\n",
       "<tr>\n",
       "  <th>Skew:</th>          <td> 0.270</td> <th>  Prob(JB):          </th> <td>8.89e-08</td>\n",
       "</tr>\n",
       "<tr>\n",
       "  <th>Kurtosis:</th>      <td> 4.353</td> <th>  Cond. No.          </th> <td>    60.3</td>\n",
       "</tr>\n",
       "</table><br/><br/>Warnings:<br/>[1] Standard Errors assume that the covariance matrix of the errors is correctly specified."
      ],
      "text/plain": [
       "<class 'statsmodels.iolib.summary.Summary'>\n",
       "\"\"\"\n",
       "                             OLS Regression Results                            \n",
       "===============================================================================\n",
       "Dep. Variable:     MinutesOfBeingAwake   R-squared:                       0.908\n",
       "Model:                             OLS   Adj. R-squared:                  0.907\n",
       "Method:                  Least Squares   F-statistic:                     1794.\n",
       "Date:                 Sat, 07 Nov 2020   Prob (F-statistic):          3.22e-189\n",
       "Time:                         12:59:04   Log-Likelihood:                -1154.3\n",
       "No. Observations:                  367   AIC:                             2315.\n",
       "Df Residuals:                      364   BIC:                             2326.\n",
       "Df Model:                            2                                         \n",
       "Covariance Type:             nonrobust                                         \n",
       "====================================================================================\n",
       "                       coef    std err          t      P>|t|      [0.025      0.975]\n",
       "------------------------------------------------------------------------------------\n",
       "const               -0.5001      0.881     -0.567      0.571      -2.233       1.233\n",
       "NumberOfAwakings     1.6336      0.028     59.332      0.000       1.579       1.688\n",
       "Distance_miles       0.3860      0.140      2.761      0.006       0.111       0.661\n",
       "==============================================================================\n",
       "Omnibus:                       17.462   Durbin-Watson:                   1.879\n",
       "Prob(Omnibus):                  0.000   Jarque-Bera (JB):               32.472\n",
       "Skew:                           0.270   Prob(JB):                     8.89e-08\n",
       "Kurtosis:                       4.353   Cond. No.                         60.3\n",
       "==============================================================================\n",
       "\n",
       "Warnings:\n",
       "[1] Standard Errors assume that the covariance matrix of the errors is correctly specified.\n",
       "\"\"\""
      ]
     },
     "execution_count": 59,
     "metadata": {},
     "output_type": "execute_result"
    }
   ],
   "source": [
    "X = data[['NumberOfAwakings',  'Distance_miles']]\n",
    "Y = data['MinutesOfBeingAwake']\n",
    "X = sm.add_constant(X)\n",
    "model = sm.OLS(Y,X)\n",
    "results = model.fit()\n",
    "results.summary()"
   ]
  },
  {
   "cell_type": "code",
   "execution_count": 60,
   "metadata": {},
   "outputs": [],
   "source": [
    "# Y = b0 + b1*X + b2*X\n",
    "# [MinutesOfBeingAwake] = b0 + b1*[NumberOfAwakings] + b2*[Distance_miles]\n",
    "# [MinutesOfBeingAwake] = -.5001 + 1.6336*[NumberOfAwakings] + 0.3860*[Distance_miles]\n",
    "# interpretation of coefficients stays the same!\n"
   ]
  },
  {
   "cell_type": "code",
   "execution_count": 61,
   "metadata": {},
   "outputs": [
    {
     "data": {
      "text/plain": [
       "<matplotlib.collections.PathCollection at 0x122ef3ac0>"
      ]
     },
     "execution_count": 61,
     "metadata": {},
     "output_type": "execute_result"
    },
    {
     "data": {
      "image/png": "[encoded data removed]",
      "text/plain": [
       "<Figure size 432x288 with 1 Axes>"
      ]
     },
     "metadata": {
      "needs_background": "light"
     },
     "output_type": "display_data"
    }
   ],
   "source": [
    "Y_pred = results.predict(X)\n",
    "residuals = Y - Y_pred\n",
    "plt.scatter(Y, residuals)"
   ]
  },
  {
   "cell_type": "markdown",
   "metadata": {},
   "source": [
    "Note:\n",
    "In multiple regression, coefficients represent:\n",
    "*ceteris paribus* \n",
    "(or if all else remains constant...)"
   ]
  },
  {
   "cell_type": "markdown",
   "metadata": {},
   "source": [
    "### Estimate OLS parameters using scipy.stats"
   ]
  },
  {
   "cell_type": "code",
   "execution_count": null,
   "metadata": {},
   "outputs": [],
   "source": []
  }
 ],
 "metadata": {
  "kernelspec": {
   "display_name": "Python 3",
   "language": "python",
   "name": "python3"
  },
  "language_info": {
   "codemirror_mode": {
    "name": "ipython",
    "version": 3
   },
   "file_extension": ".py",
   "mimetype": "text/x-python",
   "name": "python",
   "nbconvert_exporter": "python",
   "pygments_lexer": "ipython3",
   "version": "3.8.3"
  }
 },
 "nbformat": 4,
 "nbformat_minor": 4
}

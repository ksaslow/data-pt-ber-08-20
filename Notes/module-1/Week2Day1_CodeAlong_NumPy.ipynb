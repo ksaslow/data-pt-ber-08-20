{
 "cells": [
  {
   "cell_type": "markdown",
   "metadata": {},
   "source": [
    "# Numpy Package"
   ]
  },
  {
   "cell_type": "code",
   "execution_count": 5,
   "metadata": {},
   "outputs": [],
   "source": [
    "# Added the header to notebood with our new markdown skills!"
   ]
  },
  {
   "cell_type": "code",
   "execution_count": 1,
   "metadata": {},
   "outputs": [],
   "source": [
    "import numpy # whenever we want to use a package, the 1st this we do is importing it to python! "
   ]
  },
  {
   "cell_type": "code",
   "execution_count": 4,
   "metadata": {},
   "outputs": [],
   "source": [
    "numpy? #note, you can also type help(numpy) to get the same help docstring below the cell directly. "
   ]
  },
  {
   "cell_type": "code",
   "execution_count": 6,
   "metadata": {},
   "outputs": [],
   "source": [
    "import numpy as np # This creates an alias. If you want any function of numpy (e.g. \"random\" = np.random)\n",
    "# if you dont say import numpy as np, you would need to type numpy.random. Giving it \"np\" alias will just allow you to use it more easily. "
   ]
  },
  {
   "cell_type": "markdown",
   "metadata": {},
   "source": [
    "### numpy data structures: arrays"
   ]
  },
  {
   "cell_type": "code",
   "execution_count": 10,
   "metadata": {},
   "outputs": [],
   "source": [
    "# np.random.random # This tells you the CLASS and the LEVEL of the function. "
   ]
  },
  {
   "cell_type": "code",
   "execution_count": 12,
   "metadata": {},
   "outputs": [
    {
     "data": {
      "text/plain": [
       "array([[0.28482144, 0.06162293, 0.43166002],\n",
       "       [0.04702648, 0.82138925, 0.48377635]])"
      ]
     },
     "execution_count": 12,
     "metadata": {},
     "output_type": "execute_result"
    }
   ],
   "source": [
    "np.random.random((2,3)) \n",
    "\n",
    "# the first () calls the function, the second () tells it the format we want it to take. In this case, a 2 by 3 matrix!\n",
    "# Created a random array of numbers between 0 and 1, in 2,3 matrix. "
   ]
  },
  {
   "cell_type": "code",
   "execution_count": 17,
   "metadata": {},
   "outputs": [
    {
     "name": "stdout",
     "output_type": "stream",
     "text": [
      "[[0.93980728 0.11986722 0.96074541]\n",
      " [0.76355274 0.54693792 0.40412314]]\n"
     ]
    }
   ],
   "source": [
    "a = np.random.random((2,3))\n",
    "print(a)\n",
    "\n",
    "# Note: your a and your first randomly generated matrix are different because because when you defined a, it was a \n",
    "# different randomly generated matrix than the first one. To reassign a, you would just re-generate a new random matrix. "
   ]
  },
  {
   "cell_type": "code",
   "execution_count": 33,
   "metadata": {},
   "outputs": [
    {
     "data": {
      "text/plain": [
       "(2, 3)"
      ]
     },
     "execution_count": 33,
     "metadata": {},
     "output_type": "execute_result"
    }
   ],
   "source": [
    "a.shape # Note: if you are defining the shape of the matrix, you will define the shape as a tuple. e.g. (2,3)"
   ]
  },
  {
   "cell_type": "code",
   "execution_count": 19,
   "metadata": {},
   "outputs": [
    {
     "data": {
      "text/plain": [
       "6"
      ]
     },
     "execution_count": 19,
     "metadata": {},
     "output_type": "execute_result"
    }
   ],
   "source": [
    "a.size # tells us how many items are in our matrix; (2*3) in this case"
   ]
  },
  {
   "cell_type": "markdown",
   "metadata": {},
   "source": [
    "### Extracting data from arrays"
   ]
  },
  {
   "cell_type": "code",
   "execution_count": 20,
   "metadata": {},
   "outputs": [
    {
     "data": {
      "text/plain": [
       "0.9398072809313405"
      ]
     },
     "execution_count": 20,
     "metadata": {},
     "output_type": "execute_result"
    }
   ],
   "source": [
    "a[0,0] # This is to call the element at the top left corner! 0th index of the rows and 0th index of the column! "
   ]
  },
  {
   "cell_type": "code",
   "execution_count": 21,
   "metadata": {},
   "outputs": [
    {
     "data": {
      "text/plain": [
       "0.11986722336523126"
      ]
     },
     "execution_count": 21,
     "metadata": {},
     "output_type": "execute_result"
    }
   ],
   "source": [
    "a[0,1] # row 0, column 1"
   ]
  },
  {
   "cell_type": "code",
   "execution_count": 22,
   "metadata": {},
   "outputs": [
    {
     "data": {
      "text/plain": [
       "0.40412314225367296"
      ]
     },
     "execution_count": 22,
     "metadata": {},
     "output_type": "execute_result"
    }
   ],
   "source": [
    "a[1,2] # gives us the bottom right corner!"
   ]
  },
  {
   "cell_type": "code",
   "execution_count": 23,
   "metadata": {},
   "outputs": [
    {
     "data": {
      "text/plain": [
       "array([0.93980728, 0.11986722, 0.96074541])"
      ]
     },
     "execution_count": 23,
     "metadata": {},
     "output_type": "execute_result"
    }
   ],
   "source": [
    "a[0] # This gives you the entire first ROW! You could also write a[0,:] like in the example below"
   ]
  },
  {
   "cell_type": "code",
   "execution_count": 24,
   "metadata": {},
   "outputs": [
    {
     "data": {
      "text/plain": [
       "array([0.93980728, 0.76355274])"
      ]
     },
     "execution_count": 24,
     "metadata": {},
     "output_type": "execute_result"
    }
   ],
   "source": [
    "a[:,0] # This is how you get the first COLUMN. "
   ]
  },
  {
   "cell_type": "code",
   "execution_count": 25,
   "metadata": {},
   "outputs": [
    {
     "name": "stdout",
     "output_type": "stream",
     "text": [
      "[[[0.03456262 0.92197318 0.61704256 0.37016615 0.50907234]\n",
      "  [0.16235438 0.20635236 0.57238836 0.04897172 0.88111422]\n",
      "  [0.20426714 0.82352231 0.02528451 0.8644727  0.45806525]]\n",
      "\n",
      " [[0.49000459 0.5791282  0.73993496 0.31939253 0.53333931]\n",
      "  [0.11380851 0.22461694 0.64898571 0.77192464 0.38818627]\n",
      "  [0.82711957 0.88348986 0.20803476 0.40780611 0.26173143]]]\n"
     ]
    }
   ],
   "source": [
    "b = np.random.random((2,3,5)) # FIRST PARAMETER IS THE DEPTH, then you have 3 rows, 5 columns).\n",
    "print(b)"
   ]
  },
  {
   "cell_type": "code",
   "execution_count": 26,
   "metadata": {},
   "outputs": [
    {
     "data": {
      "text/plain": [
       "30"
      ]
     },
     "execution_count": 26,
     "metadata": {},
     "output_type": "execute_result"
    }
   ],
   "source": [
    "b.size # 2 * 3 * 5"
   ]
  },
  {
   "cell_type": "code",
   "execution_count": 27,
   "metadata": {},
   "outputs": [
    {
     "data": {
      "text/plain": [
       "0.034562619909975445"
      ]
     },
     "execution_count": 27,
     "metadata": {},
     "output_type": "execute_result"
    }
   ],
   "source": [
    "b[0,0,0] # calls the top left element! "
   ]
  },
  {
   "cell_type": "code",
   "execution_count": 28,
   "metadata": {},
   "outputs": [
    {
     "data": {
      "text/plain": [
       "array([0.20426714, 0.82352231, 0.02528451, 0.8644727 , 0.45806525])"
      ]
     },
     "execution_count": 28,
     "metadata": {},
     "output_type": "execute_result"
    }
   ],
   "source": [
    "b[0,2,:] # This gives you the ENTIRE last (3rd row, index 2) ROW of the first matrix in the third dimension. "
   ]
  },
  {
   "cell_type": "code",
   "execution_count": 30,
   "metadata": {},
   "outputs": [
    {
     "data": {
      "text/plain": [
       "array([[[5.        , 0.92197318, 0.61704256, 0.37016615, 0.50907234],\n",
       "        [0.16235438, 0.20635236, 0.57238836, 0.04897172, 0.88111422],\n",
       "        [0.20426714, 0.82352231, 0.02528451, 0.8644727 , 0.45806525]],\n",
       "\n",
       "       [[0.49000459, 0.5791282 , 0.73993496, 0.31939253, 0.53333931],\n",
       "        [0.11380851, 0.22461694, 0.64898571, 0.77192464, 0.38818627],\n",
       "        [0.82711957, 0.88348986, 0.20803476, 0.40780611, 0.26173143]]])"
      ]
     },
     "execution_count": 30,
     "metadata": {},
     "output_type": "execute_result"
    }
   ],
   "source": [
    "b[0,0,0] = 5\n",
    "b \n",
    "# This shows that arrays are MUTABLE. It allows you to reassign specific values. "
   ]
  },
  {
   "cell_type": "markdown",
   "metadata": {},
   "source": [
    "### Converting other data structures to arrays"
   ]
  },
  {
   "cell_type": "code",
   "execution_count": 34,
   "metadata": {},
   "outputs": [],
   "source": [
    "# mylist = ['cat', 'dog']\n",
    "mylist = [['cat', 'dog'], ['squirrel', 'mouse'], ['anteater', 'bear']]"
   ]
  },
  {
   "cell_type": "code",
   "execution_count": 35,
   "metadata": {},
   "outputs": [
    {
     "data": {
      "text/plain": [
       "array([['cat', 'dog'],\n",
       "       ['squirrel', 'mouse'],\n",
       "       ['anteater', 'bear']], dtype='<U8')"
      ]
     },
     "execution_count": 35,
     "metadata": {},
     "output_type": "execute_result"
    }
   ],
   "source": [
    "np.array(mylist)"
   ]
  },
  {
   "cell_type": "code",
   "execution_count": null,
   "metadata": {},
   "outputs": [],
   "source": []
  },
  {
   "cell_type": "markdown",
   "metadata": {},
   "source": [
    "### Element-wise mathematical operations"
   ]
  },
  {
   "cell_type": "code",
   "execution_count": null,
   "metadata": {},
   "outputs": [],
   "source": []
  }
 ],
 "metadata": {
  "kernelspec": {
   "display_name": "Python 3",
   "language": "python",
   "name": "python3"
  },
  "language_info": {
   "codemirror_mode": {
    "name": "ipython",
    "version": 3
   },
   "file_extension": ".py",
   "mimetype": "text/x-python",
   "name": "python",
   "nbconvert_exporter": "python",
   "pygments_lexer": "ipython3",
   "version": "3.8.5"
  }
 },
 "nbformat": 4,
 "nbformat_minor": 4
}

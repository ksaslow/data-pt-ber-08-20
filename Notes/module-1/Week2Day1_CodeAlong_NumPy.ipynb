{
 "cells": [
  {
   "cell_type": "markdown",
   "metadata": {},
   "source": [
    "# Numpy Package"
   ]
  },
  {
   "cell_type": "code",
   "execution_count": 1,
   "metadata": {},
   "outputs": [],
   "source": [
    "# Added the header to notebood with our new markdown skills!"
   ]
  },
  {
   "cell_type": "code",
   "execution_count": 6,
   "metadata": {},
   "outputs": [],
   "source": [
    "import numpy # whenever we want to use a package, the 1st this we do is importing it to python! "
   ]
  },
  {
   "cell_type": "code",
   "execution_count": 7,
   "metadata": {},
   "outputs": [
    {
     "ename": "SyntaxError",
     "evalue": "invalid syntax (<ipython-input-7-69d9dc427e4f>, line 1)",
     "output_type": "error",
     "traceback": [
      "\u001b[0;36m  File \u001b[0;32m\"<ipython-input-7-69d9dc427e4f>\"\u001b[0;36m, line \u001b[0;32m1\u001b[0m\n\u001b[0;31m    numpy? #note, you can also type help(numpy) to get the same help docstring below the cell directly.\u001b[0m\n\u001b[0m         ^\u001b[0m\n\u001b[0;31mSyntaxError\u001b[0m\u001b[0;31m:\u001b[0m invalid syntax\n"
     ]
    }
   ],
   "source": [
    "numpy? #note, you can also type help(numpy) to get the same help docstring below the cell directly. "
   ]
  },
  {
   "cell_type": "code",
   "execution_count": 8,
   "metadata": {},
   "outputs": [],
   "source": [
    "import numpy as np # This creates an alias. If you want any function of numpy (e.g. \"random\" = np.random)\n",
    "# if you dont say import numpy as np, you would need to type numpy.random. Giving it \"np\" alias will just allow you to use it more easily. "
   ]
  },
  {
   "cell_type": "markdown",
   "metadata": {},
   "source": [
    "### numpy data structures: arrays"
   ]
  },
  {
   "cell_type": "code",
   "execution_count": 9,
   "metadata": {},
   "outputs": [],
   "source": [
    "# np.random.random # This tells you the CLASS and the LEVEL of the function. "
   ]
  },
  {
   "cell_type": "code",
   "execution_count": 10,
   "metadata": {},
   "outputs": [
    {
     "data": {
      "text/plain": [
       "array([[0.3199535 , 0.49436701, 0.70008302],\n",
       "       [0.08878545, 0.37360308, 0.06422368]])"
      ]
     },
     "execution_count": 10,
     "metadata": {},
     "output_type": "execute_result"
    }
   ],
   "source": [
    "np.random.random((2,3)) \n",
    "\n",
    "# the first () calls the function, the second () tells it the format we want it to take. In this case, a 2 by 3 matrix!\n",
    "# Created a random array of numbers between 0 and 1, in 2,3 matrix. "
   ]
  },
  {
   "cell_type": "code",
   "execution_count": 11,
   "metadata": {},
   "outputs": [
    {
     "name": "stdout",
     "output_type": "stream",
     "text": [
      "[[0.37024017 0.8028154  0.63938603]\n",
      " [0.34062743 0.81028808 0.86048606]]\n"
     ]
    }
   ],
   "source": [
    "a = np.random.random((2,3))\n",
    "print(a)\n",
    "\n",
    "# Note: your a and your first randomly generated matrix are different because because when you defined a, it was a \n",
    "# different randomly generated matrix than the first one. To reassign a, you would just re-generate a new random matrix. "
   ]
  },
  {
   "cell_type": "code",
   "execution_count": 12,
   "metadata": {},
   "outputs": [
    {
     "data": {
      "text/plain": [
       "(2, 3)"
      ]
     },
     "execution_count": 12,
     "metadata": {},
     "output_type": "execute_result"
    }
   ],
   "source": [
    "a.shape # Note: if you are defining the shape of the matrix, you will define the shape as a tuple. e.g. (2,3)"
   ]
  },
  {
   "cell_type": "code",
   "execution_count": 13,
   "metadata": {},
   "outputs": [
    {
     "data": {
      "text/plain": [
       "6"
      ]
     },
     "execution_count": 13,
     "metadata": {},
     "output_type": "execute_result"
    }
   ],
   "source": [
    "a.size # tells us how many items are in our matrix; (2*3) in this case"
   ]
  },
  {
   "cell_type": "markdown",
   "metadata": {},
   "source": [
    "### Extracting data from arrays"
   ]
  },
  {
   "cell_type": "code",
   "execution_count": 14,
   "metadata": {},
   "outputs": [
    {
     "data": {
      "text/plain": [
       "0.37024016856423236"
      ]
     },
     "execution_count": 14,
     "metadata": {},
     "output_type": "execute_result"
    }
   ],
   "source": [
    "a[0,0] # This is to call the element at the top left corner! 0th index of the rows and 0th index of the column! "
   ]
  },
  {
   "cell_type": "code",
   "execution_count": 15,
   "metadata": {},
   "outputs": [
    {
     "data": {
      "text/plain": [
       "0.8028153971991363"
      ]
     },
     "execution_count": 15,
     "metadata": {},
     "output_type": "execute_result"
    }
   ],
   "source": [
    "a[0,1] # row 0, column 1"
   ]
  },
  {
   "cell_type": "code",
   "execution_count": 16,
   "metadata": {},
   "outputs": [
    {
     "data": {
      "text/plain": [
       "0.8604860613964241"
      ]
     },
     "execution_count": 16,
     "metadata": {},
     "output_type": "execute_result"
    }
   ],
   "source": [
    "a[1,2] # gives us the bottom right corner!"
   ]
  },
  {
   "cell_type": "code",
   "execution_count": 17,
   "metadata": {},
   "outputs": [
    {
     "data": {
      "text/plain": [
       "array([0.37024017, 0.8028154 , 0.63938603])"
      ]
     },
     "execution_count": 17,
     "metadata": {},
     "output_type": "execute_result"
    }
   ],
   "source": [
    "a[0] # This gives you the entire first ROW! You could also write a[0,:] like in the example below"
   ]
  },
  {
   "cell_type": "code",
   "execution_count": 18,
   "metadata": {},
   "outputs": [
    {
     "data": {
      "text/plain": [
       "array([0.37024017, 0.34062743])"
      ]
     },
     "execution_count": 18,
     "metadata": {},
     "output_type": "execute_result"
    }
   ],
   "source": [
    "a[:,0] # This is how you get the first COLUMN. "
   ]
  },
  {
   "cell_type": "code",
   "execution_count": 19,
   "metadata": {},
   "outputs": [
    {
     "name": "stdout",
     "output_type": "stream",
     "text": [
      "[[[0.42522988 0.60824414 0.63197947 0.0595478  0.03039293]\n",
      "  [0.61158504 0.94109653 0.19228839 0.32122996 0.54447662]\n",
      "  [0.87192157 0.2568944  0.8705265  0.39197224 0.57211342]]\n",
      "\n",
      " [[0.96387545 0.91095884 0.88458882 0.10636152 0.03619335]\n",
      "  [0.48818352 0.31591027 0.92174814 0.00723006 0.6890836 ]\n",
      "  [0.75695595 0.26924047 0.26828411 0.49930333 0.42129046]]]\n"
     ]
    }
   ],
   "source": [
    "b = np.random.random((2,3,5)) # FIRST PARAMETER IS THE DEPTH, then you have 3 rows, 5 columns).\n",
    "print(b)"
   ]
  },
  {
   "cell_type": "code",
   "execution_count": 20,
   "metadata": {},
   "outputs": [
    {
     "data": {
      "text/plain": [
       "30"
      ]
     },
     "execution_count": 20,
     "metadata": {},
     "output_type": "execute_result"
    }
   ],
   "source": [
    "b.size # 2 * 3 * 5"
   ]
  },
  {
   "cell_type": "code",
   "execution_count": 21,
   "metadata": {},
   "outputs": [
    {
     "data": {
      "text/plain": [
       "0.4252298795216969"
      ]
     },
     "execution_count": 21,
     "metadata": {},
     "output_type": "execute_result"
    }
   ],
   "source": [
    "b[0,0,0] # calls the top left element! "
   ]
  },
  {
   "cell_type": "code",
   "execution_count": 22,
   "metadata": {},
   "outputs": [
    {
     "data": {
      "text/plain": [
       "array([0.87192157, 0.2568944 , 0.8705265 , 0.39197224, 0.57211342])"
      ]
     },
     "execution_count": 22,
     "metadata": {},
     "output_type": "execute_result"
    }
   ],
   "source": [
    "b[0,2,:] # This gives you the ENTIRE last (3rd row, index 2) ROW of the first matrix in the third dimension. "
   ]
  },
  {
   "cell_type": "code",
   "execution_count": 23,
   "metadata": {},
   "outputs": [
    {
     "data": {
      "text/plain": [
       "array([[[5.        , 0.60824414, 0.63197947, 0.0595478 , 0.03039293],\n",
       "        [0.61158504, 0.94109653, 0.19228839, 0.32122996, 0.54447662],\n",
       "        [0.87192157, 0.2568944 , 0.8705265 , 0.39197224, 0.57211342]],\n",
       "\n",
       "       [[0.96387545, 0.91095884, 0.88458882, 0.10636152, 0.03619335],\n",
       "        [0.48818352, 0.31591027, 0.92174814, 0.00723006, 0.6890836 ],\n",
       "        [0.75695595, 0.26924047, 0.26828411, 0.49930333, 0.42129046]]])"
      ]
     },
     "execution_count": 23,
     "metadata": {},
     "output_type": "execute_result"
    }
   ],
   "source": [
    "b[0,0,0] = 5\n",
    "b \n",
    "# This shows that arrays are MUTABLE. It allows you to reassign specific values. "
   ]
  },
  {
   "cell_type": "markdown",
   "metadata": {},
   "source": [
    "### Converting other data structures to arrays"
   ]
  },
  {
   "cell_type": "code",
   "execution_count": 24,
   "metadata": {},
   "outputs": [],
   "source": [
    "# mylist = ['cat', 'dog']\n",
    "mylist = [['cat', 'dog'], ['squirrel', 'mouse'], ['anteater', 'bear']]"
   ]
  },
  {
   "cell_type": "code",
   "execution_count": 25,
   "metadata": {},
   "outputs": [
    {
     "data": {
      "text/plain": [
       "array([['cat', 'dog'],\n",
       "       ['squirrel', 'mouse'],\n",
       "       ['anteater', 'bear']], dtype='<U8')"
      ]
     },
     "execution_count": 25,
     "metadata": {},
     "output_type": "execute_result"
    }
   ],
   "source": [
    "np.array(mylist)"
   ]
  },
  {
   "cell_type": "code",
   "execution_count": null,
   "metadata": {},
   "outputs": [],
   "source": []
  },
  {
   "cell_type": "markdown",
   "metadata": {},
   "source": [
    "### Element-wise mathematical operations"
   ]
  },
  {
   "cell_type": "code",
   "execution_count": 28,
   "metadata": {},
   "outputs": [
    {
     "name": "stdout",
     "output_type": "stream",
     "text": [
      "[[0.05817358 0.57421568 0.81578991 0.66791606]\n",
      " [0.3426523  0.4467405  0.18590737 0.86933968]\n",
      " [0.12884526 0.71440432 0.18267037 0.76958399]]\n",
      "[[0.03704006 0.9614494  0.37631257 0.90623283]\n",
      " [0.83585717 0.01233529 0.92298605 0.2866711 ]\n",
      " [0.69525212 0.40036275 0.3890359  0.61056077]]\n"
     ]
    }
   ],
   "source": [
    "first = np.random.random((3,4)) # first random is the CLASS, the second random is a FUNCTION. \n",
    "second = np.random.random((3,4))\n",
    "print(first)\n",
    "print(second)"
   ]
  },
  {
   "cell_type": "code",
   "execution_count": 27,
   "metadata": {},
   "outputs": [
    {
     "data": {
      "text/plain": [
       "array([[6.51653386, 5.4693698 , 9.73137744, 2.13731812],\n",
       "       [8.52091045, 5.56913489, 1.83134625, 5.79007216],\n",
       "       [0.50030233, 7.36596766, 9.11180563, 7.16348944]])"
      ]
     },
     "execution_count": 27,
     "metadata": {},
     "output_type": "execute_result"
    }
   ],
   "source": [
    "10*first # if you want a matrix of random numbers between 0 and TEN instead of the randomly generated  range 0-1, then just multiply the matrix by 10\n"
   ]
  },
  {
   "cell_type": "code",
   "execution_count": 30,
   "metadata": {},
   "outputs": [
    {
     "name": "stdout",
     "output_type": "stream",
     "text": [
      "[[0.09521363 1.53566508 1.19210247 1.57414889]\n",
      " [1.17850947 0.45907579 1.10889342 1.15601078]\n",
      " [0.82409739 1.11476707 0.57170628 1.38014476]]\n"
     ]
    }
   ],
   "source": [
    "sum1 = np.add(first,second)\n",
    "print(sum1)\n",
    "\n",
    "# if your matrices are different dimensions, you cant add them"
   ]
  },
  {
   "cell_type": "code",
   "execution_count": 31,
   "metadata": {},
   "outputs": [
    {
     "data": {
      "text/plain": [
       "array([[0.09521363, 1.53566508, 1.19210247, 1.57414889],\n",
       "       [1.17850947, 0.45907579, 1.10889342, 1.15601078],\n",
       "       [0.82409739, 1.11476707, 0.57170628, 1.38014476]])"
      ]
     },
     "execution_count": 31,
     "metadata": {},
     "output_type": "execute_result"
    }
   ],
   "source": [
    "first + second # this also works! "
   ]
  },
  {
   "cell_type": "code",
   "execution_count": 32,
   "metadata": {},
   "outputs": [
    {
     "data": {
      "text/plain": [
       "[1, 2, 4, 1, 2, 3]"
      ]
     },
     "execution_count": 32,
     "metadata": {},
     "output_type": "execute_result"
    }
   ],
   "source": [
    "[1, 2, 4] + [1, 2, 3] # This just combines the lists rather than doing element-wise addition "
   ]
  },
  {
   "cell_type": "code",
   "execution_count": 33,
   "metadata": {},
   "outputs": [
    {
     "data": {
      "text/plain": [
       "array([2, 4, 7])"
      ]
     },
     "execution_count": 33,
     "metadata": {},
     "output_type": "execute_result"
    }
   ],
   "source": [
    "np.add([1, 2, 4],[1, 2, 3]) # This is why sometimes using np.add is sometimes smarter than just pyhton mathematical operators\n",
    "\n",
    "# notice the difference between this result and the result in the cell above"
   ]
  },
  {
   "cell_type": "code",
   "execution_count": null,
   "metadata": {},
   "outputs": [],
   "source": []
  }
 ],
 "metadata": {
  "kernelspec": {
   "display_name": "Python 3",
   "language": "python",
   "name": "python3"
  },
  "language_info": {
   "codemirror_mode": {
    "name": "ipython",
    "version": 3
   },
   "file_extension": ".py",
   "mimetype": "text/x-python",
   "name": "python",
   "nbconvert_exporter": "python",
   "pygments_lexer": "ipython3",
   "version": "3.8.5"
  }
 },
 "nbformat": 4,
 "nbformat_minor": 4
}

{
 "cells": [
  {
   "cell_type": "markdown",
   "metadata": {},
   "source": [
    "## Pandas"
   ]
  },
  {
   "cell_type": "code",
   "execution_count": null,
   "metadata": {},
   "outputs": [],
   "source": [
    "# just like NumPy is a package, Pandas is a package. \n",
    "# panel-data (PanDa) \n",
    "# panel data is essentially data that goes into two diff. directions, e.g. different variables and diff. individuals, but for each individual you have the same variables\n",
    "# library used for manipulating one- and two-dimensional data\n",
    "# understand the diff. between SERIES and DATAFRAMES. \n",
    "# diff. between series and lists: series allows you to label your index to retrieve data (e.g. 0, 1, 2), while lists are automatically assigned an index and cant change\n",
    "# a dataframe is a panel structure. (e.g. combining series into a dataframe)\n",
    "    # Dataframes have several columns. DataFrames are only 2 Dimensional!"
   ]
  },
  {
   "cell_type": "code",
   "execution_count": 3,
   "metadata": {},
   "outputs": [],
   "source": [
    "import numpy as np\n",
    "import pandas as pd"
   ]
  },
  {
   "cell_type": "code",
   "execution_count": 2,
   "metadata": {},
   "outputs": [],
   "source": [
    "pd?"
   ]
  },
  {
   "cell_type": "markdown",
   "metadata": {},
   "source": [
    "### Data Structure 1: Series\n"
   ]
  },
  {
   "cell_type": "code",
   "execution_count": 5,
   "metadata": {},
   "outputs": [
    {
     "name": "stdout",
     "output_type": "stream",
     "text": [
      "0    0\n",
      "1    1\n",
      "2    2\n",
      "3    3\n",
      "4    4\n",
      "5    5\n",
      "6    6\n",
      "7    7\n",
      "8    8\n",
      "9    9\n",
      "dtype: int64\n"
     ]
    }
   ],
   "source": [
    "np.arange(10) # gives a range of numbers of the size you define\n",
    "a = pd.Series(np.arange(10)) # creates a panda series of this range \n",
    "# your series HAS TO BE capitalized\n",
    "\n",
    "print(a)"
   ]
  },
  {
   "cell_type": "code",
   "execution_count": 6,
   "metadata": {},
   "outputs": [
    {
     "name": "stdout",
     "output_type": "stream",
     "text": [
      "[0 1 2 3 4 5 6 7 8 9]\n"
     ]
    }
   ],
   "source": [
    "print(np.arange(10)) # note how the array looks different from the series! "
   ]
  },
  {
   "cell_type": "code",
   "execution_count": 7,
   "metadata": {},
   "outputs": [
    {
     "name": "stdout",
     "output_type": "stream",
     "text": [
      "0    0\n",
      "1    1\n",
      "2    2\n",
      "3    3\n",
      "4    4\n",
      "5    5\n",
      "6    6\n",
      "7    7\n",
      "8    8\n",
      "9    9\n",
      "dtype: int64\n"
     ]
    }
   ],
   "source": [
    "a = pd.Series(np.arange(10))\n",
    "print(a)\n",
    "\n",
    "# The first column is the INDEX, and the second column are the actual elements of the array turned into a series"
   ]
  },
  {
   "cell_type": "code",
   "execution_count": 8,
   "metadata": {},
   "outputs": [
    {
     "name": "stdout",
     "output_type": "stream",
     "text": [
      "0     0\n",
      "1    10\n",
      "2    20\n",
      "3    30\n",
      "4    40\n",
      "5    50\n",
      "6    60\n",
      "7    70\n",
      "8    80\n",
      "9    90\n",
      "dtype: int64\n"
     ]
    }
   ],
   "source": [
    "print(a*10) # Note how the index remains the same, but the elements change"
   ]
  },
  {
   "cell_type": "code",
   "execution_count": 10,
   "metadata": {},
   "outputs": [
    {
     "data": {
      "text/plain": [
       "5"
      ]
     },
     "execution_count": 10,
     "metadata": {},
     "output_type": "execute_result"
    }
   ],
   "source": [
    "a[0]\n",
    "a[5]"
   ]
  },
  {
   "cell_type": "code",
   "execution_count": 11,
   "metadata": {},
   "outputs": [
    {
     "name": "stdout",
     "output_type": "stream",
     "text": [
      "a    0\n",
      "b    1\n",
      "c    2\n",
      "d    3\n",
      "e    4\n",
      "f    5\n",
      "g    6\n",
      "h    7\n",
      "i    8\n",
      "j    9\n",
      "dtype: int64\n"
     ]
    }
   ],
   "source": [
    "b = pd.Series(np.arange(10), index = ['a', 'b', 'c', 'd', 'e', 'f', 'g', 'h', 'i', 'j'])\n",
    "print(b)"
   ]
  },
  {
   "cell_type": "code",
   "execution_count": 12,
   "metadata": {},
   "outputs": [
    {
     "data": {
      "text/plain": [
       "5"
      ]
     },
     "execution_count": 12,
     "metadata": {},
     "output_type": "execute_result"
    }
   ],
   "source": [
    "b[5]"
   ]
  },
  {
   "cell_type": "code",
   "execution_count": 14,
   "metadata": {},
   "outputs": [
    {
     "data": {
      "text/plain": [
       "5"
      ]
     },
     "execution_count": 14,
     "metadata": {},
     "output_type": "execute_result"
    }
   ],
   "source": [
    "b['f']"
   ]
  },
  {
   "cell_type": "code",
   "execution_count": 15,
   "metadata": {},
   "outputs": [
    {
     "data": {
      "text/plain": [
       "a    0\n",
       "b    1\n",
       "c    2\n",
       "d    3\n",
       "e    4\n",
       "dtype: int64"
      ]
     },
     "execution_count": 15,
     "metadata": {},
     "output_type": "execute_result"
    }
   ],
   "source": [
    "mydict = {'a': 0, 'b': 1, 'c': 2, 'd': 3, 'e': 4}\n",
    "pd.Series(mydict)\n",
    "\n",
    "# creating a Series from a dictionary will take the keys and use them as the index labels!"
   ]
  },
  {
   "cell_type": "markdown",
   "metadata": {},
   "source": [
    "### Data Structure 2: DataFrames"
   ]
  },
  {
   "cell_type": "code",
   "execution_count": 19,
   "metadata": {},
   "outputs": [
    {
     "data": {
      "text/html": [
       "<div>\n",
       "<style scoped>\n",
       "    .dataframe tbody tr th:only-of-type {\n",
       "        vertical-align: middle;\n",
       "    }\n",
       "\n",
       "    .dataframe tbody tr th {\n",
       "        vertical-align: top;\n",
       "    }\n",
       "\n",
       "    .dataframe thead th {\n",
       "        text-align: right;\n",
       "    }\n",
       "</style>\n",
       "<table border=\"1\" class=\"dataframe\">\n",
       "  <thead>\n",
       "    <tr style=\"text-align: right;\">\n",
       "      <th></th>\n",
       "      <th>0</th>\n",
       "    </tr>\n",
       "  </thead>\n",
       "  <tbody>\n",
       "    <tr>\n",
       "      <th>0</th>\n",
       "      <td>0</td>\n",
       "    </tr>\n",
       "    <tr>\n",
       "      <th>1</th>\n",
       "      <td>1</td>\n",
       "    </tr>\n",
       "    <tr>\n",
       "      <th>2</th>\n",
       "      <td>2</td>\n",
       "    </tr>\n",
       "    <tr>\n",
       "      <th>3</th>\n",
       "      <td>3</td>\n",
       "    </tr>\n",
       "    <tr>\n",
       "      <th>4</th>\n",
       "      <td>4</td>\n",
       "    </tr>\n",
       "    <tr>\n",
       "      <th>5</th>\n",
       "      <td>5</td>\n",
       "    </tr>\n",
       "    <tr>\n",
       "      <th>6</th>\n",
       "      <td>6</td>\n",
       "    </tr>\n",
       "    <tr>\n",
       "      <th>7</th>\n",
       "      <td>7</td>\n",
       "    </tr>\n",
       "    <tr>\n",
       "      <th>8</th>\n",
       "      <td>8</td>\n",
       "    </tr>\n",
       "    <tr>\n",
       "      <th>9</th>\n",
       "      <td>9</td>\n",
       "    </tr>\n",
       "  </tbody>\n",
       "</table>\n",
       "</div>"
      ],
      "text/plain": [
       "   0\n",
       "0  0\n",
       "1  1\n",
       "2  2\n",
       "3  3\n",
       "4  4\n",
       "5  5\n",
       "6  6\n",
       "7  7\n",
       "8  8\n",
       "9  9"
      ]
     },
     "execution_count": 19,
     "metadata": {},
     "output_type": "execute_result"
    }
   ],
   "source": [
    "df_ser = pd.DataFrame(np.arange(10))\n",
    "df_ser \n",
    "\n",
    "# this will give you automatically give you a structure with several columns. So even if you only create it with one variable, it will still set it up with space and labels for more\n"
   ]
  },
  {
   "cell_type": "code",
   "execution_count": 25,
   "metadata": {},
   "outputs": [
    {
     "data": {
      "text/plain": [
       "array([[0.16689338, 0.56075752, 0.81152595, 0.21333263, 0.66899125,\n",
       "        0.14342338, 0.66430376, 0.02549938, 0.68080597, 0.9500266 ],\n",
       "       [0.88771005, 0.99519167, 0.2592665 , 0.38131918, 0.47815521,\n",
       "        0.89595559, 0.62141875, 0.52351096, 0.4234263 , 0.46154731],\n",
       "       [0.44767058, 0.40642888, 0.10655724, 0.15365101, 0.31576401,\n",
       "        0.83178868, 0.57421971, 0.25414427, 0.36029437, 0.6355453 ],\n",
       "       [0.91913685, 0.78004758, 0.63209561, 0.240891  , 0.49702719,\n",
       "        0.47041484, 0.06220784, 0.89672777, 0.90215815, 0.53041201],\n",
       "       [0.45780555, 0.83208756, 0.01644886, 0.60311388, 0.93025994,\n",
       "        0.10454577, 0.97045693, 0.4864001 , 0.76902632, 0.49351752],\n",
       "       [0.95110173, 0.69252606, 0.64535944, 0.50045422, 0.0609447 ,\n",
       "        0.61441197, 0.4880227 , 0.26862041, 0.65830457, 0.53740746],\n",
       "       [0.78789088, 0.02225823, 0.35402772, 0.76710819, 0.82284527,\n",
       "        0.64313293, 0.19337625, 0.43614348, 0.86032511, 0.09955281],\n",
       "       [0.53510113, 0.18276232, 0.12685792, 0.8918653 , 0.78560587,\n",
       "        0.66349933, 0.48617796, 0.51841181, 0.06812629, 0.67568022],\n",
       "       [0.0460066 , 0.37447552, 0.12163913, 0.81859395, 0.55689828,\n",
       "        0.7772517 , 0.03447528, 0.76462971, 0.44582074, 0.78061958],\n",
       "       [0.99324917, 0.71007568, 0.12793886, 0.43040973, 0.93207341,\n",
       "        0.16702046, 0.56930319, 0.25276059, 0.87826819, 0.5802497 ]])"
      ]
     },
     "execution_count": 25,
     "metadata": {},
     "output_type": "execute_result"
    }
   ],
   "source": [
    "np.random.random((10,10))\n"
   ]
  },
  {
   "cell_type": "code",
   "execution_count": 28,
   "metadata": {},
   "outputs": [
    {
     "name": "stdout",
     "output_type": "stream",
     "text": [
      "          0         1         2         3         4         5         6  \\\n",
      "0  0.013360  0.411984  0.945934  0.592301  0.886757  0.829449  0.875980   \n",
      "1  0.653320  0.419973  0.869720  0.500039  0.801636  0.951339  0.938133   \n",
      "2  0.380201  0.764579  0.560768  0.183509  0.567613  0.332942  0.129930   \n",
      "3  0.861834  0.487243  0.959685  0.953241  0.966356  0.070847  0.687367   \n",
      "4  0.599320  0.597336  0.247777  0.990503  0.898218  0.072438  0.444957   \n",
      "5  0.463994  0.868087  0.366859  0.649722  0.065769  0.573704  0.745826   \n",
      "6  0.628707  0.362503  0.449793  0.418409  0.796370  0.381030  0.067484   \n",
      "7  0.370904  0.162391  0.270297  0.751983  0.252118  0.528252  0.829457   \n",
      "8  0.523882  0.104039  0.884418  0.675294  0.282312  0.523602  0.042662   \n",
      "9  0.879751  0.120569  0.203997  0.239117  0.876728  0.105860  0.495872   \n",
      "\n",
      "          7         8         9  \n",
      "0  0.433438  0.164212  0.324072  \n",
      "1  0.558652  0.129287  0.023283  \n",
      "2  0.707081  0.456851  0.813586  \n",
      "3  0.107347  0.105727  0.437363  \n",
      "4  0.990521  0.587873  0.326005  \n",
      "5  0.179158  0.007308  0.861120  \n",
      "6  0.587000  0.151879  0.784540  \n",
      "7  0.952542  0.067758  0.212365  \n",
      "8  0.050546  0.672212  0.603090  \n",
      "9  0.172179  0.190102  0.555520  \n"
     ]
    }
   ],
   "source": [
    "df = pd.DataFrame(np.random.random((10,10)))\n",
    "print(df)"
   ]
  },
  {
   "cell_type": "code",
   "execution_count": 31,
   "metadata": {},
   "outputs": [],
   "source": [
    "# df_col.head() # this will give you the first 5 rows of values for each column\n",
    "# df_col.tail() # this will give you the last 5 rows of values for each colum \n",
    "\n",
    "# to get the top 3 rows of column 'Banana':\n",
    "# df_col['Banana'].head(3)\n",
    "# df_col['Banana'].head[3] will give you JUST the 3rd two, not the first 3 rows. Note the difference in bracket types\n",
    "# df_col['Banana'][-6:-1] will give you the tail 5 of column banana (-1 index to -6 index)"
   ]
  },
  {
   "cell_type": "markdown",
   "metadata": {},
   "source": [
    "### converting other structures to dataframes"
   ]
  },
  {
   "cell_type": "code",
   "execution_count": 32,
   "metadata": {},
   "outputs": [
    {
     "data": {
      "text/html": [
       "<div>\n",
       "<style scoped>\n",
       "    .dataframe tbody tr th:only-of-type {\n",
       "        vertical-align: middle;\n",
       "    }\n",
       "\n",
       "    .dataframe tbody tr th {\n",
       "        vertical-align: top;\n",
       "    }\n",
       "\n",
       "    .dataframe thead th {\n",
       "        text-align: right;\n",
       "    }\n",
       "</style>\n",
       "<table border=\"1\" class=\"dataframe\">\n",
       "  <thead>\n",
       "    <tr style=\"text-align: right;\">\n",
       "      <th></th>\n",
       "      <th>mycolumn</th>\n",
       "    </tr>\n",
       "  </thead>\n",
       "  <tbody>\n",
       "    <tr>\n",
       "      <th>0</th>\n",
       "      <td>4</td>\n",
       "    </tr>\n",
       "    <tr>\n",
       "      <th>1</th>\n",
       "      <td>5</td>\n",
       "    </tr>\n",
       "    <tr>\n",
       "      <th>2</th>\n",
       "      <td>6</td>\n",
       "    </tr>\n",
       "    <tr>\n",
       "      <th>3</th>\n",
       "      <td>7</td>\n",
       "    </tr>\n",
       "    <tr>\n",
       "      <th>4</th>\n",
       "      <td>8</td>\n",
       "    </tr>\n",
       "  </tbody>\n",
       "</table>\n",
       "</div>"
      ],
      "text/plain": [
       "   mycolumn\n",
       "0         4\n",
       "1         5\n",
       "2         6\n",
       "3         7\n",
       "4         8"
      ]
     },
     "execution_count": 32,
     "metadata": {},
     "output_type": "execute_result"
    }
   ],
   "source": [
    "mylist = [4, 5, 6, 7, 8]\n",
    "pd.DataFrame(mylist, columns = [\"mycolumn\"])"
   ]
  },
  {
   "cell_type": "code",
   "execution_count": 33,
   "metadata": {},
   "outputs": [
    {
     "data": {
      "text/html": [
       "<div>\n",
       "<style scoped>\n",
       "    .dataframe tbody tr th:only-of-type {\n",
       "        vertical-align: middle;\n",
       "    }\n",
       "\n",
       "    .dataframe tbody tr th {\n",
       "        vertical-align: top;\n",
       "    }\n",
       "\n",
       "    .dataframe thead th {\n",
       "        text-align: right;\n",
       "    }\n",
       "</style>\n",
       "<table border=\"1\" class=\"dataframe\">\n",
       "  <thead>\n",
       "    <tr style=\"text-align: right;\">\n",
       "      <th></th>\n",
       "      <th>Breed</th>\n",
       "      <th>Name</th>\n",
       "    </tr>\n",
       "  </thead>\n",
       "  <tbody>\n",
       "    <tr>\n",
       "      <th>0</th>\n",
       "      <td>Cat</td>\n",
       "      <td>Meowy</td>\n",
       "    </tr>\n",
       "    <tr>\n",
       "      <th>1</th>\n",
       "      <td>Dog</td>\n",
       "      <td>Bellow</td>\n",
       "    </tr>\n",
       "    <tr>\n",
       "      <th>2</th>\n",
       "      <td>GuineaPig</td>\n",
       "      <td>Carmen</td>\n",
       "    </tr>\n",
       "  </tbody>\n",
       "</table>\n",
       "</div>"
      ],
      "text/plain": [
       "       Breed    Name\n",
       "0        Cat   Meowy\n",
       "1        Dog  Bellow\n",
       "2  GuineaPig  Carmen"
      ]
     },
     "execution_count": 33,
     "metadata": {},
     "output_type": "execute_result"
    }
   ],
   "source": [
    "mydict = {\"Breed\": ['Cat', 'Dog', 'GuineaPig'], \"Name\": ['Meowy', 'Bellow', 'Carmen']}\n",
    "pd.DataFrame(mydict)"
   ]
  },
  {
   "cell_type": "code",
   "execution_count": 35,
   "metadata": {},
   "outputs": [
    {
     "name": "stdout",
     "output_type": "stream",
     "text": [
      "       Breed    Name\n",
      "0        Cat   Meowy\n",
      "1        Dog  Bellow\n",
      "2  GuineaPig  Carmen\n"
     ]
    }
   ],
   "source": [
    "print(pd.DataFrame.from_dict(mydict, orient='columns'))"
   ]
  },
  {
   "cell_type": "code",
   "execution_count": 36,
   "metadata": {},
   "outputs": [
    {
     "name": "stdout",
     "output_type": "stream",
     "text": [
      "           0       1          2\n",
      "Breed    Cat     Dog  GuineaPig\n",
      "Name   Meowy  Bellow     Carmen\n"
     ]
    }
   ],
   "source": [
    "print(pd.DataFrame.from_dict(mydict, orient='index')) # This will make the labeling the other way around! changing your columns to rows"
   ]
  },
  {
   "cell_type": "code",
   "execution_count": 37,
   "metadata": {},
   "outputs": [
    {
     "ename": "NameError",
     "evalue": "name 'df_col' is not defined",
     "output_type": "error",
     "traceback": [
      "\u001b[0;31m---------------------------------------------------------------------------\u001b[0m",
      "\u001b[0;31mNameError\u001b[0m                                 Traceback (most recent call last)",
      "\u001b[0;32m<ipython-input-37-1fd12a21fa18>\u001b[0m in \u001b[0;36m<module>\u001b[0;34m\u001b[0m\n\u001b[0;32m----> 1\u001b[0;31m \u001b[0mdf_col\u001b[0m\u001b[0;34m[\u001b[0m\u001b[0;34m'Apple'\u001b[0m\u001b[0;34m]\u001b[0m\u001b[0;34m.\u001b[0m\u001b[0mmean\u001b[0m\u001b[0;34m(\u001b[0m\u001b[0;34m)\u001b[0m\u001b[0;34m\u001b[0m\u001b[0;34m\u001b[0m\u001b[0m\n\u001b[0m",
      "\u001b[0;31mNameError\u001b[0m: name 'df_col' is not defined"
     ]
    }
   ],
   "source": [
    "# df_col.mean() # This will sum the column means\n",
    "# df_col['Apple'].mean() you can also run mathematical operations within specific columns. \n",
    "# df_col.mean(axis=0) giving the mean of the DataFrame is the same as giving the mean of axis 0 because that is pandas default\n",
    "# df_col.mean(axis=1) this will give you the means along the rows"
   ]
  },
  {
   "cell_type": "code",
   "execution_count": null,
   "metadata": {},
   "outputs": [],
   "source": []
  }
 ],
 "metadata": {
  "kernelspec": {
   "display_name": "Python 3",
   "language": "python",
   "name": "python3"
  },
  "language_info": {
   "codemirror_mode": {
    "name": "ipython",
    "version": 3
   },
   "file_extension": ".py",
   "mimetype": "text/x-python",
   "name": "python",
   "nbconvert_exporter": "python",
   "pygments_lexer": "ipython3",
   "version": "3.8.5"
  }
 },
 "nbformat": 4,
 "nbformat_minor": 4
}

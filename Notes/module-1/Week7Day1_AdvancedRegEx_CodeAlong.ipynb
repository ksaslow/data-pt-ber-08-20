{
 "cells": [
  {
   "cell_type": "markdown",
   "metadata": {},
   "source": [
    "# Advanced RegEx"
   ]
  },
  {
   "cell_type": "code",
   "execution_count": 1,
   "metadata": {},
   "outputs": [],
   "source": [
    "import re"
   ]
  },
  {
   "cell_type": "markdown",
   "metadata": {},
   "source": [
    "#### Repitition: searcing for basic patterns"
   ]
  },
  {
   "cell_type": "code",
   "execution_count": 2,
   "metadata": {},
   "outputs": [],
   "source": [
    "text = \"That dog is very fluffy.\""
   ]
  },
  {
   "cell_type": "code",
   "execution_count": 5,
   "metadata": {},
   "outputs": [
    {
     "data": {
      "text/plain": [
       "['f', 'f', 'f']"
      ]
     },
     "execution_count": 5,
     "metadata": {},
     "output_type": "execute_result"
    }
   ],
   "source": [
    "pattern = 'f'\n",
    "\n",
    "re.findall(pattern, text)"
   ]
  },
  {
   "cell_type": "code",
   "execution_count": 6,
   "metadata": {},
   "outputs": [],
   "source": [
    "re.match(pattern, text)"
   ]
  },
  {
   "cell_type": "code",
   "execution_count": 8,
   "metadata": {},
   "outputs": [
    {
     "data": {
      "text/plain": [
       "False"
      ]
     },
     "execution_count": 8,
     "metadata": {},
     "output_type": "execute_result"
    }
   ],
   "source": [
    "# re.match returns no output because the text doesnt start with the pattern. \n",
    "re.match('T', text) is None"
   ]
  },
  {
   "cell_type": "code",
   "execution_count": 9,
   "metadata": {},
   "outputs": [
    {
     "data": {
      "text/plain": [
       "<re.Match object; span=(0, 4), match='That'>"
      ]
     },
     "execution_count": 9,
     "metadata": {},
     "output_type": "execute_result"
    }
   ],
   "source": [
    "re.match('That', text)"
   ]
  },
  {
   "cell_type": "code",
   "execution_count": 12,
   "metadata": {},
   "outputs": [
    {
     "data": {
      "text/plain": [
       "<re.Match object; span=(0, 1), match='T'>"
      ]
     },
     "execution_count": 12,
     "metadata": {},
     "output_type": "execute_result"
    }
   ],
   "source": [
    "# what if you want to know if the text starts with an uppercase letter?\n",
    "re.match('[A-Z]', text)\n",
    "\n",
    "# this one will probably be useful for web scraping to identify which specific lines or table rows to keep"
   ]
  },
  {
   "cell_type": "code",
   "execution_count": 13,
   "metadata": {},
   "outputs": [
    {
     "data": {
      "text/plain": [
       "['uf']"
      ]
     },
     "execution_count": 13,
     "metadata": {},
     "output_type": "execute_result"
    }
   ],
   "source": [
    "pattern = 'uf'\n",
    "re.findall(pattern, text)"
   ]
  },
  {
   "cell_type": "code",
   "execution_count": 14,
   "metadata": {},
   "outputs": [
    {
     "data": {
      "text/plain": [
       "['f', 'u', 'f', 'f']"
      ]
     },
     "execution_count": 14,
     "metadata": {},
     "output_type": "execute_result"
    }
   ],
   "source": [
    "pattern = '[uf]' # with [] this is now the SET of the letter 'u' and the letter 'f', no longer the occurance of 'uf'.\n",
    "re.findall(pattern, text)"
   ]
  },
  {
   "cell_type": "markdown",
   "metadata": {},
   "source": [
    "### [ ] Match set of characters"
   ]
  },
  {
   "cell_type": "code",
   "execution_count": 15,
   "metadata": {},
   "outputs": [
    {
     "data": {
      "text/plain": [
       "['gray', 'grey']"
      ]
     },
     "execution_count": 15,
     "metadata": {},
     "output_type": "execute_result"
    }
   ],
   "source": [
    "text2 = \"Is it spelled gray or grey?\"\n",
    "\n",
    "pattern = 'gr[ae]y' # this will allow you to find both spelling varieties in the text, rather than searching for them individually.\n",
    "\n",
    "re.findall(pattern, text2)"
   ]
  },
  {
   "cell_type": "code",
   "execution_count": 18,
   "metadata": {},
   "outputs": [
    {
     "data": {
      "text/plain": [
       "['A', 'B', 'C']"
      ]
     },
     "execution_count": 18,
     "metadata": {},
     "output_type": "execute_result"
    }
   ],
   "source": [
    "text3 = \"This is an A and B conversation, so C your way out of it you D!.\"\n",
    "\n",
    "# find just A, B, and C:\n",
    "\n",
    "re.findall('[A-C]', text3)"
   ]
  },
  {
   "cell_type": "markdown",
   "metadata": {},
   "source": [
    "### . Match any character except newline (\\n)"
   ]
  },
  {
   "cell_type": "code",
   "execution_count": 20,
   "metadata": {},
   "outputs": [
    {
     "name": "stdout",
     "output_type": "stream",
     "text": [
      "['T', 'h', 'a', 't', ' ', 'd', 'o', 'g', ' ', 'i', 's', ' ', 'v', 'e', 'r', 'y', ' ', 'f', 'l', 'u', 'f', 'f', 'y', '.']\n"
     ]
    }
   ],
   "source": [
    "text = \"That dog is very fluffy.\"\n",
    "pattern = '.' # This dot is a special character! You will get EVERYTHING expect the linebreak. \n",
    "print(re.findall(pattern, text))\n",
    "\n",
    "# you will get back every element separately! "
   ]
  },
  {
   "cell_type": "code",
   "execution_count": 23,
   "metadata": {},
   "outputs": [
    {
     "name": "stdout",
     "output_type": "stream",
     "text": [
      "That dog is very fluffy. \n",
      "It also has floppy ears.\n"
     ]
    }
   ],
   "source": [
    "text4 = \"That dog is very fluffy. \\nIt also has floppy ears.\" # use the \\n to tell python you want it to be printed on a new line!\n",
    "print(text4)"
   ]
  },
  {
   "cell_type": "code",
   "execution_count": 25,
   "metadata": {},
   "outputs": [
    {
     "name": "stdout",
     "output_type": "stream",
     "text": [
      "['T', 'h', 'a', 't', ' ', 'd', 'o', 'g', ' ', 'i', 's', ' ', 'v', 'e', 'r', 'y', ' ', 'f', 'l', 'u', 'f', 'f', 'y', '.', ' ', 'I', 't', ' ', 'a', 'l', 's', 'o', ' ', 'h', 'a', 's', ' ', 'f', 'l', 'o', 'p', 'p', 'y', ' ', 'e', 'a', 'r', 's', '.']\n"
     ]
    }
   ],
   "source": [
    "print(re.findall(pattern, text4)) # note that the '.' WILL NOT find the \\n "
   ]
  },
  {
   "cell_type": "markdown",
   "metadata": {},
   "source": [
    "### ^ Match characters not listed if within set OR match "
   ]
  },
  {
   "cell_type": "code",
   "execution_count": 26,
   "metadata": {},
   "outputs": [
    {
     "name": "stdout",
     "output_type": "stream",
     "text": [
      "['T', ' ', ' ', ' ', ' ', '.']\n"
     ]
    }
   ],
   "source": [
    "pattern =  '[^a-z]' # will match everything EXCEPT what is listed there. \n",
    "# You will find everything EXCEPT lowercase letters from a-z\n",
    "\n",
    "print(re.findall(pattern, text))\n"
   ]
  },
  {
   "cell_type": "code",
   "execution_count": 30,
   "metadata": {},
   "outputs": [
    {
     "name": "stdout",
     "output_type": "stream",
     "text": [
      "['T', '.', '\\n']\n"
     ]
    }
   ],
   "source": [
    "pattern = '[^a-z0-9! ]' # note the empty space included in the set\n",
    "text = \"That dog is very fluffy.1 2 3 4 \\n !!\"\n",
    "print(re.findall(pattern, text))"
   ]
  },
  {
   "cell_type": "code",
   "execution_count": 32,
   "metadata": {},
   "outputs": [
    {
     "name": "stdout",
     "output_type": "stream",
     "text": [
      "['That dog']\n"
     ]
    }
   ],
   "source": [
    "pattern = '^That dog' # what happens if you put the carrot not inside of a set? \n",
    "print(re.findall(pattern, text))\n",
    "\n",
    "# it will turn your findall into a de facto MATCH! And look for something at the beginning of the text."
   ]
  },
  {
   "cell_type": "code",
   "execution_count": 33,
   "metadata": {},
   "outputs": [
    {
     "name": "stdout",
     "output_type": "stream",
     "text": [
      "[]\n"
     ]
    }
   ],
   "source": [
    "pattern = '^fluffy'\n",
    "print(re.findall(pattern, text))\n",
    "\n",
    "# this is empty because 'fluffy' is not at the beginning of the line!"
   ]
  },
  {
   "cell_type": "markdown",
   "metadata": {},
   "source": [
    "### $ Match end of line"
   ]
  },
  {
   "cell_type": "code",
   "execution_count": 34,
   "metadata": {},
   "outputs": [
    {
     "name": "stdout",
     "output_type": "stream",
     "text": [
      "[]\n"
     ]
    }
   ],
   "source": [
    "pattern = 'That dog$'\n",
    "\n",
    "print(re.findall(pattern, text))"
   ]
  },
  {
   "cell_type": "code",
   "execution_count": 37,
   "metadata": {},
   "outputs": [
    {
     "name": "stdout",
     "output_type": "stream",
     "text": [
      "['fluffy.']\n"
     ]
    }
   ],
   "source": [
    "pattern = 'fluffy.$'\n",
    "text = \"That dog is very fluffy.\"\n",
    "print(re.findall(pattern, text))"
   ]
  },
  {
   "cell_type": "markdown",
   "metadata": {},
   "source": [
    "### | Functions as an \"OR\" operator"
   ]
  },
  {
   "cell_type": "code",
   "execution_count": 38,
   "metadata": {},
   "outputs": [
    {
     "name": "stdout",
     "output_type": "stream",
     "text": [
      "['dog', 'fluffy']\n"
     ]
    }
   ],
   "source": [
    "pattern = 'fluffy|dog'  # here you have this OR operator to find all occurances of 'fluffy' and 'dog'! \n",
    "print(re.findall(pattern, text))"
   ]
  },
  {
   "cell_type": "markdown",
   "metadata": {},
   "source": [
    "### * Matches previous character 0 or more times"
   ]
  },
  {
   "cell_type": "code",
   "execution_count": 40,
   "metadata": {},
   "outputs": [
    {
     "name": "stdout",
     "output_type": "stream",
     "text": [
      "['og', 'dog', 'dddog', 'ddog', 'og', 'ddog', 'dog']\n"
     ]
    }
   ],
   "source": [
    "dogtext = \"og dog dddog ddog ddoooooggggg ddogggg daaggggg deg dog\"\n",
    "pattern = 'd*og' # this will match the character before the * 0 or more times. \n",
    "print(re.findall(pattern, dogtext))\n",
    "\n",
    "# it will find only the instances with multiple ds, but not mutliple os or gs because there is only one o and one g in the special pattern"
   ]
  },
  {
   "cell_type": "markdown",
   "metadata": {},
   "source": [
    "### + Matches previous character 1 or more times"
   ]
  },
  {
   "cell_type": "code",
   "execution_count": 41,
   "metadata": {},
   "outputs": [
    {
     "name": "stdout",
     "output_type": "stream",
     "text": [
      "['dog', 'dog', 'dog', 'dooooog', 'dog', 'dog']\n"
     ]
    }
   ],
   "source": [
    "pattern = 'do*g'\n",
    "print(re.findall(pattern, dogtext))\n",
    "\n",
    "# how to do this with at least one occurance, and not account for 0 times:"
   ]
  },
  {
   "cell_type": "code",
   "execution_count": 44,
   "metadata": {},
   "outputs": [
    {
     "name": "stdout",
     "output_type": "stream",
     "text": [
      "['dog', 'dddog', 'ddog', 'ddog', 'dog']\n"
     ]
    }
   ],
   "source": [
    "pattern = 'd+og'\n",
    "print(re.findall(pattern, dogtext))\n",
    "\n",
    "# you will no longer match the 'og' beacause you need at least one d"
   ]
  },
  {
   "cell_type": "code",
   "execution_count": null,
   "metadata": {},
   "outputs": [],
   "source": []
  },
  {
   "cell_type": "markdown",
   "metadata": {},
   "source": [
    "### ? Matches previous character 0 or 1 "
   ]
  },
  {
   "cell_type": "code",
   "execution_count": 45,
   "metadata": {},
   "outputs": [
    {
     "name": "stdout",
     "output_type": "stream",
     "text": [
      "['og', 'dog', 'dog', 'dog', 'og', 'dog', 'dog']\n"
     ]
    }
   ],
   "source": [
    "pattern = 'd?og'\n",
    "print(re.findall(pattern, dogtext))"
   ]
  },
  {
   "cell_type": "markdown",
   "metadata": {},
   "source": [
    "### {num1,num2} Matches previous characters num1-num2 times"
   ]
  },
  {
   "cell_type": "code",
   "execution_count": 66,
   "metadata": {},
   "outputs": [
    {
     "name": "stdout",
     "output_type": "stream",
     "text": [
      "['dddog', 'ddog', 'ddog']\n"
     ]
    }
   ],
   "source": [
    "pattern = 'd{2,3}og'\n",
    "print(re.findall(pattern, dogtext))"
   ]
  },
  {
   "cell_type": "code",
   "execution_count": 67,
   "metadata": {},
   "outputs": [
    {
     "name": "stdout",
     "output_type": "stream",
     "text": [
      "['og', 'dog', 'dddog', 'ddog', 'og', 'ddog', 'dog']\n"
     ]
    }
   ],
   "source": [
    "# this will return everything with between 2-3 ds and then og\n",
    "# you could also specify that you want a d maximum 3 times\n",
    "\n",
    "pattern = 'd{,3}og'\n",
    "print(re.findall(pattern, dogtext))"
   ]
  },
  {
   "cell_type": "code",
   "execution_count": 68,
   "metadata": {},
   "outputs": [
    {
     "name": "stdout",
     "output_type": "stream",
     "text": [
      "['dddog', 'ddog', 'ddog']\n"
     ]
    }
   ],
   "source": [
    "# similarly, you can say you want at least 2 ds:\n",
    "\n",
    "pattern = 'd{2,}og'\n",
    "print(re.findall(pattern, dogtext))"
   ]
  },
  {
   "cell_type": "code",
   "execution_count": null,
   "metadata": {},
   "outputs": [],
   "source": [
    "# this is really helpful for example to NOT extract words like 'a', 'an', 'the' or other things that make analysis hard. \n",
    "# you would use this {} as away to make a condition! See the words of at least 4 letters example below"
   ]
  },
  {
   "cell_type": "markdown",
   "metadata": {},
   "source": [
    "### Challenge: Extract all the words from the following sentance"
   ]
  },
  {
   "cell_type": "code",
   "execution_count": 48,
   "metadata": {},
   "outputs": [],
   "source": [
    "cattext = \"Every cat has nine lives.\"\n",
    "\n",
    "#\\w: any alphanumeric characters!!"
   ]
  },
  {
   "cell_type": "code",
   "execution_count": 61,
   "metadata": {},
   "outputs": [
    {
     "data": {
      "text/plain": [
       "['Every', 'cat', 'has', 'nine', 'lives.']"
      ]
     },
     "execution_count": 61,
     "metadata": {},
     "output_type": "execute_result"
    }
   ],
   "source": [
    "cattext.split()"
   ]
  },
  {
   "cell_type": "code",
   "execution_count": 63,
   "metadata": {},
   "outputs": [
    {
     "name": "stdout",
     "output_type": "stream",
     "text": [
      "['E', 'v', 'e', 'r', 'y', 'c', 'a', 't', 'h', 'a', 's', 'n', 'i', 'n', 'e', 'l', 'i', 'v', 'e', 's']\n"
     ]
    }
   ],
   "source": [
    "print(re.findall('\\w', cattext))"
   ]
  },
  {
   "cell_type": "code",
   "execution_count": 57,
   "metadata": {},
   "outputs": [
    {
     "name": "stdout",
     "output_type": "stream",
     "text": [
      "['Every', 'cat', 'has', 'nine', 'lives']\n"
     ]
    }
   ],
   "source": [
    "print(re.findall('\\w+', cattext)) # this looks for collections of numbers "
   ]
  },
  {
   "cell_type": "code",
   "execution_count": 62,
   "metadata": {},
   "outputs": [
    {
     "name": "stdout",
     "output_type": "stream",
     "text": [
      "['Every', '', 'cat', '', 'has', '', 'nine', '', 'lives', '', '']\n"
     ]
    }
   ],
   "source": [
    "print(re.findall('\\w*', cattext)) # note that this prints it with the empty spaces, because it is 0 or more rather then at least 1"
   ]
  },
  {
   "cell_type": "markdown",
   "metadata": {},
   "source": [
    "### Now extract only words that have at least 4 letters!"
   ]
  },
  {
   "cell_type": "code",
   "execution_count": 70,
   "metadata": {},
   "outputs": [
    {
     "name": "stdout",
     "output_type": "stream",
     "text": [
      "['Every', 'nine', 'lives']\n"
     ]
    }
   ],
   "source": [
    "pattern = '\\w{4,}'\n",
    "\n",
    "print(re.findall(pattern, cattext))"
   ]
  },
  {
   "cell_type": "markdown",
   "metadata": {},
   "source": [
    "### Extract all the phone numbers from the following text"
   ]
  },
  {
   "cell_type": "code",
   "execution_count": 80,
   "metadata": {},
   "outputs": [],
   "source": [
    "text = '''\n",
    "Aeromexico 800-237-6639\n",
    "Air Canada 888-247-2262\n",
    "Air Canada Rouge 888-247-2262\n",
    "Air Creebec 800-567-6566\n",
    "Air Inuit 800-361-2965\n",
    "Air North 800-661-0407\n",
    "'''"
   ]
  },
  {
   "cell_type": "code",
   "execution_count": 81,
   "metadata": {},
   "outputs": [
    {
     "name": "stdout",
     "output_type": "stream",
     "text": [
      "['800-237-6639', '888-247-2262', '888-247-2262', '800-567-6566', '800-361-2965', '800-661-0407']\n"
     ]
    }
   ],
   "source": [
    "# find list with JUST the phone numbers:\n",
    "\n",
    "print(re.findall('\\d{3,}-\\d{3,}-\\d{4,}', text))"
   ]
  },
  {
   "cell_type": "code",
   "execution_count": 83,
   "metadata": {},
   "outputs": [
    {
     "name": "stdout",
     "output_type": "stream",
     "text": [
      "['800-237-6639', '888-247-2262', '888-247-2262', '800-567-6566', '800-361-2965', '800-661-0407']\n"
     ]
    }
   ],
   "source": [
    "print(re.findall('\\d+-\\d+-\\d+', text)) "
   ]
  },
  {
   "cell_type": "code",
   "execution_count": null,
   "metadata": {},
   "outputs": [],
   "source": [
    "# note: for the credit card validator: if you need 4 numbers - 4 numbers - 4 numbers:\n",
    "# you could do re.findall'\\d\\d\\d\\d-\\d\\d\\d\\d-\\d\\d\\d\\d'\n",
    "# or re.findall'\\d{4,4}-\\d{4,4}-\\d{4,4}' "
   ]
  }
 ],
 "metadata": {
  "kernelspec": {
   "display_name": "Python 3",
   "language": "python",
   "name": "python3"
  },
  "language_info": {
   "codemirror_mode": {
    "name": "ipython",
    "version": 3
   },
   "file_extension": ".py",
   "mimetype": "text/x-python",
   "name": "python",
   "nbconvert_exporter": "python",
   "pygments_lexer": "ipython3",
   "version": "3.8.3"
  }
 },
 "nbformat": 4,
 "nbformat_minor": 4
}

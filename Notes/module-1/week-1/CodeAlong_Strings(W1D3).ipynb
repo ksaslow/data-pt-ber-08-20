{
 "cells": [
  {
   "cell_type": "code",
   "execution_count": 2,
   "metadata": {},
   "outputs": [
    {
     "data": {
      "text/plain": [
       "'Hello World'"
      ]
     },
     "execution_count": 2,
     "metadata": {},
     "output_type": "execute_result"
    }
   ],
   "source": [
    "x = \"Hello\"\n",
    "y = \"World\"\n",
    "z = [x, y]\n",
    "\n",
    "\" \".join(z)"
   ]
  },
  {
   "cell_type": "code",
   "execution_count": 3,
   "metadata": {},
   "outputs": [
    {
     "data": {
      "text/plain": [
       "'Hello , World'"
      ]
     },
     "execution_count": 3,
     "metadata": {},
     "output_type": "execute_result"
    }
   ],
   "source": [
    "\" , \".join(z) "
   ]
  },
  {
   "cell_type": "code",
   "execution_count": 4,
   "metadata": {},
   "outputs": [
    {
     "name": "stdout",
     "output_type": "stream",
     "text": [
      "she had a marvelous assortment of puppets.\n"
     ]
    }
   ],
   "source": [
    "c = \"shE HaD a maRveLoUs aSsoRtmeNt of PUPPETS.\"\n",
    "\n",
    "print(c.lower())\n"
   ]
  },
  {
   "cell_type": "code",
   "execution_count": 5,
   "metadata": {},
   "outputs": [
    {
     "name": "stdout",
     "output_type": "stream",
     "text": [
      "I thought the movie was horrible.\n"
     ]
    }
   ],
   "source": [
    "e = \"I thought the movie was wonderful.\"\n",
    "\n",
    "print(e.replace(\"wonderful\", \"horrible\")) # NOTE: this doesn't change your variable e. strings are IMMUTABLE! "
   ]
  },
  {
   "cell_type": "code",
   "execution_count": 6,
   "metadata": {},
   "outputs": [],
   "source": [
    "e = e.replace(\"wonderful\", \"horrible\")  # while you can't change it just by replacing in the last command, you could just reassign the original string"
   ]
  },
  {
   "cell_type": "code",
   "execution_count": 7,
   "metadata": {},
   "outputs": [
    {
     "name": "stdout",
     "output_type": "stream",
     "text": [
      "I thought the movie was horrible.\n"
     ]
    }
   ],
   "source": [
    "print(e)"
   ]
  },
  {
   "cell_type": "code",
   "execution_count": null,
   "metadata": {},
   "outputs": [],
   "source": [
    "import re # Regular Expressions or (RegEx) for short. these are found in the re library"
   ]
  },
  {
   "cell_type": "code",
   "execution_count": null,
   "metadata": {},
   "outputs": [],
   "source": [
    "# re.findall(\"dog\", text)) # this will give you all \"dog\" in the stg \"text\" \n",
    "# versus\n",
    "# re.findall(\"[dog]\", text)) # this will give you all \"d\" \"o\" and \"g\" in the srg \"text\" ! just because of the []"
   ]
  },
  {
   "cell_type": "code",
   "execution_count": null,
   "metadata": {},
   "outputs": [],
   "source": [
    "# Predefined Sets: (see list in Student Portal lesson notes!)\n",
    "    \n",
    "#     [a-z]\n",
    "#     [A-z]\n",
    "#     [0-9] OR you could write [\\d] which is another way of writing that you want to find any numeric character\n",
    "    \n",
    "#     get rid of all duplicates by making a set of the range!\n",
    "    \n",
    "#     re.findall(\"[A-Z0-9]\", text)) # this allows you to find all of the uppercase and all numbers in text by combining the two commands!! \n",
    "\n",
    "# if you want to sort this, you'd have to sort the list!\n",
    "    # NOTE: python sorts UPPERcase first, then lowercase. For example, you will find Z before a, and W before b. "
   ]
  },
  {
   "cell_type": "code",
   "execution_count": null,
   "metadata": {},
   "outputs": [],
   "source": [
    "# note that the re.sub() command is similar to the x.replace() command in that it doesnt CHANGE the variable. You'd have to redefine it to change it"
   ]
  },
  {
   "cell_type": "code",
   "execution_count": null,
   "metadata": {},
   "outputs": [],
   "source": []
  }
 ],
 "metadata": {
  "kernelspec": {
   "display_name": "Python 3",
   "language": "python",
   "name": "python3"
  },
  "language_info": {
   "codemirror_mode": {
    "name": "ipython",
    "version": 3
   },
   "file_extension": ".py",
   "mimetype": "text/x-python",
   "name": "python",
   "nbconvert_exporter": "python",
   "pygments_lexer": "ipython3",
   "version": "3.8.5"
  }
 },
 "nbformat": 4,
 "nbformat_minor": 4
}

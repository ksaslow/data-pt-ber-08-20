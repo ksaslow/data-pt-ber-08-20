{
 "cells": [
  {
   "cell_type": "markdown",
   "metadata": {},
   "source": [
    "## Challenge: Functions\n",
    "\n",
    "In this challenge, we will be defining and applying some functions for problems which we have seen in similar form before!\n",
    "\n",
    "**In the cell below, define a function called max_two which finds the maximum of two input numbers.**\n"
   ]
  },
  {
   "cell_type": "code",
   "execution_count": 3,
   "metadata": {},
   "outputs": [
    {
     "data": {
      "text/plain": [
       "15"
      ]
     },
     "execution_count": 3,
     "metadata": {},
     "output_type": "execute_result"
    }
   ],
   "source": [
    "def max_two(x,y):  # define a function that finds the maximum of two input numbers\n",
    "    if x>y:\n",
    "        return x\n",
    "    elif y>x:\n",
    "        return y\n",
    "    \n",
    "max_two(7,15)"
   ]
  },
  {
   "cell_type": "markdown",
   "metadata": {},
   "source": [
    "#### Now apply the function to several pairs of numbers to test if it functions correctly.\n"
   ]
  },
  {
   "cell_type": "code",
   "execution_count": 4,
   "metadata": {},
   "outputs": [
    {
     "name": "stdout",
     "output_type": "stream",
     "text": [
      "16\n",
      "4\n",
      "11000\n"
     ]
    }
   ],
   "source": [
    "print(max_two(16,3))\n",
    "print(max_two(4,3))\n",
    "print(max_two(0,11000))"
   ]
  },
  {
   "cell_type": "markdown",
   "metadata": {},
   "source": [
    "#### Now write a Python function called check_range to check whether a number is in a given range. \n",
    "\n",
    "The function should take three inputs: the number to test, the first number of the range, and the last number of the range. Add a short documentation that specifies the order of inputs. Lastly, the function should return different statements based on whether the test fails or succeeds!\n"
   ]
  },
  {
   "cell_type": "code",
   "execution_count": 17,
   "metadata": {},
   "outputs": [
    {
     "name": "stdout",
     "output_type": "stream",
     "text": [
      "Yes,  2 is in range ( 1 , 14 )\n"
     ]
    }
   ],
   "source": [
    "def check_range(x,y,z):\n",
    "    if x in range(y,(z+1)):\n",
    "        return print(\"Yes, \",x, \"is in range (\",y,\",\",z,\")\" )\n",
    "    else:\n",
    "        return print(\"No,\",x, \"is not included in range.\")\n",
    "\n",
    "check_range(2,1,14) # does this mean that I have to make the range 101 because it is exclusive ?"
   ]
  },
  {
   "cell_type": "markdown",
   "metadata": {},
   "source": [
    "#### Again, apply the function to different numbers to test if it functions correctly.\n"
   ]
  },
  {
   "cell_type": "code",
   "execution_count": 18,
   "metadata": {},
   "outputs": [
    {
     "name": "stdout",
     "output_type": "stream",
     "text": [
      "No, 74 is not included in range.\n",
      "None\n",
      "No, 5 is not included in range.\n",
      "None\n",
      "Yes,  100 is in range ( 1 , 100 )\n",
      "None\n"
     ]
    }
   ],
   "source": [
    "print(check_range(74,2,6))\n",
    "print(check_range(5,6,8))\n",
    "print(check_range(100,1,100))"
   ]
  },
  {
   "cell_type": "markdown",
   "metadata": {},
   "source": [
    "#### Write a function called count_upper_lower that counts the number of uppercase and the number of lowercase characters in a given string."
   ]
  },
  {
   "cell_type": "code",
   "execution_count": 30,
   "metadata": {},
   "outputs": [
    {
     "data": {
      "text/plain": [
       "('There are ',\n",
       " 8,\n",
       " 'uppercase letters and ',\n",
       " 31,\n",
       " 'lowercase letters in the given string.')"
      ]
     },
     "execution_count": 30,
     "metadata": {},
     "output_type": "execute_result"
    }
   ],
   "source": [
    "# there are embedded commands in python\n",
    "\n",
    "def count_upper_lower(string):\n",
    "    upper = [i for i in string if i.isupper()]\n",
    "    lower = [i for i in string if i.islower()]\n",
    "    return \"There are \",len(upper), \"uppercase letters and \",len(lower),\"lowercase letters in the given string.\"\n",
    "\n",
    "count_upper_lower(\"The weather in November feels more like AUGUST.\")"
   ]
  },
  {
   "cell_type": "markdown",
   "metadata": {},
   "source": [
    "#### Apply the function to the test string \"A large grey cat was asleep on a rocking chair in Idaho.\"."
   ]
  },
  {
   "cell_type": "code",
   "execution_count": 31,
   "metadata": {},
   "outputs": [
    {
     "data": {
      "text/plain": [
       "('There are ',\n",
       " 2,\n",
       " 'uppercase letters and ',\n",
       " 42,\n",
       " 'lowercase letters in the given string.')"
      ]
     },
     "execution_count": 31,
     "metadata": {},
     "output_type": "execute_result"
    }
   ],
   "source": [
    "count_upper_lower(\"A large grey cat was asleep on a rocking chair in Idaho.\")"
   ]
  },
  {
   "cell_type": "code",
   "execution_count": null,
   "metadata": {},
   "outputs": [],
   "source": []
  }
 ],
 "metadata": {
  "kernelspec": {
   "display_name": "Python 3",
   "language": "python",
   "name": "python3"
  },
  "language_info": {
   "codemirror_mode": {
    "name": "ipython",
    "version": 3
   },
   "file_extension": ".py",
   "mimetype": "text/x-python",
   "name": "python",
   "nbconvert_exporter": "python",
   "pygments_lexer": "ipython3",
   "version": "3.8.3"
  }
 },
 "nbformat": 4,
 "nbformat_minor": 2
}

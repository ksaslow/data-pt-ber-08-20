{
 "cells": [
  {
   "cell_type": "code",
   "execution_count": null,
   "metadata": {},
   "outputs": [],
   "source": [
    "# Notes from class for the Functions Lab:"
   ]
  },
  {
   "cell_type": "code",
   "execution_count": 1,
   "metadata": {},
   "outputs": [
    {
     "name": "stdout",
     "output_type": "stream",
     "text": [
      "I love cats.\n"
     ]
    }
   ],
   "source": [
    "# embedded functions already exist in python. Ex: print(), len(), set(), input(), for:, if:, etc...\n",
    "\n",
    "# def some_function():\n",
    "    #[do_something]\n",
    "    \n",
    "def func():\n",
    "    print(\"I love cats.\")\n",
    "\n",
    "func() "
   ]
  },
  {
   "cell_type": "code",
   "execution_count": 5,
   "metadata": {},
   "outputs": [
    {
     "name": "stdout",
     "output_type": "stream",
     "text": [
      "I love dogs.\n"
     ]
    }
   ],
   "source": [
    "def func(string): # This is defining a function that requires an argument! \n",
    "    print(\"I love \" + string + \".\")\n",
    "    \n",
    "func(\"dogs\")"
   ]
  },
  {
   "cell_type": "code",
   "execution_count": 8,
   "metadata": {},
   "outputs": [
    {
     "name": "stdout",
     "output_type": "stream",
     "text": [
      "I love cats.\n",
      "I love animals.\n"
     ]
    }
   ],
   "source": [
    "# Wowkring with DEFAULT arguments: This becomes very helpful if you are defining a complex function and you want to have OPTIONAL ARGUMENTS! For example, having the result have an int instead of a float. \n",
    "\n",
    "def func(string=\"cats\"):            # Here you are initializing your default argument.\n",
    "    print(\"I love \" + string + \".\")\n",
    "    \n",
    "func() # Even though you call it without an argument here, its defaults to the string with which you defined it!\n",
    "\n",
    "func(\"animals\") # But you could also call the function with the string of your choice. "
   ]
  },
  {
   "cell_type": "code",
   "execution_count": 9,
   "metadata": {},
   "outputs": [],
   "source": [
    "# Return values"
   ]
  },
  {
   "cell_type": "code",
   "execution_count": 10,
   "metadata": {},
   "outputs": [
    {
     "name": "stdout",
     "output_type": "stream",
     "text": [
      "I love cats.\n",
      "None\n"
     ]
    }
   ],
   "source": [
    "print(func()) # this function prints something, but doesn't return any VALUE. You haven't told it what to return yet. "
   ]
  },
  {
   "cell_type": "code",
   "execution_count": 12,
   "metadata": {},
   "outputs": [
    {
     "name": "stdout",
     "output_type": "stream",
     "text": [
      "I love cats.\n",
      "cats\n"
     ]
    }
   ],
   "source": [
    "def func(string=\"cats\"):            \n",
    "    print(\"I love \" + string + \".\")\n",
    "    return string       # So here, you are telling the function to not only PRINT something, but to RETURN a value. \n",
    "                        # note, return has to come at the end. \n",
    "    \n",
    "print(func())"
   ]
  },
  {
   "cell_type": "code",
   "execution_count": 13,
   "metadata": {},
   "outputs": [
    {
     "ename": "NameError",
     "evalue": "name 'string' is not defined",
     "output_type": "error",
     "traceback": [
      "\u001b[0;31m---------------------------------------------------------------------------\u001b[0m",
      "\u001b[0;31mNameError\u001b[0m                                 Traceback (most recent call last)",
      "\u001b[0;32m<ipython-input-13-563301de1a84>\u001b[0m in \u001b[0;36m<module>\u001b[0;34m\u001b[0m\n\u001b[1;32m      5\u001b[0m     \u001b[0;32mreturn\u001b[0m \u001b[0mstring\u001b[0m\u001b[0;34m\u001b[0m\u001b[0;34m\u001b[0m\u001b[0m\n\u001b[1;32m      6\u001b[0m \u001b[0;34m\u001b[0m\u001b[0m\n\u001b[0;32m----> 7\u001b[0;31m \u001b[0mprint\u001b[0m\u001b[0;34m(\u001b[0m\u001b[0mstring\u001b[0m\u001b[0;34m)\u001b[0m\u001b[0;34m\u001b[0m\u001b[0;34m\u001b[0m\u001b[0m\n\u001b[0m",
      "\u001b[0;31mNameError\u001b[0m: name 'string' is not defined"
     ]
    }
   ],
   "source": [
    "# Global versus Local Variables:\n",
    "\n",
    "def func(string=\"cats\"):            \n",
    "    print(\"I love \" + string + \".\")\n",
    "    return string       \n",
    "    \n",
    "print(string) # THIS WONT work because string is defined in the function, but it doesnt exist outside of the function. \n",
    "\n",
    "# Anything that isnt explicitly returned in the function will not work. \n",
    "# Anything that you want to exist AFTER the fucntion is done running, you have to have it returned!\n",
    "\n",
    "# def myfunct(string=\"cats\"):\n",
    "#     string2 = string + \" and dogs.\"\n",
    "#     string3 = \"sunshine\"\n",
    "#     mynumber = 5\n",
    "#     return string\n",
    "\n",
    "# ALL of the other variables created are local (aka TEMPORARY) variables and only exist long enough for you to actually run your function once.\n",
    "\n",
    "\n",
    "\n",
    "    "
   ]
  },
  {
   "cell_type": "code",
   "execution_count": null,
   "metadata": {},
   "outputs": [],
   "source": []
  }
 ],
 "metadata": {
  "kernelspec": {
   "display_name": "Python 3",
   "language": "python",
   "name": "python3"
  },
  "language_info": {
   "codemirror_mode": {
    "name": "ipython",
    "version": 3
   },
   "file_extension": ".py",
   "mimetype": "text/x-python",
   "name": "python",
   "nbconvert_exporter": "python",
   "pygments_lexer": "ipython3",
   "version": "3.8.5"
  }
 },
 "nbformat": 4,
 "nbformat_minor": 4
}

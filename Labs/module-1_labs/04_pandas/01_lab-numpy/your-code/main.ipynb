{
 "cells": [
  {
   "cell_type": "markdown",
   "metadata": {},
   "source": [
    "# Working with Numpy\n",
    "\n",
    "Numpy is the numerical python package, with a lot of mathematical capabilities. Before we can use it, we need to first import the package. We will import it under the name np such that we can afterwards refer to it by this short name."
   ]
  },
  {
   "cell_type": "code",
   "execution_count": 1,
   "metadata": {},
   "outputs": [],
   "source": [
    "import numpy as np"
   ]
  },
  {
   "cell_type": "markdown",
   "metadata": {},
   "source": [
    "In the cell below, generate two 2x3 array with all elements equal to 1 - assign one of the arrays to the variable a and the other one to b. Add the two arrays. What do you get?"
   ]
  },
  {
   "cell_type": "code",
   "execution_count": 12,
   "metadata": {},
   "outputs": [
    {
     "name": "stdout",
     "output_type": "stream",
     "text": [
      "[[2 2 2]\n",
      " [2 2 2]]\n"
     ]
    }
   ],
   "source": [
    "a = np.full((2,3), 1) # Generate arrays with all elements = to 1\n",
    "b = np.full((2,3), 1)\n",
    "\n",
    "result = np.add(a,b)\n",
    "print(result)\n",
    "\n",
    "# each element of array a was added to each identical element in array b"
   ]
  },
  {
   "cell_type": "markdown",
   "metadata": {},
   "source": [
    "Now generate another array c which is a 3x2 array with all elements equal to 1. Are you able to add a and c? Why or why not?"
   ]
  },
  {
   "cell_type": "code",
   "execution_count": 16,
   "metadata": {},
   "outputs": [
    {
     "name": "stdout",
     "output_type": "stream",
     "text": [
      "[[1 1]\n",
      " [1 1]\n",
      " [1 1]]\n"
     ]
    },
    {
     "ename": "ValueError",
     "evalue": "operands could not be broadcast together with shapes (2,3) (3,2) ",
     "output_type": "error",
     "traceback": [
      "\u001b[0;31m---------------------------------------------------------------------------\u001b[0m",
      "\u001b[0;31mValueError\u001b[0m                                Traceback (most recent call last)",
      "\u001b[0;32m<ipython-input-16-ac61ad196548>\u001b[0m in \u001b[0;36m<module>\u001b[0;34m\u001b[0m\n\u001b[1;32m      2\u001b[0m \u001b[0mprint\u001b[0m\u001b[0;34m(\u001b[0m\u001b[0mc\u001b[0m\u001b[0;34m)\u001b[0m\u001b[0;34m\u001b[0m\u001b[0;34m\u001b[0m\u001b[0m\n\u001b[1;32m      3\u001b[0m \u001b[0;34m\u001b[0m\u001b[0m\n\u001b[0;32m----> 4\u001b[0;31m \u001b[0mnp\u001b[0m\u001b[0;34m.\u001b[0m\u001b[0madd\u001b[0m\u001b[0;34m(\u001b[0m\u001b[0ma\u001b[0m\u001b[0;34m,\u001b[0m\u001b[0mc\u001b[0m\u001b[0;34m)\u001b[0m\u001b[0;34m\u001b[0m\u001b[0;34m\u001b[0m\u001b[0m\n\u001b[0m\u001b[1;32m      5\u001b[0m \u001b[0;31m# This won't work because the dimensions of a and c are not the same\u001b[0m\u001b[0;34m\u001b[0m\u001b[0;34m\u001b[0m\u001b[0;34m\u001b[0m\u001b[0m\n",
      "\u001b[0;31mValueError\u001b[0m: operands could not be broadcast together with shapes (2,3) (3,2) "
     ]
    }
   ],
   "source": [
    "c = np.full((3,2), 1)\n",
    "print(c)\n",
    "\n",
    "np.add(a,c) \n",
    "# This won't work because the dimensions of a and c are not the same"
   ]
  },
  {
   "cell_type": "markdown",
   "metadata": {},
   "source": [
    "Transpose c so that it has the same structure of a (i.e. become a 2x3 array). Assign the transposed array to variable \"d\". Are you able to add a and d?"
   ]
  },
  {
   "cell_type": "code",
   "execution_count": 32,
   "metadata": {},
   "outputs": [
    {
     "name": "stdout",
     "output_type": "stream",
     "text": [
      "[[1 1 1]\n",
      " [1 1 1]]\n",
      "[[2 2 2]\n",
      " [2 2 2]]\n"
     ]
    }
   ],
   "source": [
    "d = np.transpose(c) # np.transpose() is a function I found online\n",
    "print(d)\n",
    "\n",
    "print(np.add(a,d)) # Now this will work because a and d have the same shape"
   ]
  },
  {
   "cell_type": "markdown",
   "metadata": {},
   "source": [
    "Which combination of arrays are you able to multiply with each other? Why?"
   ]
  },
  {
   "cell_type": "code",
   "execution_count": 28,
   "metadata": {},
   "outputs": [
    {
     "data": {
      "text/plain": [
       "array([[1, 1, 1],\n",
       "       [1, 1, 1]])"
      ]
     },
     "execution_count": 28,
     "metadata": {},
     "output_type": "execute_result"
    }
   ],
   "source": [
    "# we should be able to multiply a, b, and d but not c because c has a different shape than the other 3\n",
    "\n",
    "np.multiply(a,b)\n",
    "np.multiply(a,d)\n",
    "np.multiply(b,d)\n",
    "# np.multply(a,c) Would give you the error"
   ]
  },
  {
   "cell_type": "markdown",
   "metadata": {},
   "source": [
    "Create a list which contains the numbers from 0 to 10. Square the list elementwise using numpy functions."
   ]
  },
  {
   "cell_type": "code",
   "execution_count": 34,
   "metadata": {},
   "outputs": [
    {
     "name": "stdout",
     "output_type": "stream",
     "text": [
      "[  0   1   4   9  16  25  36  49  64  81 100]\n"
     ]
    }
   ],
   "source": [
    "list = [0, 1, 2, 3, 4, 5, 6, 7, 8, 9, 10]\n",
    "\n",
    "# square the list elementwise using numpy functions\n",
    "\n",
    "squared_list = np.array(list) ** 2\n",
    "print(squared_list) # Note that with the print function, there will be NO commas between elements. If I just call the array w/out print functino, there will be ommas."
   ]
  },
  {
   "cell_type": "markdown",
   "metadata": {},
   "source": [
    "Create a numpy array of size 10x10 which has random numbers between 0 and 100 on the main diagonal and zeros otherwise."
   ]
  },
  {
   "cell_type": "code",
   "execution_count": 59,
   "metadata": {},
   "outputs": [
    {
     "name": "stdout",
     "output_type": "stream",
     "text": [
      "[[1 0 0 0 0 0 0 0 0 0]\n",
      " [0 1 0 0 0 0 0 0 0 0]\n",
      " [0 0 1 0 0 0 0 0 0 0]\n",
      " [0 0 0 1 0 0 0 0 0 0]\n",
      " [0 0 0 0 1 0 0 0 0 0]\n",
      " [0 0 0 0 0 1 0 0 0 0]\n",
      " [0 0 0 0 0 0 1 0 0 0]\n",
      " [0 0 0 0 0 0 0 1 0 0]\n",
      " [0 0 0 0 0 0 0 0 1 0]\n",
      " [0 0 0 0 0 0 0 0 0 1]]\n",
      "[[0.95448693 0.50626755 0.07809648 0.50614051 0.72771652 0.77918685\n",
      "  0.54736245 0.64847183 0.25788859 0.00385945]\n",
      " [0.06604196 0.77532914 0.22802285 0.11329636 0.5290534  0.00151918\n",
      "  0.41460499 0.57724335 0.94071677 0.16144809]\n",
      " [0.61817119 0.08790503 0.99366757 0.77214646 0.04900249 0.92132639\n",
      "  0.34934499 0.4651236  0.99023446 0.77320968]\n",
      " [0.65921607 0.95651647 0.44759513 0.23915334 0.85201024 0.26659818\n",
      "  0.29667263 0.66542379 0.80407433 0.09544535]\n",
      " [0.68873629 0.55707637 0.62138205 0.36099956 0.50734673 0.47641637\n",
      "  0.0453901  0.41763613 0.25346138 0.99796073]\n",
      " [0.86186836 0.13899277 0.1291285  0.43119664 0.34189004 0.00465004\n",
      "  0.57050116 0.17710631 0.40284154 0.79564035]\n",
      " [0.52074073 0.47109398 0.53396574 0.48228646 0.38296427 0.13945838\n",
      "  0.77622077 0.80793729 0.12091854 0.10595938]\n",
      " [0.47712886 0.66649695 0.99316477 0.65164212 0.56167876 0.15297115\n",
      "  0.45587385 0.70173162 0.33811242 0.22870048]\n",
      " [0.75889986 0.25809092 0.77150761 0.23900523 0.60221033 0.96259415\n",
      "  0.90181032 0.22325422 0.85980872 0.37903851]\n",
      " [0.65271526 0.00195915 0.97712527 0.556376   0.87126947 0.54552551\n",
      "  0.62601534 0.76861748 0.27898626 0.49945197]]\n",
      "[[95.44869257  0.          0.          0.          0.          0.\n",
      "   0.          0.          0.          0.        ]\n",
      " [ 0.         77.5329145   0.          0.          0.          0.\n",
      "   0.          0.          0.          0.        ]\n",
      " [ 0.          0.         99.36675716  0.          0.          0.\n",
      "   0.          0.          0.          0.        ]\n",
      " [ 0.          0.          0.         23.91533438  0.          0.\n",
      "   0.          0.          0.          0.        ]\n",
      " [ 0.          0.          0.          0.         50.73467339  0.\n",
      "   0.          0.          0.          0.        ]\n",
      " [ 0.          0.          0.          0.          0.          0.4650036\n",
      "   0.          0.          0.          0.        ]\n",
      " [ 0.          0.          0.          0.          0.          0.\n",
      "  77.62207654  0.          0.          0.        ]\n",
      " [ 0.          0.          0.          0.          0.          0.\n",
      "   0.         70.17316156  0.          0.        ]\n",
      " [ 0.          0.          0.          0.          0.          0.\n",
      "   0.          0.         85.98087188  0.        ]\n",
      " [ 0.          0.          0.          0.          0.          0.\n",
      "   0.          0.          0.         49.94519719]]\n"
     ]
    }
   ],
   "source": [
    "array1 = np.full((10,10), 0)\n",
    "\n",
    "np.fill_diagonal(array1,1)\n",
    "print(array1)\n",
    "\n",
    "x = np.random.random((10,10))\n",
    "print(x)\n",
    "\n",
    "result = array1 * (x*100)\n",
    "print(result)\n",
    "\n",
    "\n",
    "# NOTE: there is a numpy function for an identity matrix (which has 1 on the diagonal and zero everywhere else!)\n",
    "\n",
    "# you can generate an array with random # from 0 to 100 and MULTIPLY it by an identity matrix, because only the 1s change if multiplied"
   ]
  },
  {
   "cell_type": "code",
   "execution_count": null,
   "metadata": {},
   "outputs": [],
   "source": []
  }
 ],
 "metadata": {
  "kernelspec": {
   "display_name": "Python 3",
   "language": "python",
   "name": "python3"
  },
  "language_info": {
   "codemirror_mode": {
    "name": "ipython",
    "version": 3
   },
   "file_extension": ".py",
   "mimetype": "text/x-python",
   "name": "python",
   "nbconvert_exporter": "python",
   "pygments_lexer": "ipython3",
   "version": "3.8.3"
  }
 },
 "nbformat": 4,
 "nbformat_minor": 2
}

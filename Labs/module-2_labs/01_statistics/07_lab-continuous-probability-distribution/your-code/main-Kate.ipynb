{
 "cells": [
  {
   "cell_type": "markdown",
   "metadata": {},
   "source": [
    "# Before your start:\n",
    "\n",
    "    Read the README.md file\n",
    "    Comment as much as you can and use the resources (README.md file)\n",
    "    Happy learning!"
   ]
  },
  {
   "cell_type": "markdown",
   "metadata": {},
   "source": [
    "In this exercise, we  will generate random numbers from the continuous disributions we learned in the lesson. There are two ways to generate random numbers:\n",
    "\n",
    "1. Using the numpy library \n",
    "1. using the Scipy library \n",
    "\n",
    "Use either or both of the lbraries in this exercise."
   ]
  },
  {
   "cell_type": "code",
   "execution_count": 1,
   "metadata": {},
   "outputs": [],
   "source": [
    "import numpy as np\n",
    "import scipy\n",
    "import matplotlib.pyplot as plt\n",
    "import pandas as pd"
   ]
  },
  {
   "cell_type": "markdown",
   "metadata": {},
   "source": [
    "## Uniform Distribution\n",
    "\n",
    "To generate uniform random numbers between any two given values using scipy, we can either use the following code or the code that we have\n",
    "discussed in class:"
   ]
  },
  {
   "cell_type": "code",
   "execution_count": 2,
   "metadata": {},
   "outputs": [
    {
     "name": "stdout",
     "output_type": "stream",
     "text": [
      "[2.98822851 2.92558944 2.82715664 2.80326732 2.7374483  2.97698281\n",
      " 2.86793435 2.47347876 2.18488149 2.17922502]\n"
     ]
    }
   ],
   "source": [
    "from scipy.stats import uniform\n",
    "x = uniform.rvs(size=10)\n",
    "a = 2\n",
    "b = 3\n",
    "randoms  = a + (b-a)*x\n",
    "print(randoms)"
   ]
  },
  {
   "cell_type": "markdown",
   "metadata": {},
   "source": [
    "**Your task:**\n",
    "\n",
    "1. Based on the code above, write a function that generates uniformly distributed random numbers. There are several requirements for your function:\n",
    "    * It should accept 3 parameters: \n",
    "        * `bottom` - the lower boundary of the generated numbers\n",
    "        * `ceiling` - the upper boundary of the generated numbers\n",
    "        * `count` - how many numbers to generate\n",
    "    * It should return an array of uniformly distributed random numbers\n",
    "\n",
    "1. Call your function with 2 sets of params below:\n",
    "    * bottom=10, ceiling=15, count=100\n",
    "    * bottom=10, ceiling=60, count=1,000\n",
    "\n",
    "1. Plot the uniform distributions generated above using histograms, where x axis is the value and y axis is the count. Let the histogram's number of bins be 10.\n",
    "\n",
    "Your output should look like below:\n",
    "\n",
    "![uniform distribution](ud.png)"
   ]
  },
  {
   "cell_type": "code",
   "execution_count": 3,
   "metadata": {},
   "outputs": [
    {
     "data": {
      "image/png": "[encoded data removed]",
      "text/plain": [
       "<Figure size 432x288 with 1 Axes>"
      ]
     },
     "metadata": {
      "needs_background": "light"
     },
     "output_type": "display_data"
    },
    {
     "data": {
      "image/png": "[encoded data removed]",
      "text/plain": [
       "<Figure size 432x288 with 1 Axes>"
      ]
     },
     "metadata": {
      "needs_background": "light"
     },
     "output_type": "display_data"
    }
   ],
   "source": [
    "# your code here\n",
    "\n",
    "def uniform_dist(x, y, z):\n",
    "    cuni = uniform(x, (y-x))\n",
    "    numrange = np.linspace((x-2), ((y-x)+2), z)\n",
    "    X = cuni.rvs(size=z)\n",
    "    plt.ylim(0, 120)\n",
    "    plt.hist(X, bins=10)\n",
    "    plt.show()\n",
    "\n",
    "\n",
    "uniform_dist(10, 15, 100) \n",
    "uniform_dist(10, 60, 1000)\n",
    "\n",
    "\n",
    "# # fig, ax = plt.subplots(1, 2, 1)\n",
    "# plt.subplot(221)\n",
    "# plt.sublot(ax1)\n",
    "# plt.subplot(ax2)\n",
    "# plt.show()\n",
    "# note: to use subplots:\n",
    "# fig, ax = plt.subplots(1, 2, 1)\n",
    "# you need to move it outside of the function"
   ]
  },
  {
   "cell_type": "markdown",
   "metadata": {},
   "source": [
    "How are the two distributions different?"
   ]
  },
  {
   "cell_type": "code",
   "execution_count": 4,
   "metadata": {},
   "outputs": [],
   "source": [
    "# your answer below\n",
    "# The area under the curve of the second histogram is significantly greater, because there is a higher probability that the number would fall within a larger range???"
   ]
  },
  {
   "cell_type": "markdown",
   "metadata": {},
   "source": [
    "#### Bonus Challenge:\n",
    "\n",
    "Repeat the exercise and write a function that used the syntax we have seen in class (where a and b are integrated into generating the uniform distribution directly!)"
   ]
  },
  {
   "cell_type": "code",
   "execution_count": 5,
   "metadata": {},
   "outputs": [],
   "source": [
    "# your code here"
   ]
  },
  {
   "cell_type": "markdown",
   "metadata": {},
   "source": [
    "## Normal Distribution\n",
    "\n",
    "1. In the same way in the Uniform Distribution challenge, write a function that generates normally distributed random numbers.\n",
    "1. Generate 1,000 normally distributed numbers with the average of 10 and standard deviation of 1\n",
    "1. Generate 1,000 normally distributed numbers with the average of 10 and standard deviation of 50\n",
    "2. Plot the distributions of the data generated.\n",
    "\n",
    "Expected output:\n",
    "\n",
    "![normal distribution](nd.png)"
   ]
  },
  {
   "cell_type": "code",
   "execution_count": 6,
   "metadata": {},
   "outputs": [
    {
     "data": {
      "image/png": "[encoded data removed]",
      "text/plain": [
       "<Figure size 432x288 with 1 Axes>"
      ]
     },
     "metadata": {
      "needs_background": "light"
     },
     "output_type": "display_data"
    },
    {
     "data": {
      "image/png": "[encoded data removed]",
      "text/plain": [
       "<Figure size 432x288 with 1 Axes>"
      ]
     },
     "metadata": {
      "needs_background": "light"
     },
     "output_type": "display_data"
    }
   ],
   "source": [
    "# your code here\n",
    "from scipy.stats import norm\n",
    "\n",
    "def normal_dist(m, std):\n",
    "    normal = norm(m, std)\n",
    "    numrange = np.linspace(0, 10, 1000)\n",
    "    X = normal.rvs(2000)\n",
    "    plt.hist(X, bins=100)\n",
    "    plt.show()\n",
    "    \n",
    "normal_dist(10, 1)\n",
    "normal_dist(10, 50)"
   ]
  },
  {
   "cell_type": "markdown",
   "metadata": {},
   "source": [
    "How are the two distributions different?"
   ]
  },
  {
   "cell_type": "code",
   "execution_count": 7,
   "metadata": {},
   "outputs": [],
   "source": [
    "# your answer below\n",
    "# The distribution with standard deviation of 50 has observations from a signficiantly wider range of numbers (-150, 150) compared to (5,15)"
   ]
  },
  {
   "cell_type": "markdown",
   "metadata": {},
   "source": [
    "## Normal Distribution of Real Data\n",
    "\n",
    "In this challenge we are going to take a look the real data. We will use vehicles.csv file for this exercise"
   ]
  },
  {
   "cell_type": "markdown",
   "metadata": {},
   "source": [
    "First import vehicles.csv.\n",
    "Then plot the histograms for the following variables:\n",
    "\n",
    "1. Fuel Barrels/Year"
   ]
  },
  {
   "cell_type": "code",
   "execution_count": 8,
   "metadata": {},
   "outputs": [
    {
     "data": {
      "text/plain": [
       "array([[<matplotlib.axes._subplots.AxesSubplot object at 0x11a2506d0>]],\n",
       "      dtype=object)"
      ]
     },
     "execution_count": 8,
     "metadata": {},
     "output_type": "execute_result"
    },
    {
     "data": {
      "image/png": "[encoded data removed]",
      "text/plain": [
       "<Figure size 432x288 with 1 Axes>"
      ]
     },
     "metadata": {
      "needs_background": "light"
     },
     "output_type": "display_data"
    }
   ],
   "source": [
    "# your code here\n",
    "data = pd.read_csv('vehicles.csv')\n",
    "\n",
    "data.hist('Fuel Barrels/Year', bins=20)\n"
   ]
  },
  {
   "cell_type": "markdown",
   "metadata": {},
   "source": [
    "2. CO2 Emission Grams/Mile "
   ]
  },
  {
   "cell_type": "code",
   "execution_count": 9,
   "metadata": {},
   "outputs": [
    {
     "data": {
      "text/plain": [
       "array([[<matplotlib.axes._subplots.AxesSubplot object at 0x11a654520>]],\n",
       "      dtype=object)"
      ]
     },
     "execution_count": 9,
     "metadata": {},
     "output_type": "execute_result"
    },
    {
     "data": {
      "image/png": "[encoded data removed]",
      "text/plain": [
       "<Figure size 432x288 with 1 Axes>"
      ]
     },
     "metadata": {
      "needs_background": "light"
     },
     "output_type": "display_data"
    }
   ],
   "source": [
    "# your code here\n",
    "\n",
    "data.hist('CO2 Emission Grams/Mile', bins=20)"
   ]
  },
  {
   "cell_type": "markdown",
   "metadata": {},
   "source": [
    "3. Combined MPG"
   ]
  },
  {
   "cell_type": "code",
   "execution_count": 10,
   "metadata": {},
   "outputs": [
    {
     "data": {
      "text/plain": [
       "array([[<matplotlib.axes._subplots.AxesSubplot object at 0x11a4e6190>]],\n",
       "      dtype=object)"
      ]
     },
     "execution_count": 10,
     "metadata": {},
     "output_type": "execute_result"
    },
    {
     "data": {
      "image/png": "[encoded data removed]",
      "text/plain": [
       "<Figure size 432x288 with 1 Axes>"
      ]
     },
     "metadata": {
      "needs_background": "light"
     },
     "output_type": "display_data"
    }
   ],
   "source": [
    "# your code here\n",
    "\n",
    "data.hist('Combined MPG', bins=20)"
   ]
  },
  {
   "cell_type": "markdown",
   "metadata": {},
   "source": [
    "Which one(s) of the variables are nearly normally distributed? How do you know?"
   ]
  },
  {
   "cell_type": "code",
   "execution_count": 11,
   "metadata": {},
   "outputs": [],
   "source": [
    "# your answer here\n",
    "# The histogram of'Fuel Barrels/Year' appears to be the most normally distributed just from looking at it"
   ]
  },
  {
   "cell_type": "markdown",
   "metadata": {},
   "source": [
    "## Exponential Distribution"
   ]
  },
  {
   "cell_type": "markdown",
   "metadata": {},
   "source": [
    "Create a function that returns a list of 1000 numbers exponentially distributed with the mean of 10. Then plot the distribution as a histogram with the nubmer of bins as 100.\n",
    "\n",
    "Hint: the exponential distribution takes two inputs: location and scale. The location parameter will be zero, and the scale parameter is related to the mean - read up on it!"
   ]
  },
  {
   "cell_type": "markdown",
   "metadata": {},
   "source": [
    "From Stackoverflow: https://stackoverflow.com/questions/59676797/plotting-exponential-with-mean\n",
    "From https://docs.scipy.org/doc/scipy/reference/generated/scipy.stats.expon.html you find that to shift and scale you can use `expon.pdf(x, loc, scale)`, with `loc` being the location and `scale` the inverse of lambda. scale also corresponds to the mean, since the mean of an exponential distribution is `1/lambda`."
   ]
  },
  {
   "cell_type": "code",
   "execution_count": 17,
   "metadata": {},
   "outputs": [
    {
     "data": {
      "image/png": "[encoded data removed]",
      "text/plain": [
       "<Figure size 432x288 with 1 Axes>"
      ]
     },
     "metadata": {
      "needs_background": "light"
     },
     "output_type": "display_data"
    },
    {
     "data": {
      "text/plain": [
       "array([0.08464929, 0.03754991, 0.02753077, 0.00332234, 0.06970478,\n",
       "       0.08597601, 0.09560033, 0.07482827, 0.02387646, 0.0488169 ,\n",
       "       0.06832969, 0.06876112, 0.07238407, 0.09874939, 0.05285721,\n",
       "       0.04363911, 0.04389926, 0.06426475, 0.08089825, 0.0727288 ,\n",
       "       0.02611076, 0.02555779, 0.09530802, 0.08368405, 0.04005579,\n",
       "       0.08900788, 0.04268715, 0.02892158, 0.05377312, 0.08225893,\n",
       "       0.06827443, 0.04941535, 0.01821625, 0.00144583, 0.04356971,\n",
       "       0.02371884, 0.07609349, 0.04861966, 0.08954833, 0.01595552,\n",
       "       0.06202775, 0.02957192, 0.03590686, 0.01450121, 0.0591195 ,\n",
       "       0.08677039, 0.08267574, 0.09783126, 0.09763315, 0.04330137,\n",
       "       0.04951373, 0.00895067, 0.08268484, 0.0416944 , 0.02452884,\n",
       "       0.05379308, 0.07794619, 0.08303698, 0.04736142, 0.09077664,\n",
       "       0.06221069, 0.01930649, 0.06267799, 0.05459041, 0.06393467,\n",
       "       0.06662376, 0.03320708, 0.07723125, 0.01335365, 0.07307408,\n",
       "       0.03638846, 0.09869006, 0.02396847, 0.0923029 , 0.08363235,\n",
       "       0.08976452, 0.05757942, 0.08507181, 0.06368727, 0.00576146,\n",
       "       0.087466  , 0.07860455, 0.03318257, 0.09118149, 0.03098653,\n",
       "       0.01256037, 0.09128257, 0.09960226, 0.09278332, 0.09631266,\n",
       "       0.08638456, 0.04103068, 0.08166796, 0.09481825, 0.09860616,\n",
       "       0.05830647, 0.08529405, 0.04984393, 0.0192529 , 0.02744222,\n",
       "       0.08854662, 0.0747266 , 0.01630874, 0.03420262, 0.00694174,\n",
       "       0.08187577, 0.05109668, 0.0337629 , 0.02111845, 0.05274548,\n",
       "       0.01026189, 0.07118323, 0.02291642, 0.08171934, 0.08382819,\n",
       "       0.01009992, 0.01623609, 0.04364436, 0.09440721, 0.05133481,\n",
       "       0.03680756, 0.07396064, 0.05969719, 0.06733811, 0.08076568,\n",
       "       0.03103657, 0.01493231, 0.02275355, 0.0113116 , 0.03349148,\n",
       "       0.07377441, 0.06819228, 0.04911011, 0.06287257, 0.07781401,\n",
       "       0.07722873, 0.04487532, 0.08746269, 0.08598112, 0.04512145,\n",
       "       0.05606354, 0.02246265, 0.02101431, 0.01892954, 0.08179372,\n",
       "       0.04233128, 0.04166375, 0.07415828, 0.02419498, 0.05140762,\n",
       "       0.05681087, 0.09106459, 0.03199337, 0.08288284, 0.09765947,\n",
       "       0.09694093, 0.09572256, 0.04595454, 0.03646847, 0.0734878 ,\n",
       "       0.04724603, 0.03007103, 0.07374457, 0.00136697, 0.08930328,\n",
       "       0.04991302, 0.00463891, 0.01524688, 0.03604065, 0.06932563,\n",
       "       0.03843068, 0.05112218, 0.00678318, 0.01187336, 0.00492825,\n",
       "       0.00374855, 0.01734575, 0.09383175, 0.05003665, 0.01694442,\n",
       "       0.08936956, 0.01611788, 0.04411023, 0.09226338, 0.03936857,\n",
       "       0.06806854, 0.0396729 , 0.01315071, 0.07932343, 0.04723418,\n",
       "       0.08844972, 0.0917302 , 0.07199808, 0.05840559, 0.03935122,\n",
       "       0.04934183, 0.07584894, 0.07631928, 0.0351847 , 0.00017371,\n",
       "       0.01552292, 0.04019493, 0.04552822, 0.06411501, 0.07720078,\n",
       "       0.08952278, 0.03911461, 0.09338232, 0.09790466, 0.06524255,\n",
       "       0.00365638, 0.03893928, 0.07214544, 0.05931976, 0.06497813,\n",
       "       0.01697637, 0.0420577 , 0.06074319, 0.00504274, 0.07955895,\n",
       "       0.08579487, 0.02279362, 0.06209106, 0.09285014, 0.06739093,\n",
       "       0.01580473, 0.03378594, 0.09132886, 0.04744778, 0.04572482,\n",
       "       0.02041626, 0.00669023, 0.08290422, 0.06330643, 0.05568639,\n",
       "       0.03805022, 0.02661257, 0.00405801, 0.08476239, 0.08041981,\n",
       "       0.07281949, 0.05778215, 0.06618429, 0.09484041, 0.09380948,\n",
       "       0.08253064, 0.06643625, 0.01383784, 0.08407647, 0.04684868,\n",
       "       0.08215104, 0.03216914, 0.02030715, 0.05304262, 0.08338581,\n",
       "       0.05669662, 0.08818877, 0.08573027, 0.02770741, 0.06229856,\n",
       "       0.08484434, 0.05396358, 0.07211877, 0.08741215, 0.0738298 ,\n",
       "       0.09765663, 0.09076299, 0.01378109, 0.02158258, 0.02336384,\n",
       "       0.04550557, 0.00051542, 0.06621015, 0.06313103, 0.09684724,\n",
       "       0.09296834, 0.07863049, 0.00338728, 0.06151279, 0.01449233,\n",
       "       0.00562424, 0.00763723, 0.07820442, 0.08850568, 0.07294346,\n",
       "       0.03299408, 0.05417125, 0.04084672, 0.07685012, 0.02303637,\n",
       "       0.0073443 , 0.01921918, 0.09105154, 0.05342885, 0.03527326,\n",
       "       0.04780845, 0.09668145, 0.05745743, 0.03832939, 0.09076742,\n",
       "       0.07716906, 0.06851983, 0.03341579, 0.00627454, 0.05193793,\n",
       "       0.01657996, 0.03848974, 0.03648856, 0.07999662, 0.04812444,\n",
       "       0.07605324, 0.06217856, 0.06541449, 0.0484518 , 0.01515351,\n",
       "       0.01180687, 0.05964008, 0.06904195, 0.02451805, 0.002432  ,\n",
       "       0.04360529, 0.04286585, 0.05533873, 0.08187334, 0.05012633,\n",
       "       0.08380164, 0.05508252, 0.09942727, 0.01616039, 0.0913031 ,\n",
       "       0.00704015, 0.00949339, 0.03325757, 0.0938482 , 0.02221843,\n",
       "       0.01068325, 0.04388738, 0.0170053 , 0.00497918, 0.09967119,\n",
       "       0.06238293, 0.03807879, 0.05578551, 0.00441907, 0.06410304,\n",
       "       0.09110763, 0.00380716, 0.03656947, 0.03086751, 0.05744096,\n",
       "       0.09315149, 0.03372325, 0.02691914, 0.0269458 , 0.01532036,\n",
       "       0.00176638, 0.03928365, 0.06444957, 0.04099251, 0.08430147,\n",
       "       0.0483469 , 0.06298713, 0.09118213, 0.04915698, 0.05749999,\n",
       "       0.05398755, 0.09895194, 0.00684757, 0.03967425, 0.05377906,\n",
       "       0.07729409, 0.06895254, 0.02067397, 0.0772154 , 0.01314311,\n",
       "       0.07386927, 0.08127125, 0.03579227, 0.00030955, 0.00237303,\n",
       "       0.05314133, 0.045797  , 0.06907062, 0.03395811, 0.05094986,\n",
       "       0.08504129, 0.06762439, 0.04097132, 0.00188059, 0.06762377,\n",
       "       0.09733763, 0.09548375, 0.07802417, 0.01022351, 0.01924675,\n",
       "       0.07261233, 0.06354997, 0.04042074, 0.00528507, 0.0086944 ,\n",
       "       0.03395842, 0.00136919, 0.01800286, 0.00143158, 0.02667019,\n",
       "       0.02858639, 0.09595991, 0.04898139, 0.09482046, 0.06320338,\n",
       "       0.00517874, 0.08808126, 0.08678382, 0.00268198, 0.07471756,\n",
       "       0.0214761 , 0.09493312, 0.01411568, 0.09093072, 0.06399237,\n",
       "       0.07418329, 0.06781817, 0.05242715, 0.08191501, 0.06222021,\n",
       "       0.05098119, 0.05508725, 0.08420444, 0.08065587, 0.05611901,\n",
       "       0.0315117 , 0.0871148 , 0.09101955, 0.03566482, 0.05795966,\n",
       "       0.09226193, 0.00232159, 0.05118123, 0.09478717, 0.06393808,\n",
       "       0.06949286, 0.02969558, 0.03340393, 0.02450997, 0.0199653 ,\n",
       "       0.06814428, 0.06155375, 0.02294158, 0.08651605, 0.09084995,\n",
       "       0.00959611, 0.04172305, 0.05246632, 0.04672136, 0.01293873,\n",
       "       0.05347921, 0.01599791, 0.06838302, 0.05819894, 0.03255829,\n",
       "       0.0022035 , 0.0387367 , 0.0049747 , 0.06009644, 0.0314626 ,\n",
       "       0.0038508 , 0.09602574, 0.08100335, 0.05269469, 0.07742905,\n",
       "       0.09272527, 0.06746765, 0.06040609, 0.04710632, 0.02895214,\n",
       "       0.03710134, 0.019105  , 0.05317815, 0.00012118, 0.05528179,\n",
       "       0.04801763, 0.01452415, 0.02879397, 0.05497594, 0.01564404,\n",
       "       0.07993787, 0.09588854, 0.08016677, 0.0904935 , 0.03603317,\n",
       "       0.0893017 , 0.03956487, 0.02092668, 0.04275909, 0.06086199,\n",
       "       0.06824587, 0.02485046, 0.05261868, 0.03603994, 0.08481057,\n",
       "       0.0298304 , 0.01480376, 0.02752187, 0.07074512, 0.06917786,\n",
       "       0.04071741, 0.0987896 , 0.04384052, 0.01978972, 0.01220464,\n",
       "       0.08471241, 0.02694817, 0.07958149, 0.05590923, 0.09129073,\n",
       "       0.02077527, 0.07238339, 0.05509773, 0.02994059, 0.09540728,\n",
       "       0.083609  , 0.00558651, 0.0015604 , 0.05622585, 0.04079225,\n",
       "       0.05968048, 0.06736704, 0.04492574, 0.07019043, 0.01707668,\n",
       "       0.02960068, 0.09992662, 0.06527463, 0.03507925, 0.07570772,\n",
       "       0.06780545, 0.09114975, 0.02791924, 0.06914066, 0.06692828,\n",
       "       0.0617355 , 0.06250968, 0.02356415, 0.0953989 , 0.08962594,\n",
       "       0.02446067, 0.02520794, 0.00934611, 0.09829758, 0.06233111,\n",
       "       0.02678582, 0.05011311, 0.0396673 , 0.01409999, 0.01983654,\n",
       "       0.04907683, 0.0568594 , 0.0174265 , 0.02427138, 0.06260011,\n",
       "       0.02334649, 0.09616337, 0.07220759, 0.01694238, 0.0479344 ,\n",
       "       0.07536699, 0.05173724, 0.07249921, 0.08760819, 0.06494379,\n",
       "       0.06784941, 0.01138692, 0.0237197 , 0.00381303, 0.00809196,\n",
       "       0.09113236, 0.04281932, 0.05160595, 0.05675651, 0.05715005,\n",
       "       0.01969312, 0.05246147, 0.08848354, 0.0998978 , 0.0866103 ,\n",
       "       0.03801388, 0.06036679, 0.02370426, 0.06610237, 0.02693708,\n",
       "       0.07774814, 0.08653236, 0.0105893 , 0.06592275, 0.09344866,\n",
       "       0.06644102, 0.06217639, 0.03246152, 0.05364909, 0.01260435,\n",
       "       0.08524201, 0.01311364, 0.07105306, 0.09015696, 0.00752046,\n",
       "       0.07935645, 0.00298548, 0.08587717, 0.05151698, 0.00167391,\n",
       "       0.09576269, 0.06343623, 0.03120954, 0.05242067, 0.0782418 ,\n",
       "       0.02923065, 0.07234958, 0.02413209, 0.00111419, 0.08320711,\n",
       "       0.02552026, 0.05874505, 0.01245793, 0.06553697, 0.01852981,\n",
       "       0.09144199, 0.02162146, 0.081548  , 0.02766451, 0.07715442,\n",
       "       0.06422844, 0.03425118, 0.08457109, 0.06032874, 0.07334631,\n",
       "       0.04074617, 0.05006295, 0.09649706, 0.03536485, 0.05053022,\n",
       "       0.0217051 , 0.00444132, 0.09219342, 0.03289132, 0.07847512,\n",
       "       0.0634555 , 0.02314424, 0.07979631, 0.08326064, 0.07112783,\n",
       "       0.03557185, 0.07124665, 0.073439  , 0.0855024 , 0.00407083,\n",
       "       0.08403982, 0.03424766, 0.07569528, 0.05672718, 0.0818925 ,\n",
       "       0.08488017, 0.03975776, 0.07332127, 0.0897138 , 0.07713662,\n",
       "       0.09908406, 0.03446556, 0.0278277 , 0.083063  , 0.08753322,\n",
       "       0.07656841, 0.00533126, 0.08370494, 0.06145656, 0.07762801,\n",
       "       0.02596128, 0.0780498 , 0.05245806, 0.04699874, 0.04463677,\n",
       "       0.08359883, 0.02049464, 0.00058053, 0.08870994, 0.06440191,\n",
       "       0.02207592, 0.07759778, 0.07754305, 0.01203871, 0.0573568 ,\n",
       "       0.00151042, 0.01702609, 0.00831129, 0.03204738, 0.03872182,\n",
       "       0.04399683, 0.03163422, 0.01924193, 0.00109537, 0.09866335,\n",
       "       0.02622033, 0.07135816, 0.07389384, 0.06236438, 0.09532874,\n",
       "       0.04722665, 0.08865004, 0.03007386, 0.03518763, 0.07120333,\n",
       "       0.08853367, 0.07936322, 0.04894105, 0.07095721, 0.02898899,\n",
       "       0.04485931, 0.05099829, 0.07020465, 0.00553012, 0.05510459,\n",
       "       0.03714983, 0.05842552, 0.09166719, 0.06122365, 0.02161906,\n",
       "       0.00647938, 0.06405036, 0.03249937, 0.05790067, 0.08268828,\n",
       "       0.01039387, 0.05819183, 0.03076473, 0.0386911 , 0.04797074,\n",
       "       0.05675054, 0.05043346, 0.07053355, 0.02070527, 0.0274552 ,\n",
       "       0.01317342, 0.04454944, 0.01911737, 0.03942547, 0.07049728,\n",
       "       0.0939499 , 0.02398943, 0.01593453, 0.0675639 , 0.07422548,\n",
       "       0.02243964, 0.07421311, 0.0966991 , 0.03533751, 0.06382981,\n",
       "       0.08914165, 0.02312835, 0.01765432, 0.0679976 , 0.04860828,\n",
       "       0.02598616, 0.01478029, 0.0239235 , 0.0792723 , 0.0970928 ,\n",
       "       0.00975171, 0.08743948, 0.07510349, 0.02770203, 0.09488112,\n",
       "       0.05156193, 0.09492017, 0.07513018, 0.01788574, 0.06609744,\n",
       "       0.04423999, 0.04568142, 0.08472563, 0.07234426, 0.0764701 ,\n",
       "       0.00809595, 0.01774683, 0.06836862, 0.03017378, 0.02443817,\n",
       "       0.00819284, 0.03619949, 0.07887255, 0.04434655, 0.06449093,\n",
       "       0.04271183, 0.00503443, 0.00227406, 0.07562333, 0.05066867,\n",
       "       0.0606549 , 0.00612197, 0.01909022, 0.00344746, 0.05966618,\n",
       "       0.0739004 , 0.00985112, 0.04736698, 0.03384777, 0.0931859 ,\n",
       "       0.03529014, 0.06825335, 0.06122547, 0.05940454, 0.01248603,\n",
       "       0.04212432, 0.08004959, 0.09656958, 0.08255089, 0.0230983 ,\n",
       "       0.08631867, 0.06679627, 0.02899373, 0.01898559, 0.01546242,\n",
       "       0.04690027, 0.0641922 , 0.07743012, 0.07433434, 0.00600674,\n",
       "       0.08751121, 0.07918656, 0.02486286, 0.05368273, 0.02560781,\n",
       "       0.0140634 , 0.03000793, 0.08776952, 0.03392965, 0.0751585 ,\n",
       "       0.0444556 , 0.0233919 , 0.0816642 , 0.04497757, 0.05203797,\n",
       "       0.02618846, 0.0267672 , 0.04599168, 0.05736934, 0.0433186 ,\n",
       "       0.01250292, 0.06057957, 0.046222  , 0.05270986, 0.03927379,\n",
       "       0.02439853, 0.01302387, 0.06106471, 0.074415  , 0.02375051,\n",
       "       0.07224571, 0.06140851, 0.08092494, 0.07500989, 0.08829004,\n",
       "       0.04986546, 0.03451889, 0.019641  , 0.07500612, 0.06320826,\n",
       "       0.06970902, 0.02114032, 0.09446297, 0.09560345, 0.07634921,\n",
       "       0.08791928, 0.08995254, 0.07776023, 0.01827173, 0.09391354,\n",
       "       0.07484555, 0.06377513, 0.08038932, 0.08787023, 0.05873986,\n",
       "       0.01368267, 0.09294823, 0.05214238, 0.04186364, 0.06552724,\n",
       "       0.05959351, 0.06230544, 0.05824806, 0.03144696, 0.09386053,\n",
       "       0.08336837, 0.04810032, 0.08095732, 0.06083322, 0.08129929,\n",
       "       0.09877872, 0.09436201, 0.00364855, 0.00731528, 0.04662179,\n",
       "       0.04036082, 0.09038654, 0.02797191, 0.0876334 , 0.07673963,\n",
       "       0.07813273, 0.02855999, 0.02900026, 0.04581331, 0.02746573,\n",
       "       0.0322746 , 0.0684903 , 0.00386747, 0.02795978, 0.02934474,\n",
       "       0.01038541, 0.07391851, 0.01195113, 0.00245767, 0.08140509,\n",
       "       0.0567319 , 0.02958056, 0.02420331, 0.04784712, 0.0273477 ,\n",
       "       0.00163871, 0.0835219 , 0.08843898, 0.05588776, 0.01641769,\n",
       "       0.00913099, 0.01616266, 0.09316447, 0.08103272, 0.00600631,\n",
       "       0.06674171, 0.0556979 , 0.0438178 , 0.0963405 , 0.02307184,\n",
       "       0.04349612, 0.05807946, 0.02145333, 0.09157767, 0.02585486,\n",
       "       0.00778563, 0.03954116, 0.07258102, 0.03160377, 0.05895544,\n",
       "       0.03737981, 0.00872231, 0.04519153, 0.05335813, 0.04115263,\n",
       "       0.01755582, 0.07263247, 0.0590572 , 0.05162382, 0.05766514,\n",
       "       0.06081733, 0.06781579, 0.01591054, 0.05954894, 0.06734152,\n",
       "       0.09151192, 0.01312477, 0.08667737, 0.07768732, 0.05665898,\n",
       "       0.01501771, 0.02051137, 0.09136027, 0.04565001, 0.08965682,\n",
       "       0.03869983, 0.01572064, 0.05623171, 0.06647579, 0.00535633,\n",
       "       0.06058259, 0.06594933, 0.0923188 , 0.00380017, 0.02400595,\n",
       "       0.08582511, 0.08037502, 0.0872136 , 0.07390503, 0.05176508,\n",
       "       0.02755634, 0.05639038, 0.066861  , 0.06851616, 0.08331048,\n",
       "       0.03703652, 0.07871292, 0.01158598, 0.09093197, 0.02622358])"
      ]
     },
     "execution_count": 17,
     "metadata": {},
     "output_type": "execute_result"
    }
   ],
   "source": [
    "# your code here\n",
    "from scipy.stats import expon\n",
    "\n",
    "def expon_dist(s):\n",
    "    x = scipy.stats.expon(scale=s).rvs(size=1000)\n",
    "    plt.hist(x, bins=100)\n",
    "    plt.show()\n",
    "   \n",
    "    \n",
    "expon_dist(10)\n",
    "x = scipy.stats.expon(scale=10).rvs(size=1000)\n",
    "expon.pdf(x, 0, 10)"
   ]
  },
  {
   "cell_type": "code",
   "execution_count": 18,
   "metadata": {},
   "outputs": [],
   "source": [
    "scipy.stats.expon?"
   ]
  },
  {
   "cell_type": "markdown",
   "metadata": {},
   "source": [
    "## Exponential Distribution of Real Data\n",
    "\n",
    "Suppose that the amount of time one spends in a bank is exponentially distributed with mean as 10 minutes (i.e. λ = 1/10). What is the probability that a customer will spend less than fifteen minutes in the bank? "
   ]
  },
  {
   "cell_type": "code",
   "execution_count": 19,
   "metadata": {},
   "outputs": [
    {
     "data": {
      "text/plain": [
       "array([2.08732393e-010, 2.33036889e-063, 1.40877140e-083, 2.46962429e-221,\n",
       "       4.62882677e-023, 2.15122695e-009, 1.75791211e-002, 1.93174423e-018,\n",
       "       7.44011051e-093, 2.89478942e-046, 2.33083331e-024, 5.99151685e-024,\n",
       "       1.32599610e-020, 2.27118234e+000, 4.38257283e-041, 1.43706448e-053,\n",
       "       3.50482227e-053, 2.35513101e-028, 2.32789566e-013, 2.70430119e-020,\n",
       "       5.00047005e-087, 2.01641418e-088, 1.11048203e-002, 3.73674465e-011,\n",
       "       3.76605707e-059, 3.89366419e-007, 5.25613827e-055, 2.28770728e-080,\n",
       "       5.76601227e-040, 2.84151300e-012, 2.06445238e-024, 1.80039499e-045,\n",
       "       1.75764180e-110, 1.56196042e-275, 1.13184774e-053, 2.75487378e-093,\n",
       "       2.38902149e-017, 1.57715402e-046, 9.65420517e-007, 4.09943217e-119,\n",
       "       1.15876687e-030, 6.42704785e-079, 2.83595341e-066, 2.43640357e-125,\n",
       "       8.62391215e-034, 8.54726774e-009, 6.06459968e-012, 5.59419505e-001,\n",
       "       4.12749035e-001, 4.48057630e-054, 2.42624782e-045, 9.00441517e-157,\n",
       "       6.16555502e-012, 1.54079821e-056, 4.24265725e-091, 6.09617527e-040,\n",
       "       8.81711307e-016, 1.16633507e-011, 3.08881785e-048, 7.45090129e-006,\n",
       "       1.80238812e-030, 1.07542805e-106, 5.53791163e-030, 5.54041735e-039,\n",
       "       1.08781843e-028, 5.25361289e-026, 2.29457860e-071, 2.21336116e-016,\n",
       "       1.03777086e-130, 5.50291681e-020, 2.09237445e-065, 2.07541506e+000,\n",
       "       1.32475482e-092, 9.08647363e-005, 3.40592472e-011, 1.38610874e-006,\n",
       "       1.64505136e-035, 4.40496363e-010, 6.08114369e-029, 1.80310256e-185,\n",
       "       2.83126884e-008, 3.11348865e-015, 2.05397884e-071, 1.45242554e-005,\n",
       "       7.11277662e-076, 1.06281939e-134, 1.71501156e-005, 8.25027363e+000,\n",
       "       1.97961564e-004, 5.35301519e-002, 4.38035153e-009, 1.38802184e-057,\n",
       "       9.63488341e-013, 5.12722769e-003, 1.82684034e+000, 1.08045469e-034,\n",
       "       6.51485594e-010, 6.57553100e-045, 7.08805804e-107, 8.68912027e-084,\n",
       "       1.78603454e-007, 1.57534776e-018, 1.09438252e-117, 1.92747949e-069,\n",
       "       2.49080691e-173, 1.41060133e-012, 2.72265061e-043, 2.76730859e-070,\n",
       "       7.50571007e-101, 3.19065948e-041, 7.24709858e-148, 1.07830308e-021,\n",
       "       1.57801019e-095, 1.05881801e-012, 4.83734132e-011, 6.66495690e-149,\n",
       "       5.60159391e-118, 1.46322154e-053, 2.67216576e-003, 5.46876028e-043,\n",
       "       1.16586870e-064, 3.35887107e-019, 3.70833026e-033, 2.60153748e-025,\n",
       "       1.82020331e-013, 9.06048993e-076, 1.97309414e-123, 5.41349374e-096,\n",
       "       1.60205155e-141, 8.24590548e-071, 2.30120775e-019, 1.72335077e-024,\n",
       "       7.10769701e-046, 8.81600265e-030, 6.83530131e-016, 2.20256525e-016,\n",
       "       9.48921452e-052, 2.81525717e-008, 2.17047781e-009, 2.15551475e-051,\n",
       "       3.00722160e-037, 7.85670415e-097, 3.57579134e-101, 5.58618021e-108,\n",
       "       1.21362482e-012, 1.49729381e-055, 1.37986697e-056, 5.01226706e-019,\n",
       "       5.43094911e-092, 6.76414099e-043, 2.19183421e-036, 1.19817965e-005,\n",
       "       8.61169365e-074, 8.82635534e-012, 4.29778680e-001, 1.41960096e-001,\n",
       "       2.12930926e-002, 3.35242268e-050, 2.90891066e-065, 1.28344542e-019,\n",
       "       2.14234902e-048, 7.91309611e-078, 2.16569715e-019, 3.46810176e-279,\n",
       "       6.40035848e-007, 8.09415562e-045, 1.37571025e-199, 4.50022818e-122,\n",
       "       4.95430782e-066, 2.04251257e-023, 7.54738845e-062, 2.93422960e-043,\n",
       "       7.78154998e-175, 2.30213839e-138, 1.20242624e-195, 1.80134624e-213,\n",
       "       1.13518483e-113, 1.06797936e-003, 1.17305696e-044, 3.38929554e-115,\n",
       "       7.15376508e-007, 1.87193161e-118, 7.19428502e-053, 8.52115429e-005,\n",
       "       2.80891567e-060, 1.31235915e-024, 8.91636547e-060, 1.04348373e-131,\n",
       "       1.21987628e-014, 2.06321864e-048, 1.51550992e-007, 3.57227763e-005,\n",
       "       5.94603235e-021, 1.39395534e-034, 2.62921716e-060, 1.44007305e-045,\n",
       "       1.47408577e-017, 3.72589764e-017, 1.34637491e-067, 0.00000000e+000,\n",
       "       6.63928581e-121, 6.33542263e-059, 8.28317812e-051, 1.65977661e-028,\n",
       "       2.08615834e-016, 9.24963813e-007, 1.06400783e-060, 5.19744474e-004,\n",
       "       6.26026557e-001, 2.26844507e-027, 4.30331528e-215, 5.42349469e-061,\n",
       "       8.08022756e-021, 1.43217795e-033, 1.23359655e-027, 4.49575132e-115,\n",
       "       5.66128914e-056, 5.02033129e-032, 3.76788412e-194, 1.90304233e-014,\n",
       "       1.56779009e-009, 7.04837852e-096, 1.35038206e-030, 2.20532730e-004,\n",
       "       2.92625567e-025, 9.86606458e-120, 3.06541463e-070, 1.85051754e-005,\n",
       "       4.05959149e-048, 1.58084274e-050, 4.70467753e-103, 9.82357528e-176,\n",
       "       9.17464004e-012, 2.47322292e-029, 1.09257811e-037, 1.69695724e-062,\n",
       "       8.69180437e-086, 2.64853039e-208, 2.55017704e-010, 9.56202375e-014,\n",
       "       3.26015392e-020, 2.78708836e-035, 1.94683188e-026, 5.31010573e-003,\n",
       "       1.03061699e-003, 4.65988516e-012, 3.44238603e-026, 2.16928254e-128,\n",
       "       7.53812947e-011, 6.03521053e-049, 2.33375062e-012, 1.95889562e-073,\n",
       "       2.10586973e-103, 7.41023966e-041, 2.18733675e-011, 1.62058052e-036,\n",
       "       9.72931483e-008, 1.40028728e-009, 3.67687645e-083, 2.22735607e-030,\n",
       "       2.94799073e-010, 9.79955856e-040, 7.64425777e-021, 2.58143094e-008,\n",
       "       2.57541850e-019, 4.27912028e-001, 7.28472262e-006, 1.17123181e-128,\n",
       "       1.95708273e-099, 2.86904000e-094, 7.68739670e-051, 0.00000000e+000,\n",
       "       2.06432151e-026, 1.63125849e-029, 1.22795319e-001, 2.66902936e-004,\n",
       "       3.27143842e-015, 4.50488743e-220, 3.31818466e-031, 2.22247420e-125,\n",
       "       4.84951242e-187, 4.13518739e-167, 1.44807130e-015, 1.66632649e-007,\n",
       "       4.20769203e-020, 8.73970175e-072, 1.74348804e-039, 7.07408417e-058,\n",
       "       1.05383800e-016, 3.45301069e-095, 1.17115909e-169, 5.44886840e-107,\n",
       "       1.17269896e-005, 2.20023700e-040, 1.96306492e-067, 1.26412366e-047,\n",
       "       9.49655960e-002, 1.19680841e-035, 5.08011414e-062, 7.33825781e-006,\n",
       "       1.96143916e-016, 3.53617058e-024, 5.87296312e-071, 6.50626616e-180,\n",
       "       3.15343431e-042, 1.29897549e-116, 9.50247216e-062, 3.15937805e-065,\n",
       "       4.33347512e-014, 3.39585721e-047, 2.20674226e-017, 1.66795935e-030,\n",
       "       3.36654739e-027, 9.38821862e-047, 1.79091680e-122, 9.91532390e-139,\n",
       "       3.21236741e-033, 1.10420498e-023, 3.97170557e-091, 1.17675032e-241,\n",
       "       1.27928121e-053, 9.83585427e-055, 4.27041095e-038, 1.40432709e-012,\n",
       "       1.53454374e-044, 4.61288314e-011, 2.12893361e-038, 6.33747899e+000,\n",
       "       2.77898889e-118, 1.77385703e-005, 2.05786989e-172, 6.15627878e-153,\n",
       "       2.88178476e-071, 1.09643673e-003, 1.52434874e-097, 3.03117281e-145,\n",
       "       3.36540126e-053, 5.80391969e-115, 5.62022215e-195, 9.15239991e+000,\n",
       "       2.72868586e-030, 1.89914063e-062, 1.42661046e-037, 9.45636803e-203,\n",
       "       1.61393328e-028, 1.28618677e-005, 1.84647167e-212, 4.40450632e-065,\n",
       "       3.99324656e-076, 1.14640904e-035, 3.58559318e-004, 2.32013537e-070,\n",
       "       4.84482241e-085, 5.62030647e-085, 9.25599816e-122, 1.73198892e-262,\n",
       "       2.03171006e-060, 3.62324165e-028, 1.20714666e-057, 1.12554408e-010,\n",
       "       6.78240074e-047, 1.15842394e-029, 1.45395189e-005, 8.20101514e-046,\n",
       "       1.33739220e-035, 1.04746019e-039, 3.08843073e+000, 3.21052673e-174,\n",
       "       8.96194871e-060, 5.86229845e-040, 2.50053795e-016, 9.09143250e-024,\n",
       "       3.08786266e-102, 2.14626442e-016, 9.56824461e-132, 2.79039746e-019,\n",
       "       4.64119301e-013, 1.75582959e-066, 0.00000000e+000, 2.96214082e-243,\n",
       "       9.79376827e-041, 2.00283100e-050, 1.17514477e-023, 6.57088639e-070,\n",
       "       1.76825426e-043, 4.17412148e-010, 4.91580601e-025, 1.11706503e-057,\n",
       "       2.08997798e-258, 4.90907068e-025, 2.61941424e-001, 1.46391077e-002,\n",
       "       1.02438021e-015, 4.13161842e-148, 6.75618800e-107, 2.12642573e-020,\n",
       "       4.39939311e-029, 1.46799019e-058, 4.30259108e-191, 1.15360554e-158,\n",
       "       6.57978817e-070, 4.42171563e-279, 3.00126657e-111, 3.53528422e-276,\n",
       "       1.20231035e-085, 3.98098281e-081, 3.08722766e-002, 4.79469613e-046,\n",
       "       5.14517649e-003, 1.93704605e-029, 2.04053589e-192, 8.10246774e-008,\n",
       "       8.74790880e-009, 2.78278258e-235, 1.54700555e-018, 9.31992536e-100,\n",
       "       6.14832636e-003, 4.27931270e-127, 9.60917579e-006, 1.24544276e-028,\n",
       "       5.27231725e-019, 7.55088434e-025, 1.28683876e-041, 1.51569847e-012,\n",
       "       1.84421802e-030, 1.93901334e-043, 2.15652296e-038, 9.46981628e-011,\n",
       "       1.48419347e-013, 3.48813451e-037, 8.84832142e-075, 1.54840534e-008,\n",
       "       1.11248672e-005, 1.02823020e-066, 4.41537633e-035, 8.50097255e-005,\n",
       "       1.10634640e-244, 3.48902118e-043, 4.88115293e-003, 1.09655903e-028,\n",
       "       2.93169366e-023, 1.20188385e-078, 5.56844462e-071, 3.78011028e-091,\n",
       "       1.64989074e-104, 1.55061950e-024, 3.66665383e-031, 1.86037221e-095,\n",
       "       5.50289003e-009, 8.40992591e-006, 3.09299835e-152, 1.70805559e-056,\n",
       "       1.43938292e-041, 4.01251773e-049, 9.11674562e-133, 2.53421482e-040,\n",
       "       6.10321079e-119, 2.62020569e-024, 8.19139817e-035, 1.18937890e-072,\n",
       "       4.39466826e-248, 2.48015021e-061, 4.91038356e-195, 1.00786196e-032,\n",
       "       7.00288835e-075, 1.02035160e-211, 3.42170612e-002, 2.82839976e-013,\n",
       "       2.76135947e-041, 3.24850629e-016, 1.80222204e-004, 3.47075820e-025,\n",
       "       2.17870636e-032, 1.37393788e-048, 2.68030248e-080, 3.84171035e-064,\n",
       "       2.22917367e-107, 1.08662774e-040, 0.00000000e+000, 3.65936015e-038,\n",
       "       2.43330931e-047, 3.08822369e-125, 1.17850727e-080, 1.59218046e-038,\n",
       "       2.13017008e-120, 3.88132344e-014, 2.76119775e-002, 5.96008567e-014,\n",
       "       4.66332708e-006, 4.80251402e-066, 6.38341033e-007, 5.92310212e-060,\n",
       "       1.91051897e-101, 6.76637000e-055, 6.72989877e-032, 1.93885287e-024,\n",
       "       2.99401670e-090, 2.22375580e-041, 4.93963800e-066, 2.77707521e-010,\n",
       "       2.37106682e-078, 5.39393501e-124, 1.34211434e-083, 4.27132802e-022,\n",
       "       1.48306706e-023, 4.39650976e-058, 2.41421604e+000, 2.86714544e-053,\n",
       "       4.38569419e-105, 1.42838515e-136, 2.33422732e-010, 5.69484286e-085,\n",
       "       1.98562862e-014, 1.98893914e-037, 1.73817808e-005, 6.42837592e-102,\n",
       "       1.32411328e-020, 2.21896248e-038, 4.12241062e-078, 1.29813075e-002,\n",
       "       3.26621804e-011, 1.76664567e-187, 1.45087035e-270, 4.63973340e-037,\n",
       "       5.79082781e-058, 3.55577367e-033, 2.77467461e-025, 1.12301092e-051,\n",
       "       1.31153255e-022, 1.08796716e-114, 7.43599437e-079, 1.34360187e+001,\n",
       "       2.44202555e-027, 8.58291908e-068, 1.11460235e-017, 7.34146509e-025,\n",
       "       1.37851143e-005, 1.15244662e-082, 1.36809310e-023, 1.04121401e-025,\n",
       "       5.70610026e-031, 3.69985320e-030, 1.03239517e-093, 1.28113187e-002,\n",
       "       1.09939009e-006, 2.79476795e-091, 2.55090617e-089, 5.89848023e-154,\n",
       "       1.14160002e+000, 2.40889216e-030, 2.30050501e-085, 1.47502283e-044,\n",
       "       8.72959870e-060, 3.62162123e-127, 6.25154574e-105, 6.42039601e-046,\n",
       "       2.49136771e-036, 2.27834563e-113, 8.71465101e-092, 4.59577649e-030,\n",
       "       2.56643081e-094, 4.24170398e-002, 9.19432543e-021, 3.32853997e-115,\n",
       "       1.87581074e-047, 5.66589700e-018, 1.76431476e-042, 1.68299957e-020,\n",
       "       3.61241918e-008, 1.13954844e-027, 8.09103534e-025, 4.33538536e-141,\n",
       "       2.76985904e-093, 2.32562626e-212, 2.42204545e-163, 1.33961929e-005,\n",
       "       8.35699251e-055, 1.20520851e-042, 1.89866169e-036, 5.35285778e-036,\n",
       "       2.10513080e-105, 1.41958264e-041, 1.60495760e-007, 1.28671669e+001,\n",
       "       6.47925878e-009, 1.47036102e-062, 1.97607485e-032, 2.51225864e-093,\n",
       "       1.61674819e-026, 5.35388955e-085, 6.01996724e-016, 5.66074958e-009,\n",
       "       8.05714206e-146, 1.07495807e-026, 5.78169086e-004, 3.47967816e-026,\n",
       "       1.65927783e-030, 7.61073532e-073, 4.07800946e-040, 1.79546957e-134,\n",
       "       5.94492087e-010, 6.83251720e-132, 8.19431971e-022, 2.66672189e-006,\n",
       "       4.09958727e-168, 1.29844311e-014, 2.68078622e-228, 1.81028533e-009,\n",
       "       9.30350111e-043, 5.44290750e-266, 2.26748483e-002, 3.36276378e-029,\n",
       "       2.08547922e-075, 1.26320664e-041, 1.55565561e-015, 1.12685877e-079,\n",
       "       1.23450341e-020, 3.67560018e-092, 1.65931737e-292, 1.58547111e-011,\n",
       "       1.61753707e-088, 3.32494168e-034, 3.11152458e-135, 4.45703458e-027,\n",
       "       2.27364375e-109, 2.22814351e-005, 2.56349848e-099, 7.72836766e-013,\n",
       "       2.91435093e-083, 1.90640221e-016, 2.16367794e-028, 2.38460437e-069,\n",
       "       1.81709367e-010, 1.79775642e-032, 9.61232706e-020, 4.88769712e-058,\n",
       "       1.26926263e-044, 7.13185319e-002, 2.89639320e-067, 5.11414803e-044,\n",
       "       4.57471989e-099, 2.00848192e-202, 7.60466472e-005, 5.47375476e-072,\n",
       "       2.43159851e-015, 3.51947502e-029, 6.95889375e-095, 2.97517665e-014,\n",
       "       1.74604683e-011, 9.59447373e-022, 6.95120167e-067, 1.23242436e-021,\n",
       "       1.16172688e-019, 9.39367760e-010, 4.25077257e-208, 7.06087632e-011,\n",
       "       2.34816588e-069, 1.08746388e-017, 1.75701589e-036, 1.45449644e-012,\n",
       "       3.14070402e-010, 1.22850663e-059, 9.13242580e-020, 1.27344134e-006,\n",
       "       1.84154583e-016, 3.77278751e+000, 6.07985028e-069, 7.04173160e-083,\n",
       "       1.22245611e-011, 3.17706074e-008, 6.07490543e-017, 1.58710990e-190,\n",
       "       3.87929995e-011, 2.89283410e-031, 4.77375851e-016, 2.11352487e-087,\n",
       "       1.07611750e-015, 1.40581815e-041, 9.75046503e-049, 4.26577696e-052,\n",
       "       3.20715962e-011, 8.35834625e-103, 0.00000000e+000, 2.35470189e-007,\n",
       "       3.24269031e-028, 5.80665913e-098, 4.50282290e-016, 4.05060937e-016,\n",
       "       1.83271460e-137, 9.20075611e-036, 1.09826656e-272, 6.97149794e-115,\n",
       "       1.33758718e-161, 1.10912346e-073, 2.34127536e-061, 4.88987132e-053,\n",
       "       1.58365018e-074, 6.50696203e-107, 1.28927441e-293, 1.99281360e+000,\n",
       "       9.37179570e-087, 1.55824118e-021, 2.93310784e-019, 2.60966861e-030,\n",
       "       1.14727928e-002, 2.01450375e-048, 2.12782161e-007, 8.02546531e-078,\n",
       "       1.36331162e-067, 1.12495098e-021, 1.74727625e-007, 1.31518657e-014,\n",
       "       4.23724047e-046, 6.69227616e-022, 3.24384188e-080, 8.99461427e-052,\n",
       "       2.03907959e-043, 1.35197884e-022, 3.85768823e-188, 2.26078227e-038,\n",
       "       4.67324404e-064, 1.46717422e-034, 3.22238760e-005, 1.63671216e-031,\n",
       "       2.52116575e-099, 8.05595061e-178, 1.42668502e-028, 9.06442581e-073,\n",
       "       3.78993813e-035, 6.20420003e-012, 4.92825421e-147, 8.04247794e-035,\n",
       "       2.42140549e-076, 2.07849632e-061, 2.10162421e-047, 1.86889896e-036,\n",
       "       3.83628382e-044, 2.72553490e-022, 3.87464256e-102, 9.32812977e-084,\n",
       "       1.35175049e-131, 3.17999867e-052, 2.45645220e-107, 3.48839360e-060,\n",
       "       2.52316827e-022, 1.28985116e-003, 1.51035393e-092, 3.36488907e-119,\n",
       "       4.29830509e-025, 5.74169835e-019, 6.73695547e-097, 5.60000153e-019,\n",
       "       9.76011342e-002, 2.57916091e-067, 8.50407383e-029, 4.87740957e-007,\n",
       "       6.27747018e-095, 1.59860585e-112, 1.12235897e-024, 1.52274249e-046,\n",
       "       2.44012870e-087, 4.25159706e-124, 9.99560970e-093, 1.10742090e-014,\n",
       "       1.79533832e-001, 3.45331537e-151, 2.70537653e-008, 3.35047644e-018,\n",
       "       3.57138851e-083, 5.66315380e-003, 1.06038578e-042, 6.02372924e-003,\n",
       "       3.53392899e-018, 1.12749112e-111, 1.59877619e-026, 1.11773367e-052,\n",
       "       1.37098342e-050, 2.38953041e-010, 1.22096416e-020, 5.01001741e-017,\n",
       "       2.60768506e-163, 3.50123611e-112, 2.53873538e-024, 1.31992926e-077,\n",
       "       2.43433669e-091, 1.55345655e-162, 9.58224923e-066, 5.18768643e-015,\n",
       "       1.60351548e-052, 3.98922099e-028, 5.73221871e-055, 2.94175014e-194,\n",
       "       4.96936569e-246, 9.42884164e-018, 7.70922950e-044, 4.03620786e-032,\n",
       "       1.62077160e-181, 1.98481498e-107, 6.32468181e-219, 3.43024559e-033,\n",
       "       2.97242881e-019, 1.58109180e-150, 3.14370975e-048, 4.03278458e-070,\n",
       "       3.78987871e-004, 2.10909168e-067, 1.97101966e-024, 1.64404000e-031,\n",
       "       1.77433038e-033, 4.36251070e-135, 7.17828421e-056, 4.78583621e-014,\n",
       "       7.98255837e-002, 4.83457651e-012, 5.16529627e-095, 3.90662814e-009,\n",
       "       7.74316065e-026, 3.32425319e-080, 8.70349257e-108, 3.69579505e-121,\n",
       "       7.11851638e-049, 1.98806296e-028, 3.25522576e-016, 7.15348109e-019,\n",
       "       9.37388177e-183, 3.05943581e-008, 9.41488886e-015, 3.22669959e-090,\n",
       "       4.48002348e-040, 2.70371539e-088, 2.45276353e-127, 5.77441243e-078,\n",
       "       4.76050219e-008, 5.79437758e-070, 3.73944330e-018, 2.31776417e-052,\n",
       "       3.43493134e-094, 9.56859886e-013, 1.33501951e-051, 4.20860061e-042,\n",
       "       7.80877513e-087, 2.07265994e-085, 3.78423280e-050, 9.50767260e-036,\n",
       "       4.75604332e-054, 5.34340020e-135, 3.34982947e-032, 8.00566254e-050,\n",
       "       2.88316667e-041, 1.95664720e-060, 1.90829675e-091, 2.43846990e-132,\n",
       "       1.10825422e-031, 8.41706749e-019, 3.36535921e-093, 9.95168966e-021,\n",
       "       2.57262961e-031, 2.44595634e-013, 2.77889878e-018, 1.15570721e-007,\n",
       "       7.01552933e-045, 7.66684050e-069, 1.41453779e-105, 2.75803877e-018,\n",
       "       1.95961288e-029, 4.67125081e-023, 8.76640540e-101, 2.91965412e-003,\n",
       "       1.76654385e-002, 3.95159052e-017, 6.14768949e-008, 1.89717406e-006,\n",
       "       6.16204902e-016, 2.77363589e-110, 1.21709029e-003, 1.99980030e-018,\n",
       "       7.47816130e-029, 9.03322385e-014, 5.65403604e-008, 3.28117478e-034,\n",
       "       3.99684156e-129, 2.58379457e-004, 5.68487659e-042, 2.82900927e-056,\n",
       "       4.35888070e-027, 2.85717251e-033, 2.26458543e-030, 9.29639047e-035,\n",
       "       6.49955657e-075, 1.11826464e-003, 2.11978154e-011, 3.14986036e-047,\n",
       "       2.59721778e-013, 6.26912285e-032, 4.88772554e-013, 2.37463831e+000,\n",
       "       2.48694345e-003, 3.12017867e-215, 6.46807966e-170, 2.91359828e-049,\n",
       "       1.17515682e-058, 3.90532805e-006, 1.52902593e-082, 3.77174722e-008,\n",
       "       8.49272728e-017, 1.26195238e-015, 3.46580993e-081, 3.43863326e-080,\n",
       "       2.11274782e-050, 9.88003027e-084, 3.20057781e-073, 3.31472382e-024,\n",
       "       1.95011809e-211, 1.43267527e-082, 2.02134761e-079, 4.36141190e-147,\n",
       "       3.08368416e-019, 6.12969774e-138, 5.68307445e-241, 5.94057585e-013,\n",
       "       1.77906859e-036, 6.71508533e-079, 5.71895103e-092, 1.42713445e-047,\n",
       "       5.17864903e-084, 2.24648394e-267, 2.79348502e-011, 1.48814884e-007,\n",
       "       1.87756111e-037, 2.97084017e-117, 1.79372971e-155, 2.83813235e-118,\n",
       "       3.66134609e-004, 2.98643415e-013, 9.27318817e-183, 6.84998424e-026,\n",
       "       1.12696337e-037, 2.65262275e-053, 5.59020086e-002, 4.34946413e-095,\n",
       "       8.78354668e-054, 6.01840243e-035, 7.94851775e-100, 2.78309964e-005,\n",
       "       1.14134715e-087, 7.41541769e-166, 5.41372690e-060, 1.99319997e-020,\n",
       "       1.37062907e-074, 5.68420480e-034, 1.17936309e-063, 1.86549015e-158,\n",
       "       2.72052746e-051, 1.80376265e-040, 2.16638356e-057, 6.90629695e-113,\n",
       "       2.21673077e-020, 7.36245358e-034, 1.26942395e-042, 2.05633356e-035,\n",
       "       6.02829054e-032, 7.51128751e-025, 2.68427891e-119, 2.55388834e-033,\n",
       "       2.62134455e-025, 2.49886760e-005, 7.75929388e-132, 7.27696942e-009,\n",
       "       5.35314468e-016, 1.46690514e-036, 4.64158166e-123, 9.44671052e-103,\n",
       "       1.94849932e-005, 1.23657724e-050, 1.15767674e-006, 2.15005676e-061,\n",
       "       4.43214930e-120, 4.71281489e-037, 3.76373267e-026, 3.20777169e-190,\n",
       "       3.37492859e-032, 1.14196579e-026, 9.32419392e-005, 1.40145531e-212,\n",
       "       1.67464335e-092, 1.65290778e-009, 8.79545160e-014, 1.83536510e-008,\n",
       "       3.00047764e-019, 1.91258153e-042, 1.61930816e-083, 7.19187463e-037,\n",
       "       8.95412216e-026, 3.50785789e-024, 1.91003166e-011, 2.95542906e-064,\n",
       "       3.82823065e-015, 5.83458589e-140, 9.62903752e-006, 9.54772795e-087])"
      ]
     },
     "execution_count": 19,
     "metadata": {},
     "output_type": "execute_result"
    }
   ],
   "source": [
    "# your answer here\n",
    "# Hint: This is same as saying P(x<15)\n",
    "\n",
    "expon.pdf(x, 0, (1/15))"
   ]
  },
  {
   "cell_type": "markdown",
   "metadata": {},
   "source": [
    "What is the probability that the customer will spend more than 15 minutes!"
   ]
  },
  {
   "cell_type": "code",
   "execution_count": 15,
   "metadata": {},
   "outputs": [],
   "source": [
    "# your answer here"
   ]
  },
  {
   "cell_type": "code",
   "execution_count": null,
   "metadata": {},
   "outputs": [],
   "source": []
  }
 ],
 "metadata": {
  "kernelspec": {
   "display_name": "Python 3",
   "language": "python",
   "name": "python3"
  },
  "language_info": {
   "codemirror_mode": {
    "name": "ipython",
    "version": 3
   },
   "file_extension": ".py",
   "mimetype": "text/x-python",
   "name": "python",
   "nbconvert_exporter": "python",
   "pygments_lexer": "ipython3",
   "version": "3.8.3"
  }
 },
 "nbformat": 4,
 "nbformat_minor": 2
}
